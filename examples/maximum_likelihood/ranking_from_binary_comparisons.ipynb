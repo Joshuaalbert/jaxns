{
 "cells": [
  {
   "cell_type": "markdown",
   "metadata": {
    "collapsed": true,
    "pycharm": {
     "name": "#%% md\n"
    }
   },
   "source": [
    "## Ranking from Binary Comparisons\n",
    "\n",
    "In this task there are a set $\\mathcal{O}$ of $N$ objects with some intrinsic value $v : \\mathcal{O} \\to \\mathbb{R}$, and $M$ raters who can determine relative ordering of value between two objects, $r : \\mathcal{O} \\times \\mathcal{O} \\to \\{0, 1\\}$. That is, the raters are not able to measure the value of each object or even the relative value between objects. Rather, they can only say whether one objects value is higher or lower than another. In this example we do not allow raters to assign equal value between objects.\n",
    "\n",
    "Each rater provides $Q$ ratings between $Q$ random unique pairs of objects, and has a chance $p$ of getting it wrong. For rater $i$, and objects $j$ and $k$, define the rating $r_ijk$ as 1 if $v(o_j) > v(o_k)$ and 0 otherwise.\n",
    "\n",
    "The objective of the experimenter is to deduce the relative value of each object on a given scale.\n",
    "\n",
    "In this example, we will let that scale be the 5 star rating system, so that each object in $\\mathcal{O}$ will be assigned on a value in $[1, 5]$ (inclusive).\n",
    "\n",
    "To do this we apply a prior that each object $o_i \\in \\mathcal{O}$ has a value $v(o_i) \\triangleq v_i \\sim \\mathcal{U}[1,5]$, and then form a likelihood which is the sum of violated constraints.\n",
    "\n",
    "\n",
    "$L(v_{i:T}) = \\sum_{ijk} r_{ijk} \\mathbb{1}(v(o_j) < v(o_k))$"
   ]
  },
  {
   "cell_type": "code",
   "execution_count": 1,
   "metadata": {
    "pycharm": {
     "name": "#%%\n"
    }
   },
   "outputs": [
    {
     "name": "stderr",
     "output_type": "stream",
     "text": [
      "<frozen importlib._bootstrap>:219: RuntimeWarning: scipy._lib.messagestream.MessageStream size changed, may indicate binary incompatibility. Expected 56 from C header, got 64 from PyObject\n"
     ]
    }
   ],
   "source": [
    "from jax import numpy as jnp, random, jit\n",
    "from jaxns import GlobalOptimiser, PriorChain\n",
    "from jaxns import save_results, marginalise_dynamic\n",
    "from jaxns.prior_transforms import UniformPrior\n",
    "from itertools import combinations"
   ]
  },
  {
   "cell_type": "code",
   "execution_count": 2,
   "metadata": {
    "pycharm": {
     "name": "#%%\n"
    }
   },
   "outputs": [],
   "source": [
    "\n",
    "\n",
    "def get_constraints(num_options, num_raters, tests_per_rater, rater_accuracy):\n",
    "    key, true_key = random.split(random.PRNGKey(47573957), 2)\n",
    "    actual_rank = random.uniform(true_key,shape=(num_options,),minval=1., maxval=5.)\n",
    "\n",
    "    pairs = jnp.asarray(list(combinations(range(num_options), 2)))\n",
    "    I = []\n",
    "    J = []\n",
    "    S = []\n",
    "    errors = []\n",
    "    for rater in range(num_raters):\n",
    "        key, sample_key1, sample_key2, sample_key3 = random.split(key, 4)\n",
    "        choices = random.choice(sample_key1,pairs.shape[0], shape=(tests_per_rater,), replace=False)\n",
    "        I.append(pairs[choices,0])\n",
    "        J.append(pairs[choices,1])\n",
    "\n",
    "        rate_error = random.normal(sample_key1, shape=(tests_per_rater,))*rater_accuracy\n",
    "        difference_guess = actual_rank[I[-1]] - actual_rank[J[-1]]\n",
    "        guess = difference_guess + rate_error > 0.\n",
    "        errors.append((difference_guess>0) != guess)\n",
    "        S.append(guess)\n",
    "\n",
    "    return actual_rank, jnp.concatenate(I),jnp.concatenate(J),jnp.concatenate(S), jnp.concatenate(errors)"
   ]
  },
  {
   "cell_type": "code",
   "execution_count": 3,
   "metadata": {
    "pycharm": {
     "name": "#%%\n"
    }
   },
   "outputs": [
    {
     "name": "stderr",
     "output_type": "stream",
     "text": [
      "INFO[2022-04-10 19:28:13,718]: Unable to initialize backend 'tpu_driver': NOT_FOUND: Unable to find driver in registry given worker: \n",
      "INFO[2022-04-10 19:28:13,719]: Unable to initialize backend 'gpu': NOT_FOUND: Could not find registered platform with name: \"cuda\". Available platform names are: Interpreter Host\n",
      "INFO[2022-04-10 19:28:13,719]: Unable to initialize backend 'tpu': INVALID_ARGUMENT: TpuPlatform is not available.\n",
      "WARNING[2022-04-10 19:28:13,720]: No GPU/TPU found, falling back to CPU. (Set TF_CPP_MIN_LOG_LEVEL=0 and rerun for more info.)\n"
     ]
    },
    {
     "name": "stdout",
     "output_type": "stream",
     "text": [
      "Number of rater errors: 8\n"
     ]
    }
   ],
   "source": [
    "\n",
    "num_options=50\n",
    "num_raters=20\n",
    "tests_per_rater=20\n",
    "rater_accuracy=0.1\n",
    "\n",
    "actual_rank, I, J, S, errors = get_constraints(num_options, num_raters, tests_per_rater, rater_accuracy)\n",
    "print(f\"Number of rater errors: {jnp.sum(errors)}\")"
   ]
  },
  {
   "cell_type": "code",
   "execution_count": 4,
   "metadata": {
    "pycharm": {
     "name": "#%%\n"
    }
   },
   "outputs": [],
   "source": [
    "\n",
    "def log_likelihood(rank):\n",
    "    order = rank[I] > rank[J]\n",
    "    violations = jnp.sum(order != S)\n",
    "    return -violations\n",
    "\n",
    "with PriorChain() as prior_chain:\n",
    "    UniformPrior('rank', jnp.ones(num_options), 5*jnp.ones(num_options))\n",
    "\n",
    "go = GlobalOptimiser(loglikelihood=log_likelihood,\n",
    "                   prior_chain=prior_chain,\n",
    "                     samples_per_step=prior_chain.U_ndims*20)\n",
    "\n",
    "results = jit(go)(random.PRNGKey(32564),\n",
    "             termination_frac_likelihood_improvement=1e-3,\n",
    "             termination_patience=3,\n",
    "             termination_max_num_likelihood_evaluations=20e6)"
   ]
  },
  {
   "cell_type": "code",
   "execution_count": 5,
   "metadata": {
    "pycharm": {
     "name": "#%%\n"
    }
   },
   "outputs": [
    {
     "name": "stdout",
     "output_type": "stream",
     "text": [
      "--------\n",
      "Termination Conditions:\n",
      "Used max num likelihood evaluations\n",
      "--------\n",
      "# likelihood evals: 20001065\n",
      "# samples: 26769\n",
      "# likelihood evals / sample: 747.2\n",
      "--------\n",
      "Maximum logL=-48.0\n",
      "--------\n",
      "rank[#]: max(L) est.\n",
      "rank[0]: 3.91\n",
      "rank[1]: 4.38\n",
      "rank[2]: 4.66\n",
      "rank[3]: 4.14\n",
      "rank[4]: 3.07\n",
      "rank[5]: 2.31\n",
      "rank[6]: 3.31\n",
      "rank[7]: 2.48\n",
      "rank[8]: 2.01\n",
      "rank[9]: 2.21\n",
      "rank[10]: 4.8\n",
      "rank[11]: 2.25\n",
      "rank[12]: 1.74\n",
      "rank[13]: 4.79\n",
      "rank[14]: 4.85\n",
      "rank[15]: 1.95\n",
      "rank[16]: 2.88\n",
      "rank[17]: 1.92\n",
      "rank[18]: 4.18\n",
      "rank[19]: 1.04\n",
      "rank[20]: 3.9\n",
      "rank[21]: 3.7\n",
      "rank[22]: 4.01\n",
      "rank[23]: 3.79\n",
      "rank[24]: 1.32\n",
      "rank[25]: 4.01\n",
      "rank[26]: 3.98\n",
      "rank[27]: 2.6\n",
      "rank[28]: 3.36\n",
      "rank[29]: 4.19\n",
      "rank[30]: 1.84\n",
      "rank[31]: 2.66\n",
      "rank[32]: 3.27\n",
      "rank[33]: 1.28\n",
      "rank[34]: 2.63\n",
      "rank[35]: 1.54\n",
      "rank[36]: 1.96\n",
      "rank[37]: 1.2\n",
      "rank[38]: 2.87\n",
      "rank[39]: 2.14\n",
      "rank[40]: 3.32\n",
      "rank[41]: 2.39\n",
      "rank[42]: 2.58\n",
      "rank[43]: 3.33\n",
      "rank[44]: 2.53\n",
      "rank[45]: 3.33\n",
      "rank[46]: 4.34\n",
      "rank[47]: 1.04\n",
      "rank[48]: 1.13\n",
      "rank[49]: 2.91\n",
      "--------\n"
     ]
    },
    {
     "data": {
      "text/plain": [
       "'--------\\nTermination Conditions:\\nUsed max num likelihood evaluations\\n--------\\n# likelihood evals: 20001065\\n# samples: 26769\\n# likelihood evals / sample: 747.2\\n--------\\nMaximum logL=-48.0\\n--------\\nrank[#]: max(L) est.\\nrank[0]: 3.91\\nrank[1]: 4.38\\nrank[2]: 4.66\\nrank[3]: 4.14\\nrank[4]: 3.07\\nrank[5]: 2.31\\nrank[6]: 3.31\\nrank[7]: 2.48\\nrank[8]: 2.01\\nrank[9]: 2.21\\nrank[10]: 4.8\\nrank[11]: 2.25\\nrank[12]: 1.74\\nrank[13]: 4.79\\nrank[14]: 4.85\\nrank[15]: 1.95\\nrank[16]: 2.88\\nrank[17]: 1.92\\nrank[18]: 4.18\\nrank[19]: 1.04\\nrank[20]: 3.9\\nrank[21]: 3.7\\nrank[22]: 4.01\\nrank[23]: 3.79\\nrank[24]: 1.32\\nrank[25]: 4.01\\nrank[26]: 3.98\\nrank[27]: 2.6\\nrank[28]: 3.36\\nrank[29]: 4.19\\nrank[30]: 1.84\\nrank[31]: 2.66\\nrank[32]: 3.27\\nrank[33]: 1.28\\nrank[34]: 2.63\\nrank[35]: 1.54\\nrank[36]: 1.96\\nrank[37]: 1.2\\nrank[38]: 2.87\\nrank[39]: 2.14\\nrank[40]: 3.32\\nrank[41]: 2.39\\nrank[42]: 2.58\\nrank[43]: 3.33\\nrank[44]: 2.53\\nrank[45]: 3.33\\nrank[46]: 4.34\\nrank[47]: 1.04\\nrank[48]: 1.13\\nrank[49]: 2.91\\n--------'"
      ]
     },
     "execution_count": 5,
     "metadata": {},
     "output_type": "execute_result"
    }
   ],
   "source": [
    "go.summary(results)"
   ]
  },
  {
   "cell_type": "code",
   "execution_count": 6,
   "metadata": {
    "pycharm": {
     "name": "#%%\n"
    }
   },
   "outputs": [
    {
     "name": "stdout",
     "output_type": "stream",
     "text": [
      "Number of violations at maximum likelihood estimate: 48.0\n",
      "Number of violations at actual rank: 8\n",
      "Option 0: True rank=3.9682798385620117, L_Max rank=3.9116954803466797\n",
      "Option 1: True rank=4.861865520477295, L_Max rank=4.3837385177612305\n",
      "Option 2: True rank=4.602080821990967, L_Max rank=4.658151149749756\n",
      "Option 3: True rank=4.625879287719727, L_Max rank=4.141659259796143\n",
      "Option 4: True rank=2.1947169303894043, L_Max rank=3.069035530090332\n",
      "Option 5: True rank=2.5244269371032715, L_Max rank=2.310236930847168\n",
      "Option 6: True rank=3.381387710571289, L_Max rank=3.30857253074646\n",
      "Option 7: True rank=4.326211929321289, L_Max rank=2.484434127807617\n",
      "Option 8: True rank=2.9776535034179688, L_Max rank=2.0072994232177734\n",
      "Option 9: True rank=2.9064841270446777, L_Max rank=2.205993175506592\n",
      "Option 10: True rank=2.7344398498535156, L_Max rank=4.795685768127441\n",
      "Option 11: True rank=1.8382315635681152, L_Max rank=2.25339412689209\n",
      "Option 12: True rank=2.1450705528259277, L_Max rank=1.7399377822875977\n",
      "Option 13: True rank=4.314085483551025, L_Max rank=4.793401718139648\n",
      "Option 14: True rank=4.969908714294434, L_Max rank=4.849310398101807\n",
      "Option 15: True rank=2.5730929374694824, L_Max rank=1.9514963626861572\n",
      "Option 16: True rank=3.4362802505493164, L_Max rank=2.8802146911621094\n",
      "Option 17: True rank=1.0577459335327148, L_Max rank=1.9230501651763916\n",
      "Option 18: True rank=3.6956658363342285, L_Max rank=4.178122520446777\n",
      "Option 19: True rank=1.2111048698425293, L_Max rank=1.037187099456787\n",
      "Option 20: True rank=3.199453353881836, L_Max rank=3.9045422077178955\n",
      "Option 21: True rank=3.5390472412109375, L_Max rank=3.6969668865203857\n",
      "Option 22: True rank=3.913243293762207, L_Max rank=4.0078277587890625\n",
      "Option 23: True rank=3.372415065765381, L_Max rank=3.790642499923706\n",
      "Option 24: True rank=2.2049336433410645, L_Max rank=1.3184579610824585\n",
      "Option 25: True rank=4.460463523864746, L_Max rank=4.0120849609375\n",
      "Option 26: True rank=3.6573405265808105, L_Max rank=3.976389169692993\n",
      "Option 27: True rank=1.9321002960205078, L_Max rank=2.603364944458008\n",
      "Option 28: True rank=3.761977195739746, L_Max rank=3.363863945007324\n",
      "Option 29: True rank=4.228379249572754, L_Max rank=4.188806533813477\n",
      "Option 30: True rank=1.5206832885742188, L_Max rank=1.8447632789611816\n",
      "Option 31: True rank=2.4879188537597656, L_Max rank=2.6590044498443604\n",
      "Option 32: True rank=3.198500633239746, L_Max rank=3.2717013359069824\n",
      "Option 33: True rank=1.0324482917785645, L_Max rank=1.276397705078125\n",
      "Option 34: True rank=2.069490909576416, L_Max rank=2.626471996307373\n",
      "Option 35: True rank=2.208327293395996, L_Max rank=1.5376269817352295\n",
      "Option 36: True rank=1.6824402809143066, L_Max rank=1.9580936431884766\n",
      "Option 37: True rank=2.167229175567627, L_Max rank=1.1980465650558472\n",
      "Option 38: True rank=2.775156021118164, L_Max rank=2.8655457496643066\n",
      "Option 39: True rank=3.108215808868408, L_Max rank=2.1353530883789062\n",
      "Option 40: True rank=3.644895076751709, L_Max rank=3.3158581256866455\n",
      "Option 41: True rank=3.5472970008850098, L_Max rank=2.39025616645813\n",
      "Option 42: True rank=1.4067435264587402, L_Max rank=2.584743022918701\n",
      "Option 43: True rank=4.5402116775512695, L_Max rank=3.3251407146453857\n",
      "Option 44: True rank=3.290086269378662, L_Max rank=2.534029483795166\n",
      "Option 45: True rank=3.2984652519226074, L_Max rank=3.3292648792266846\n",
      "Option 46: True rank=3.8185133934020996, L_Max rank=4.342540740966797\n",
      "Option 47: True rank=1.3974952697753906, L_Max rank=1.0358192920684814\n",
      "Option 48: True rank=1.859910011291504, L_Max rank=1.1258361339569092\n",
      "Option 49: True rank=3.42454195022583, L_Max rank=2.9137778282165527\n"
     ]
    }
   ],
   "source": [
    "# The maximum likelihood estimate has to fewest violation\n",
    "\n",
    "rank_L_max_estimate = results.sample_L_max['rank']\n",
    "log_L_max = results.log_L_max\n",
    "print(f\"Number of violations at maximum likelihood estimate: {-log_L_max}\")\n",
    "\n",
    "# Compare to median of posterior\n",
    "\n",
    "log_L_actual = log_likelihood(actual_rank)\n",
    "print(f\"Number of violations at actual rank: {-log_L_actual}\")\n",
    "\n",
    "for i in range(num_options):\n",
    "    print(f\"Option {i}: True rank={actual_rank[i]}, L_Max rank={rank_L_max_estimate[i]}\")"
   ]
  },
  {
   "cell_type": "code",
   "execution_count": 7,
   "metadata": {
    "pycharm": {
     "name": "#%%\n"
    }
   },
   "outputs": [
    {
     "name": "stdout",
     "output_type": "stream",
     "text": [
      "Avgerage ordering abs diff: 6.920000076293945\n",
      "True rank = 40, max(L) rank = 37\n",
      "True rank = 48, max(L) rank = 45\n",
      "True rank = 46, max(L) rank = 46\n",
      "True rank = 47, max(L) rank = 41\n",
      "True rank = 13, max(L) rank = 27\n",
      "True rank = 17, max(L) rank = 16\n",
      "True rank = 29, max(L) rank = 29\n",
      "True rank = 43, max(L) rank = 18\n",
      "True rank = 22, max(L) rank = 12\n",
      "True rank = 21, max(L) rank = 14\n",
      "True rank = 19, max(L) rank = 48\n",
      "True rank = 7, max(L) rank = 15\n",
      "True rank = 11, max(L) rank = 7\n",
      "True rank = 42, max(L) rank = 47\n",
      "True rank = 49, max(L) rank = 49\n",
      "True rank = 18, max(L) rank = 10\n",
      "True rank = 31, max(L) rank = 25\n",
      "True rank = 1, max(L) rank = 9\n",
      "True rank = 36, max(L) rank = 42\n",
      "True rank = 2, max(L) rank = 1\n",
      "True rank = 25, max(L) rank = 36\n",
      "True rank = 32, max(L) rank = 34\n",
      "True rank = 39, max(L) rank = 39\n",
      "True rank = 28, max(L) rank = 35\n",
      "True rank = 14, max(L) rank = 5\n",
      "True rank = 44, max(L) rank = 40\n",
      "True rank = 35, max(L) rank = 38\n",
      "True rank = 9, max(L) rank = 21\n",
      "True rank = 37, max(L) rank = 33\n",
      "True rank = 41, max(L) rank = 43\n",
      "True rank = 5, max(L) rank = 8\n",
      "True rank = 16, max(L) rank = 23\n",
      "True rank = 24, max(L) rank = 28\n",
      "True rank = 0, max(L) rank = 4\n",
      "True rank = 10, max(L) rank = 22\n",
      "True rank = 15, max(L) rank = 6\n",
      "True rank = 6, max(L) rank = 11\n",
      "True rank = 12, max(L) rank = 3\n",
      "True rank = 20, max(L) rank = 24\n",
      "True rank = 23, max(L) rank = 13\n",
      "True rank = 34, max(L) rank = 30\n",
      "True rank = 33, max(L) rank = 17\n",
      "True rank = 4, max(L) rank = 20\n",
      "True rank = 45, max(L) rank = 31\n",
      "True rank = 26, max(L) rank = 19\n",
      "True rank = 27, max(L) rank = 32\n",
      "True rank = 38, max(L) rank = 44\n",
      "True rank = 3, max(L) rank = 0\n",
      "True rank = 8, max(L) rank = 2\n",
      "True rank = 30, max(L) rank = 26\n"
     ]
    }
   ],
   "source": [
    "# Lets set what the relative order is.\n",
    "ordering_L_max = jnp.argsort(jnp.argsort(rank_L_max_estimate))\n",
    "ordering_true = jnp.argsort(jnp.argsort(actual_rank))\n",
    "avg_order_diff = jnp.abs(ordering_L_max - ordering_true).mean()\n",
    "print(f\"Avgerage ordering abs diff: {avg_order_diff}\")\n",
    "for i in range(num_options):\n",
    "    print(f\"True rank = {ordering_true[i]}, max(L) rank = {ordering_L_max[i]}\")"
   ]
  },
  {
   "cell_type": "code",
   "execution_count": null,
   "metadata": {
    "pycharm": {
     "name": "#%%\n"
    }
   },
   "outputs": [],
   "source": []
  }
 ],
 "metadata": {
  "kernelspec": {
   "display_name": "Python 3 (ipykernel)",
   "language": "python",
   "name": "python3"
  },
  "language_info": {
   "codemirror_mode": {
    "name": "ipython",
    "version": 3
   },
   "file_extension": ".py",
   "mimetype": "text/x-python",
   "name": "python",
   "nbconvert_exporter": "python",
   "pygments_lexer": "ipython3",
   "version": "3.8.5"
  }
 },
 "nbformat": 4,
 "nbformat_minor": 1
}