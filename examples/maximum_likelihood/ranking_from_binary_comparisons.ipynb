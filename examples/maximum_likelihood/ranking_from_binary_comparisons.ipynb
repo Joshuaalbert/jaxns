{
 "cells": [
  {
   "cell_type": "markdown",
   "metadata": {
    "collapsed": true,
    "pycharm": {
     "name": "#%% md\n"
    }
   },
   "source": [
    "## Ranking from Binary Comparisons\n",
    "\n",
    "In this task there are a set $\\mathcal{O}$ of $N$ objects with some intrinsic value $v : \\mathcal{O} \\to \\mathbb{R}$, and $M$ raters who can determine relative ordering of value between two objects, $r : \\mathcal{O} \\times \\mathcal{O} \\to \\{0, 1\\}$. That is, the raters are not able to measure the value of each object or even the relative value between objects. Rather, they can only say whether one objects value is higher or lower than another. In this example we do not allow raters to assign equal value between objects.\n",
    "\n",
    "Each rater provides $Q$ ratings between $Q$ random unique pairs of objects, and has a chance $p$ of getting it wrong. For rater $i$, and objects $j$ and $k$, define the rating $r_ijk$ as 1 if $v(o_j) > v(o_k)$ and 0 otherwise.\n",
    "\n",
    "The objective of the experimenter is to deduce the relative value of each object on a given scale.\n",
    "\n",
    "In this example, we will let that scale be the 5 star rating system, so that each object in $\\mathcal{O}$ will be assigned on a value in $[1, 5]$ (inclusive).\n",
    "\n",
    "To do this we apply a prior that each object $o_i \\in \\mathcal{O}$ has a value $v(o_i) \\triangleq v_i \\sim \\mathcal{U}[1,5]$, and then form a likelihood which is the sum of violated constraints.\n",
    "\n",
    "\n",
    "$L(v_{i:T}) = \\sum_{ijk} r_{ijk} \\mathbb{1}(v(o_j) < v(o_k))$"
   ]
  },
  {
   "cell_type": "code",
   "execution_count": 1,
   "outputs": [],
   "source": [
    "from jax import numpy as jnp, random, jit\n",
    "from jaxns import NestedSampler, PriorChain\n",
    "from jaxns import save_results, load_results, marginalise_dynamic\n",
    "from jaxns.prior_transforms import UniformPrior\n",
    "from jaxns.plotting import plot_diagnostics, plot_cornerplot\n",
    "from jaxns.utils import summary, resample\n",
    "from itertools import combinations"
   ],
   "metadata": {
    "collapsed": false,
    "pycharm": {
     "name": "#%%\n"
    }
   }
  },
  {
   "cell_type": "code",
   "execution_count": 2,
   "outputs": [],
   "source": [
    "\n",
    "\n",
    "def get_constraints(num_options, num_raters, tests_per_rater, p_wrong):\n",
    "    key, true_key = random.split(random.PRNGKey(47573957), 2)\n",
    "    actual_rank = random.uniform(true_key,shape=(num_options,),minval=1., maxval=5.)\n",
    "\n",
    "    pairs = jnp.asarray(list(combinations(range(num_options), 2)), dtype=jnp.int_)\n",
    "    I = []\n",
    "    J = []\n",
    "    S = []\n",
    "    for rater in range(num_raters):\n",
    "        key, sample_key1, sample_key2, sample_key3 = random.split(key, 4)\n",
    "        choices = random.choice(sample_key1,pairs.shape[0], shape=(tests_per_rater,), replace=False)\n",
    "        I.append(pairs[choices,0])\n",
    "        J.append(pairs[choices,1])\n",
    "        guess = jnp.where(random.uniform(sample_key1) < p_wrong,\n",
    "                        actual_rank[I[-1]] < actual_rank[J[-1]], # wrong\n",
    "        actual_rank[I[-1]] > actual_rank[J[-1]] # right\n",
    "                          )\n",
    "        S.append(guess)\n",
    "\n",
    "    return actual_rank, jnp.concatenate(I),jnp.concatenate(J),jnp.concatenate(S)"
   ],
   "metadata": {
    "collapsed": false,
    "pycharm": {
     "name": "#%%\n"
    }
   }
  },
  {
   "cell_type": "code",
   "execution_count": 3,
   "outputs": [
    {
     "name": "stderr",
     "output_type": "stream",
     "text": [
      "WARNING[2022-04-01 13:58:19,215]: No GPU/TPU found, falling back to CPU. (Set TF_CPP_MIN_LOG_LEVEL=0 and rerun for more info.)\n",
      "/home/albert/miniconda3/envs/jax_py/lib/python3.8/site-packages/jax/_src/numpy/lax_numpy.py:2983: UserWarning: Explicitly requested dtype <class 'jax._src.numpy.lax_numpy.int64'> requested in asarray is not available, and will be truncated to dtype int32. To enable more dtypes, set the jax_enable_x64 configuration option or the JAX_ENABLE_X64 shell environment variable. See https://github.com/google/jax#current-gotchas for more.\n",
      "  lax._check_user_dtype_supported(dtype, \"asarray\")\n"
     ]
    }
   ],
   "source": [
    "\n",
    "num_options=10\n",
    "num_raters=20\n",
    "tests_per_rater=3\n",
    "p_wrong=0.1\n",
    "\n",
    "actual_rank, I, J, S = get_constraints(num_options, num_raters, tests_per_rater, p_wrong=p_wrong)"
   ],
   "metadata": {
    "collapsed": false,
    "pycharm": {
     "name": "#%%\n"
    }
   }
  },
  {
   "cell_type": "code",
   "execution_count": null,
   "outputs": [
    {
     "name": "stderr",
     "output_type": "stream",
     "text": [
      "/home/albert/miniconda3/envs/jax_py/lib/python3.8/site-packages/jax/_src/numpy/lax_numpy.py:3035: UserWarning: Explicitly requested dtype <class 'jax._src.numpy.lax_numpy.float64'> requested in zeros is not available, and will be truncated to dtype float32. To enable more dtypes, set the jax_enable_x64 configuration option or the JAX_ENABLE_X64 shell environment variable. See https://github.com/google/jax#current-gotchas for more.\n",
      "  lax._check_user_dtype_supported(dtype, \"zeros\")\n",
      "WARNING[2022-04-01 13:58:24,036]: Increasing max_samples (100000) by 1000 to evenly divide samples_per_step\n",
      "/home/albert/miniconda3/envs/jax_py/lib/python3.8/site-packages/jax/_src/numpy/lax_numpy.py:2983: UserWarning: Explicitly requested dtype <class 'jax._src.numpy.lax_numpy.float64'> requested in asarray is not available, and will be truncated to dtype float32. To enable more dtypes, set the jax_enable_x64 configuration option or the JAX_ENABLE_X64 shell environment variable. See https://github.com/google/jax#current-gotchas for more.\n",
      "  lax._check_user_dtype_supported(dtype, \"asarray\")\n",
      "/home/albert/miniconda3/envs/jax_py/lib/python3.8/site-packages/jax/_src/numpy/lax_numpy.py:5589: UserWarning: Explicitly requested dtype <class 'jax._src.numpy.lax_numpy.float64'> requested in astype is not available, and will be truncated to dtype float32. To enable more dtypes, set the jax_enable_x64 configuration option or the JAX_ENABLE_X64 shell environment variable. See https://github.com/google/jax#current-gotchas for more.\n",
      "  lax._check_user_dtype_supported(dtype, \"astype\")\n",
      "/home/albert/miniconda3/envs/jax_py/lib/python3.8/site-packages/jax/_src/numpy/lax_numpy.py:2983: UserWarning: Explicitly requested dtype <class 'jax._src.numpy.lax_numpy.int64'> requested in asarray is not available, and will be truncated to dtype int32. To enable more dtypes, set the jax_enable_x64 configuration option or the JAX_ENABLE_X64 shell environment variable. See https://github.com/google/jax#current-gotchas for more.\n",
      "  lax._check_user_dtype_supported(dtype, \"asarray\")\n",
      "/home/albert/miniconda3/envs/jax_py/lib/python3.8/site-packages/jax/_src/numpy/lax_numpy.py:3008: UserWarning: Explicitly requested dtype <class 'jax._src.numpy.lax_numpy.float64'> requested in full is not available, and will be truncated to dtype float32. To enable more dtypes, set the jax_enable_x64 configuration option or the JAX_ENABLE_X64 shell environment variable. See https://github.com/google/jax#current-gotchas for more.\n",
      "  lax._check_user_dtype_supported(dtype, \"full\")\n",
      "/home/albert/miniconda3/envs/jax_py/lib/python3.8/site-packages/jax/_src/numpy/lax_numpy.py:3008: UserWarning: Explicitly requested dtype <class 'jax._src.numpy.lax_numpy.int64'> requested in full is not available, and will be truncated to dtype int32. To enable more dtypes, set the jax_enable_x64 configuration option or the JAX_ENABLE_X64 shell environment variable. See https://github.com/google/jax#current-gotchas for more.\n",
      "  lax._check_user_dtype_supported(dtype, \"full\")\n",
      "/home/albert/miniconda3/envs/jax_py/lib/python3.8/site-packages/jax/_src/numpy/lax_numpy.py:2983: UserWarning: Explicitly requested dtype <class 'jax._src.numpy.lax_numpy.float64'> requested in asarray is not available, and will be truncated to dtype float32. To enable more dtypes, set the jax_enable_x64 configuration option or the JAX_ENABLE_X64 shell environment variable. See https://github.com/google/jax#current-gotchas for more.\n",
      "  lax._check_user_dtype_supported(dtype, \"asarray\")\n",
      "/home/albert/miniconda3/envs/jax_py/lib/python3.8/site-packages/jax/_src/numpy/lax_numpy.py:5589: UserWarning: Explicitly requested dtype <class 'jax._src.numpy.lax_numpy.int64'> requested in astype is not available, and will be truncated to dtype int32. To enable more dtypes, set the jax_enable_x64 configuration option or the JAX_ENABLE_X64 shell environment variable. See https://github.com/google/jax#current-gotchas for more.\n",
      "  lax._check_user_dtype_supported(dtype, \"astype\")\n",
      "/home/albert/miniconda3/envs/jax_py/lib/python3.8/site-packages/jax/_src/numpy/lax_numpy.py:5589: UserWarning: Explicitly requested dtype <class 'jax._src.numpy.lax_numpy.float64'> requested in astype is not available, and will be truncated to dtype float32. To enable more dtypes, set the jax_enable_x64 configuration option or the JAX_ENABLE_X64 shell environment variable. See https://github.com/google/jax#current-gotchas for more.\n",
      "  lax._check_user_dtype_supported(dtype, \"astype\")\n",
      "/home/albert/miniconda3/envs/jax_py/lib/python3.8/site-packages/jax/_src/numpy/lax_numpy.py:3008: UserWarning: Explicitly requested dtype <class 'jax._src.numpy.lax_numpy.int64'> requested in full is not available, and will be truncated to dtype int32. To enable more dtypes, set the jax_enable_x64 configuration option or the JAX_ENABLE_X64 shell environment variable. See https://github.com/google/jax#current-gotchas for more.\n",
      "  lax._check_user_dtype_supported(dtype, \"full\")\n",
      "/home/albert/miniconda3/envs/jax_py/lib/python3.8/site-packages/jax/_src/numpy/lax_numpy.py:3035: UserWarning: Explicitly requested dtype <class 'jax._src.numpy.lax_numpy.int64'> requested in zeros is not available, and will be truncated to dtype int32. To enable more dtypes, set the jax_enable_x64 configuration option or the JAX_ENABLE_X64 shell environment variable. See https://github.com/google/jax#current-gotchas for more.\n",
      "  lax._check_user_dtype_supported(dtype, \"zeros\")\n",
      "/home/albert/miniconda3/envs/jax_py/lib/python3.8/site-packages/jax/_src/numpy/lax_numpy.py:5589: UserWarning: Explicitly requested dtype <class 'jax._src.numpy.lax_numpy.float64'> requested in astype is not available, and will be truncated to dtype float32. To enable more dtypes, set the jax_enable_x64 configuration option or the JAX_ENABLE_X64 shell environment variable. See https://github.com/google/jax#current-gotchas for more.\n",
      "  lax._check_user_dtype_supported(dtype, \"astype\")\n",
      "/home/albert/miniconda3/envs/jax_py/lib/python3.8/site-packages/jax/_src/numpy/lax_numpy.py:3008: UserWarning: Explicitly requested dtype <class 'jax._src.numpy.lax_numpy.int64'> requested in full is not available, and will be truncated to dtype int32. To enable more dtypes, set the jax_enable_x64 configuration option or the JAX_ENABLE_X64 shell environment variable. See https://github.com/google/jax#current-gotchas for more.\n",
      "  lax._check_user_dtype_supported(dtype, \"full\")\n",
      "/home/albert/miniconda3/envs/jax_py/lib/python3.8/site-packages/jax/_src/numpy/lax_numpy.py:2983: UserWarning: Explicitly requested dtype <class 'jax._src.numpy.lax_numpy.int64'> requested in asarray is not available, and will be truncated to dtype int32. To enable more dtypes, set the jax_enable_x64 configuration option or the JAX_ENABLE_X64 shell environment variable. See https://github.com/google/jax#current-gotchas for more.\n",
      "  lax._check_user_dtype_supported(dtype, \"asarray\")\n"
     ]
    }
   ],
   "source": [
    "\n",
    "def log_likelihood(rank):\n",
    "    order = rank[I] > rank[J]\n",
    "    violations = jnp.sum(order != S)\n",
    "    return -violations\n",
    "\n",
    "with PriorChain() as prior_chain:\n",
    "    UniformPrior('rank', jnp.ones(num_options), 5*jnp.ones(num_options))\n",
    "\n",
    "ns = NestedSampler(loglikelihood=log_likelihood,\n",
    "                   prior_chain=prior_chain,\n",
    "                   sampler_kwargs=dict(gradient_boost=True))\n",
    "\n",
    "results = ns(random.PRNGKey(32564),\n",
    "             termination_max_num_steps=40,\n",
    "             maximise_likelihood=True)\n",
    "save_results(results, 'ranking_save.npz')\n",
    "# results = load_results('ranking_save.npz')"
   ],
   "metadata": {
    "collapsed": false,
    "pycharm": {
     "name": "#%%\n",
     "is_executing": true
    }
   }
  },
  {
   "cell_type": "code",
   "execution_count": null,
   "outputs": [],
   "source": [
    "\n",
    "summary(results)\n",
    "plot_diagnostics(results)\n",
    "plot_cornerplot(results, vars=['rank'])"
   ],
   "metadata": {
    "collapsed": false,
    "pycharm": {
     "name": "#%%\n",
     "is_executing": true
    }
   }
  },
  {
   "cell_type": "code",
   "execution_count": null,
   "outputs": [],
   "source": [
    "# The maximum likelihood estimate has to fewest violation\n",
    "\n",
    "rank_L_max_estimate = results.sample_L_max['rank']\n",
    "log_L_max = results.log_L_max\n",
    "print(f\"Number of violations at maximum likelihood estimate: {-log_L_max}\")\n",
    "\n",
    "# Compare to median of posterior\n",
    "samples = resample(random.PRNGKey(245944), results.samples, results.log_dp_mean, S=int(results.ESS))\n",
    "rank_median_estimate = jnp.median(samples['rank'], axis=0)\n",
    "log_L_median_post = log_likelihood(rank_median_estimate)\n",
    "print(f\"Number of violations at median of posterior: {-log_L_median_post}\")\n",
    "\n",
    "log_L_actual = log_likelihood(actual_rank)\n",
    "print(f\"Number of violations at actual rank: {-log_L_actual}\")\n",
    "\n",
    "for i in range(num_options):\n",
    "    print(f\"Option {i}: True rank={actual_rank[i]}, L_Max rank={rank_L_max_estimate[i]}, median posterior rank={rank_median_estimate[i]}\")"
   ],
   "metadata": {
    "collapsed": false,
    "pycharm": {
     "name": "#%%\n",
     "is_executing": true
    }
   }
  },
  {
   "cell_type": "code",
   "execution_count": null,
   "outputs": [],
   "source": [
    "# Lets set what the relative order is.\n",
    "# Posterior predictive ordering\n",
    "ordering_marginalised = marginalise_dynamic(random.PRNGKey(42), results.samples, results.log_dp_mean, results.ESS, lambda rank: jnp.argsort(rank))\n",
    "ordering_L_max = jnp.argsort(rank_L_max_estimate)\n",
    "ordering_median_posterior = jnp.argsort(rank_median_estimate)\n",
    "ordering_true = jnp.argsort(actual_rank)\n",
    "for i in range(num_options):\n",
    "    print(f\"True rank = {ordering_true[i]}, max(L) rank = {ordering_L_max[i]}, mean_posterior_ordering={ordering_median_posterior[i]}, marinalised rank= {ordering_marginalised[i]}\")"
   ],
   "metadata": {
    "collapsed": false,
    "pycharm": {
     "name": "#%%\n",
     "is_executing": true
    }
   }
  },
  {
   "cell_type": "code",
   "execution_count": null,
   "outputs": [],
   "source": [],
   "metadata": {
    "collapsed": false,
    "pycharm": {
     "name": "#%%\n",
     "is_executing": true
    }
   }
  }
 ],
 "metadata": {
  "kernelspec": {
   "display_name": "Python 3",
   "language": "python",
   "name": "python3"
  },
  "language_info": {
   "codemirror_mode": {
    "name": "ipython",
    "version": 2
   },
   "file_extension": ".py",
   "mimetype": "text/x-python",
   "name": "python",
   "nbconvert_exporter": "python",
   "pygments_lexer": "ipython2",
   "version": "2.7.6"
  }
 },
 "nbformat": 4,
 "nbformat_minor": 0
}