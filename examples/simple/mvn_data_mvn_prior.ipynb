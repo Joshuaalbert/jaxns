{
 "cells": [
  {
   "cell_type": "markdown",
   "source": [
    "# Multivariate Normal Likelihood with Multivariate Normal Prior\n",
    "\n",
    "This is a simple model where our data, $y$, is modelled as a multivariate normal RV with uncorrelated noise.\n",
    "\n",
    "$L(x) = p(y | x) = \\mathcal{N}[y \\mid x,\\Sigma]$\n",
    "\n",
    "and\n",
    "\n",
    "$p(x) = \\mathcal{N}[x \\mid \\mu, \\sigma^2 \\mathbf{I}]$.\n",
    "\n",
    "The analytic evidence for this model is,\n",
    "\n",
    "$Z = p(y) = \\mathcal{N}[y \\mid \\mu, \\Sigma + \\sigma^2 \\mathbf{I}]$\n",
    "\n",
    "The posterior is also a multivariate normal distribution,\n",
    "\n",
    "$p(x \\mid y) = \\mathcal{N}[\\mu', \\Sigma']$\n",
    "\n",
    "where\n",
    "\n",
    "$\\mu' = \\sigma^2 \\mathbf{I} (\\sigma^2 \\mathbf{I} + \\Sigma)^{-1} y + \\Sigma (\n",
    "    \\sigma^2 \\mathbf{I} + \\Sigma)^{-1}  \\mu$\n",
    "\n",
    "and\n",
    "\n",
    "$\\Sigma' = \\sigma^2 \\mathbf{I}  (\\sigma^2 \\mathbf{I}  + \\Sigma)^{-1} \\Sigma$\n"
   ],
   "metadata": {
    "collapsed": false,
    "pycharm": {
     "name": "#%% md\n"
    }
   }
  },
  {
   "cell_type": "code",
   "execution_count": null,
   "outputs": [],
   "source": [
    "\n",
    "from timeit import default_timer\n",
    "\n",
    "from jax import numpy as jnp\n",
    "from jax import random, jit\n",
    "from jax.scipy.linalg import solve_triangular\n",
    "\n",
    "from jaxns import MVNPrior\n",
    "from jaxns import NestedSampler, save_results\n",
    "from jaxns import plot_cornerplot, plot_diagnostics\n",
    "from jaxns import summary, marginalise_dynamic\n",
    "from jaxns.prior_transforms.prior_chain import PriorChain"
   ],
   "metadata": {
    "collapsed": false,
    "pycharm": {
     "name": "#%%\n"
    }
   }
  },
  {
   "cell_type": "code",
   "execution_count": null,
   "outputs": [],
   "source": [
    "def log_normal(x, mean, cov):\n",
    "    L = jnp.linalg.cholesky(cov)\n",
    "    dx = x - mean\n",
    "    dx = solve_triangular(L, dx, lower=True)\n",
    "    return -0.5 * x.size * jnp.log(2. * jnp.pi) - jnp.sum(jnp.log(jnp.diag(L))) - 0.5 * dx @ dx\n",
    "\n",
    "\n",
    "# define our data and prior\n",
    "ndims = 3\n",
    "prior_mu = 2 * jnp.ones(ndims)\n",
    "prior_cov = jnp.diag(jnp.ones(ndims)) ** 2\n",
    "\n",
    "data_mu = jnp.zeros(ndims)\n",
    "data_cov = jnp.diag(jnp.ones(ndims)) ** 2\n",
    "data_cov = jnp.where(data_cov == 0., 0.99, data_cov)\n",
    "\n",
    "true_logZ = log_normal(data_mu, prior_mu, prior_cov + data_cov)\n",
    "\n",
    "J = jnp.linalg.solve(data_cov + prior_cov, prior_cov)\n",
    "post_mu = prior_mu + J.T @ (data_mu - prior_mu)\n",
    "post_cov = prior_cov - J.T @ (prior_cov + data_cov) @ J\n",
    "\n",
    "print(\"True logZ={}\".format(true_logZ))\n",
    "print(\"True post_mu={}\".format(post_mu))\n",
    "print(\"True post_cov={}\".format(post_cov))\n"
   ],
   "metadata": {
    "collapsed": false,
    "pycharm": {
     "name": "#%%\n"
    }
   }
  },
  {
   "cell_type": "code",
   "execution_count": null,
   "outputs": [],
   "source": [
    "\n",
    "\n",
    "# A PriorChain holds the definition of your prior. A number of priors are provided, and really complex ones are easy to implement.\n",
    "\n",
    "# Simple use a PriorChain context like so to define your prior RVs.\n",
    "with PriorChain() as prior_chain:\n",
    "    MVNPrior('x', prior_mu, prior_cov)\n",
    "\n",
    "# We can print the prior model like so. This will should the generative structure of the model, the dtypes, and shapes of RVs.\n",
    "# In this case, it's a simple MVNPrior as defined above.\n",
    "print(prior_chain)\n",
    "\n",
    "# Note: you'll see _x_Sigma and _x_mu RVs. These are singular RVs (as shown by their DeltaPrior distributions). In JAXNS every parameter of a model can be a RV, which allows us to define complex hierarchical models."
   ],
   "metadata": {
    "collapsed": false,
    "pycharm": {
     "name": "#%%\n"
    }
   }
  },
  {
   "cell_type": "code",
   "execution_count": null,
   "outputs": [],
   "source": [
    "# The likelihood is a callable that will take\n",
    "def log_likelihood(x):\n",
    "    return log_normal(x, data_mu, data_cov)\n",
    "\n"
   ],
   "metadata": {
    "collapsed": false,
    "pycharm": {
     "name": "#%%\n"
    }
   }
  },
  {
   "cell_type": "code",
   "execution_count": null,
   "outputs": [],
   "source": [
    "# Create the nested sampler class. In this case without any tuning.\n",
    "# gradient_boost=True will assist in situations with strongly correlated posteriors\n",
    "ns = NestedSampler(log_likelihood, prior_chain)\n",
    "# jit compile\n",
    "ns = jit(ns)\n",
    "results = ns(random.PRNGKey(4525325), adaptive_evidence_patience=2)\n"
   ],
   "metadata": {
    "collapsed": false,
    "pycharm": {
     "name": "#%%\n"
    }
   }
  },
  {
   "cell_type": "code",
   "execution_count": null,
   "outputs": [],
   "source": [
    "# We can use the summary utility to display results\n",
    "summary(results)"
   ],
   "metadata": {
    "collapsed": false,
    "pycharm": {
     "name": "#%%\n"
    }
   }
  },
  {
   "cell_type": "code",
   "execution_count": null,
   "outputs": [],
   "source": [
    "# We plot useful diagnostics and a distribution cornerplot\n",
    "plot_diagnostics(results)\n",
    "plot_cornerplot(results)"
   ],
   "metadata": {
    "collapsed": false,
    "pycharm": {
     "name": "#%%\n"
    }
   }
  },
  {
   "cell_type": "code",
   "execution_count": null,
   "outputs": [],
   "source": [
    "\n",
    "# We can always save results to play with later\n",
    "save_results(results, 'save.npz')\n",
    "# loads previous results by uncommenting below\n",
    "# results = load_results('save.npz')\n"
   ],
   "metadata": {
    "collapsed": false,
    "pycharm": {
     "name": "#%%\n"
    }
   }
  },
  {
   "cell_type": "code",
   "execution_count": null,
   "outputs": [],
   "source": [
    "# Since our `ns` callable is already jit-compiled we can measure its performance.\n",
    "\n",
    "# now we time the run.\n",
    "t0 = default_timer()\n",
    "# run again and time it. You can change the key, and run a few times to get a statistic estimate too.\n",
    "results = ns(random.PRNGKey(4525325), adaptive_evidence_patience=2)\n",
    "# Here we block unti completion on any array in result.\n",
    "results.log_efficiency.block_until_ready()\n",
    "run_time = default_timer() - t0\n",
    "\n",
    "print(f\"Total run time: {run_time} s\")"
   ],
   "metadata": {
    "collapsed": false,
    "pycharm": {
     "name": "#%%\n"
    }
   }
  },
  {
   "cell_type": "code",
   "execution_count": null,
   "outputs": [],
   "source": [
    "# Let us now consider how to marginalise over the posterior.\n",
    "\n",
    "def param_mean(x):\n",
    "    return x\n",
    "\n",
    "\n",
    "post_mean = marginalise_dynamic(random.PRNGKey(42),\n",
    "                                samples=results.samples,\n",
    "                                log_weights=results.log_dp_mean,\n",
    "                                ESS=results.ESS,\n",
    "                                fun=param_mean)\n",
    "\n",
    "\n",
    "def param_covariance(x):\n",
    "    dx = x - post_mean\n",
    "    return jnp.outer(dx, dx)\n",
    "\n",
    "\n",
    "post_covariance = marginalise_dynamic(random.PRNGKey(42),\n",
    "                                      samples=results.samples,\n",
    "                                      log_weights=results.log_dp_mean,\n",
    "                                      ESS=results.ESS,\n",
    "                                      fun=param_covariance)\n",
    "\n",
    "print(f\"Estimated posterior mean:\\n{post_mean}\")\n",
    "print(f\"True posterior mean:\\n{post_mu}\")\n",
    "\n",
    "print(f\"Estimated posterior covariance:\\n{post_covariance}\")\n",
    "print(f\"True posterior covariance:\\n{post_cov}\")"
   ],
   "metadata": {
    "collapsed": false,
    "pycharm": {
     "name": "#%%\n"
    }
   }
  },
  {
   "cell_type": "code",
   "execution_count": null,
   "outputs": [],
   "source": [],
   "metadata": {
    "collapsed": false,
    "pycharm": {
     "name": "#%%\n"
    }
   }
  },
  {
   "cell_type": "code",
   "execution_count": null,
   "metadata": {},
   "outputs": [],
   "source": []
  }
 ],
 "metadata": {
  "kernelspec": {
   "display_name": "Python 3 (ipykernel)",
   "language": "python",
   "name": "python3"
  },
  "language_info": {
   "codemirror_mode": {
    "name": "ipython",
    "version": 3
   },
   "file_extension": ".py",
   "mimetype": "text/x-python",
   "name": "python",
   "nbconvert_exporter": "python",
   "pygments_lexer": "ipython3",
   "version": "3.10.6"
  }
 },
 "nbformat": 4,
 "nbformat_minor": 1
}