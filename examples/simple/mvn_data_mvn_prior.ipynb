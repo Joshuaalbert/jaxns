{
 "cells": [
  {
   "cell_type": "markdown",
   "source": [
    "# Multivariate Normal Likelihood with Multivariate Normal Prior\n",
    "\n",
    "This is a simple model where our data, $y$, is modelled as a multivariate normal RV with uncorrelated noise.\n",
    "\n",
    "$L(x) = P(y | x) = \\mathcal{N}[y \\mid x,\\Sigma]$\n",
    "\n",
    "and\n",
    "\n",
    "$P(x) = \\mathcal{N}[x \\mid \\mu, \\sigma^2 \\mathbf{I}]$.\n",
    "\n",
    "The analytic evidence for this model is,\n",
    "\n",
    "$Z = P(y) = \\int_\\mathcal{X} L(x) p(x) \\,\\mathrm{d} x = \\mathcal{N}[y \\mid \\mu, \\Sigma + \\sigma^2 \\mathbf{I}]$\n",
    "\n",
    "The posterior is also a multivariate normal distribution,\n",
    "\n",
    "$P(x \\mid y) = \\mathcal{N}[\\mu', \\Sigma']$\n",
    "\n",
    "where\n",
    "\n",
    "$\\mu' = \\sigma^2 \\mathbf{I} (\\sigma^2 \\mathbf{I} + \\Sigma)^{-1} y + \\Sigma (\n",
    "    \\sigma^2 \\mathbf{I} + \\Sigma)^{-1}  \\mu$\n",
    "\n",
    "and\n",
    "\n",
    "$\\Sigma' = \\sigma^2 \\mathbf{I}  (\\sigma^2 \\mathbf{I}  + \\Sigma)^{-1} \\Sigma$\n",
    "\n",
    "## Overview\n",
    "\n",
    "We'll cover the following topics:\n",
    "\n",
    "1. How to define your prior with a `PriorChain` context.\n",
    "2. How to define your likelihood\n",
    "3. How to compute Bayesian evidence of your model with standard nested sampling (without much tuning of parameters).\n",
    "4. How to inspect and plot your results.\n",
    "5. How to save and load your results.\n",
    "6. How to time your execution.\n",
    "7. How to marginalise over the posterior."
   ],
   "metadata": {
    "collapsed": false,
    "pycharm": {
     "name": "#%% md\n"
    }
   }
  },
  {
   "cell_type": "code",
   "execution_count": 1,
   "metadata": {
    "collapsed": true
   },
   "outputs": [],
   "source": [
    "\n",
    "from jaxns.nested_sampler.nested_sampling import NestedSampler, save_results, load_results\n",
    "from jaxns.prior_transforms import PriorChain, MVNPrior\n",
    "from jaxns.utils import summary, marginalise_dynamic\n",
    "from jaxns.plotting import plot_cornerplot, plot_diagnostics\n",
    "from jax.scipy.linalg import solve_triangular\n",
    "from jax import random, jit\n",
    "from jax import numpy as jnp\n",
    "from timeit import default_timer"
   ]
  },
  {
   "cell_type": "code",
   "execution_count": 2,
   "outputs": [
    {
     "name": "stderr",
     "output_type": "stream",
     "text": [
      "INFO[2022-03-03 01:24:16,770]: Unable to initialize backend 'tpu_driver': NOT_FOUND: Unable to find driver in registry given worker: \n",
      "INFO[2022-03-03 01:24:16,771]: Unable to initialize backend 'gpu': NOT_FOUND: Could not find registered platform with name: \"cuda\". Available platform names are: Host Interpreter\n",
      "INFO[2022-03-03 01:24:16,772]: Unable to initialize backend 'tpu': INVALID_ARGUMENT: TpuPlatform is not available.\n",
      "WARNING[2022-03-03 01:24:16,773]: No GPU/TPU found, falling back to CPU. (Set TF_CPP_MIN_LOG_LEVEL=0 and rerun for more info.)\n"
     ]
    },
    {
     "name": "stdout",
     "output_type": "stream",
     "text": [
      "True logZ=-4.96494452855757\n",
      "True post_mu=[1.49748744 1.49748744 1.49748744]\n"
     ]
    }
   ],
   "source": [
    "def log_normal(x, mean, cov):\n",
    "    L = jnp.linalg.cholesky(cov)\n",
    "    dx = x - mean\n",
    "    dx = solve_triangular(L, dx, lower=True)\n",
    "    return -0.5 * x.size * jnp.log(2. * jnp.pi) - jnp.sum(jnp.log(jnp.diag(L))) \\\n",
    "           - 0.5 * dx @ dx\n",
    "\n",
    "# define our data and prior\n",
    "ndims = 3\n",
    "prior_mu = 2 * jnp.ones(ndims)\n",
    "prior_cov = jnp.diag(jnp.ones(ndims)) ** 2\n",
    "\n",
    "data_mu = jnp.zeros(ndims)\n",
    "data_cov = jnp.diag(jnp.ones(ndims)) ** 2\n",
    "data_cov = jnp.where(data_cov == 0., 0.99, data_cov)\n",
    "\n",
    "true_logZ = log_normal(data_mu, prior_mu, prior_cov + data_cov)\n",
    "\n",
    "post_mu = prior_cov @ jnp.linalg.inv(prior_cov + data_cov) @ data_mu + data_cov @ jnp.linalg.inv(\n",
    "    prior_cov + data_cov) @ prior_mu\n",
    "post_cov = prior_cov @ jnp.linalg.inv(prior_cov + data_cov) @ data_cov\n",
    "\n",
    "print(\"True logZ={}\".format(true_logZ))\n",
    "print(\"True post_mu={}\".format(post_mu))\n"
   ],
   "metadata": {
    "collapsed": false,
    "pycharm": {
     "name": "#%%\n"
    }
   }
  },
  {
   "cell_type": "code",
   "execution_count": 3,
   "outputs": [
    {
     "name": "stdout",
     "output_type": "stream",
     "text": [
      "_x_Sigma ~ float64(3, 3) : DeltaPrior(array<(3, 3)>)\n",
      "_x_mu ~ float64(3,) : DeltaPrior(array<(3,)>)\n",
      "x ~ float64(3,) : MVNPrior(_x_mu,_x_Sigma)\n"
     ]
    }
   ],
   "source": [
    "# A PriorChain holds the definition of your prior. A number of priors are provided, and really complex ones are easy to implement.\n",
    "\n",
    "# Simple use a PriorChain context like so to define your prior RVs.\n",
    "with PriorChain() as prior_chain:\n",
    "    MVNPrior('x', prior_mu, prior_cov)\n",
    "\n",
    "# We can print the prior model like so. This will should the generative structure of the model, the dtypes, and shapes of RVs.\n",
    "# In this case, it's a simple MVNPrior as defined above.\n",
    "print(prior_chain)\n",
    "\n",
    "# Note: you'll see _x_Sigma and _x_mu RVs. These are singular RVs (as shown by their DeltaPrior distributions). In JAXNS every parameter of a model can be a RV, which allows us to define complex hierarchical models."
   ],
   "metadata": {
    "collapsed": false,
    "pycharm": {
     "name": "#%%\n"
    }
   }
  },
  {
   "cell_type": "code",
   "execution_count": 4,
   "outputs": [],
   "source": [
    "# The likelihood is a callable that will take\n",
    "def log_likelihood(x):\n",
    "    return log_normal(x, data_mu, data_cov)\n",
    "\n"
   ],
   "metadata": {
    "collapsed": false,
    "pycharm": {
     "name": "#%%\n"
    }
   }
  },
  {
   "cell_type": "code",
   "execution_count": 5,
   "outputs": [],
   "source": [
    "# Create the nested sampler class. In this case without any tuning.\n",
    "ns = NestedSampler(log_likelihood, prior_chain)\n",
    "# We jit-compile\n",
    "ns = jit(ns)\n",
    "# We run, with any parameters desired. In this case, without any tuning.\n",
    "results = ns(random.PRNGKey(4525325))\n"
   ],
   "metadata": {
    "collapsed": false,
    "pycharm": {
     "name": "#%%\n"
    }
   }
  },
  {
   "cell_type": "code",
   "execution_count": 6,
   "outputs": [
    {
     "name": "stdout",
     "output_type": "stream",
     "text": [
      "--------\n",
      "Termination Conditions:\n",
      "Small remaining evidence\n",
      "--------\n",
      "# likelihood evals: 83122\n",
      "# samples: 1798\n",
      "# likelihood evals / sample: 46.2\n",
      "--------\n",
      "logZ=-4.93 +- 0.16\n",
      "H=92.0\n",
      "ESS=373\n",
      "--------\n",
      "x[#]: mean +- std.dev. | 10%ile / 50%ile / 90%ile | MAP est. | max(L) est.\n",
      "x[0]: 1.58 +- 0.49 | 0.95 / 1.61 / 2.23 | 1.95 | 0.19\n",
      "x[1]: 1.59 +- 0.5 | 0.91 / 1.59 / 2.23 | 1.9 | 0.18\n",
      "x[2]: 1.58 +- 0.49 | 0.94 / 1.62 / 2.2 | 2.0 | 0.19\n",
      "--------\n"
     ]
    },
    {
     "data": {
      "text/plain": "'--------\\nTermination Conditions:\\nSmall remaining evidence\\n--------\\n# likelihood evals: 83122\\n# samples: 1798\\n# likelihood evals / sample: 46.2\\n--------\\nlogZ=-4.93 +- 0.16\\nH=92.0\\nESS=373\\n--------\\nx[#]: mean +- std.dev. | 10%ile / 50%ile / 90%ile | MAP est. | max(L) est.\\nx[0]: 1.58 +- 0.49 | 0.95 / 1.61 / 2.23 | 1.95 | 0.19\\nx[1]: 1.59 +- 0.5 | 0.91 / 1.59 / 2.23 | 1.9 | 0.18\\nx[2]: 1.58 +- 0.49 | 0.94 / 1.62 / 2.2 | 2.0 | 0.19\\n--------'"
     },
     "execution_count": 6,
     "metadata": {},
     "output_type": "execute_result"
    }
   ],
   "source": [
    "# We can use the summary utility to display results\n",
    "summary(results)"
   ],
   "metadata": {
    "collapsed": false,
    "pycharm": {
     "name": "#%%\n"
    }
   }
  },
  {
   "cell_type": "code",
   "execution_count": 7,
   "outputs": [
    {
     "name": "stderr",
     "output_type": "stream",
     "text": [
      "WARNING[2022-03-03 01:24:27,845]: No handles with labels found to put in legend.\n"
     ]
    },
    {
     "data": {
      "text/plain": "<Figure size 576x720 with 5 Axes>",
      "image/png": "[encoded data removed]"
     },
     "metadata": {
      "needs_background": "light"
     },
     "output_type": "display_data"
    },
    {
     "data": {
      "text/plain": "<Figure size 432x432 with 6 Axes>",
      "image/png": "[encoded data removed]"
     },
     "metadata": {
      "needs_background": "light"
     },
     "output_type": "display_data"
    }
   ],
   "source": [
    "# We plot useful diagnostics and a distribution cornerplot\n",
    "plot_diagnostics(results)\n",
    "plot_cornerplot(results)"
   ],
   "metadata": {
    "collapsed": false,
    "pycharm": {
     "name": "#%%\n"
    }
   }
  },
  {
   "cell_type": "code",
   "execution_count": 8,
   "outputs": [],
   "source": [
    "\n",
    "# We can always save results to play with later\n",
    "save_results(results, 'save.npz')\n",
    "# loads previous results by uncommenting below\n",
    "# results = load_results('save.npz')\n"
   ],
   "metadata": {
    "collapsed": false,
    "pycharm": {
     "name": "#%%\n"
    }
   }
  },
  {
   "cell_type": "code",
   "execution_count": 9,
   "outputs": [
    {
     "name": "stdout",
     "output_type": "stream",
     "text": [
      "Total run time: 1.1309768699866254 s\n"
     ]
    }
   ],
   "source": [
    "# Since our `ns` callable is already jit-compiled we can measure its performance.\n",
    "\n",
    "# now we time the run.\n",
    "t0 = default_timer()\n",
    "# run again and time it. You can change the key, and run a few times to get a statistic estimate too.\n",
    "results = ns(random.PRNGKey(42))\n",
    "# Here we block unti completion on any array in result.\n",
    "results.log_efficiency.block_until_ready()\n",
    "run_time = default_timer() - t0\n",
    "\n",
    "print(f\"Total run time: {run_time} s\")"
   ],
   "metadata": {
    "collapsed": false,
    "pycharm": {
     "name": "#%%\n"
    }
   }
  },
  {
   "cell_type": "code",
   "execution_count": 14,
   "outputs": [
    {
     "name": "stdout",
     "output_type": "stream",
     "text": [
      "Estimated posterior mean:\n",
      "[1.57517601 1.58509126 1.579695  ]\n",
      "True posterior mean:\n",
      "[1.49748744 1.49748744 1.49748744]\n",
      "Estimated posterior mean:\n",
      "[[0.22008303 0.20895511 0.20718273]\n",
      " [0.20895511 0.21947533 0.20569276]\n",
      " [0.20718273 0.20569276 0.2121551 ]]\n",
      "True posterior mean:\n",
      "[[0.2561819  0.24628091 0.24628091]\n",
      " [0.24628091 0.2561819  0.24628091]\n",
      " [0.24628091 0.24628091 0.2561819 ]]\n"
     ]
    }
   ],
   "source": [
    "# Let us now consider how to marginalise over the posterior.\n",
    "\n",
    "def param_mean(x):\n",
    "    return x\n",
    "\n",
    "\n",
    "\n",
    "post_mean = marginalise_dynamic(random.PRNGKey(42),\n",
    "                    samples=results.samples,\n",
    "                    log_weights=results.log_dp_mean,\n",
    "                    ESS=results.ESS,\n",
    "                    fun=param_mean)\n",
    "\n",
    "def param_covariance(x):\n",
    "    dx = x - post_mean\n",
    "    return jnp.outer(dx, dx)\n",
    "\n",
    "post_covariance = marginalise_dynamic(random.PRNGKey(42),\n",
    "                    samples=results.samples,\n",
    "                    log_weights=results.log_dp_mean,\n",
    "                    ESS=results.ESS,\n",
    "                    fun=param_covariance)\n",
    "\n",
    "print(f\"Estimated posterior mean:\\n{post_mean}\")\n",
    "print(f\"True posterior mean:\\n{post_mu}\")\n",
    "\n",
    "print(f\"Estimated posterior mean:\\n{post_covariance}\")\n",
    "print(f\"True posterior mean:\\n{post_cov}\")"
   ],
   "metadata": {
    "collapsed": false,
    "pycharm": {
     "name": "#%%\n"
    }
   }
  }
 ],
 "metadata": {
  "kernelspec": {
   "display_name": "Python 3",
   "language": "python",
   "name": "python3"
  },
  "language_info": {
   "codemirror_mode": {
    "name": "ipython",
    "version": 2
   },
   "file_extension": ".py",
   "mimetype": "text/x-python",
   "name": "python",
   "nbconvert_exporter": "python",
   "pygments_lexer": "ipython2",
   "version": "2.7.6"
  }
 },
 "nbformat": 4,
 "nbformat_minor": 0
}