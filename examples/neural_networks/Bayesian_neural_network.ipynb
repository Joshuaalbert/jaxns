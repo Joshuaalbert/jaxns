{
 "cells": [
  {
   "cell_type": "markdown",
   "metadata": {
    "collapsed": true,
    "pycharm": {
     "name": "#%% md\n"
    }
   },
   "source": [
    "# Gradient-free Global Maximum Likelihood Finding: Neural Networks\n",
    "\n",
    "Neural network training is typically done with maximum likelihood estimation. Given the number of parameter invariances, and symmetries in neural network architectures, this often introduces a large number of local minima, making global optimisation very difficult.\n",
    "\n",
    "JAXNS uses slice sampling as a gradient-free way to sample from hard-likelihood constraints, starting from small likelihoods and strictly increasing towards a maximum likelihood. This actually means that JAXNS is performing global maximisation of the likelihood. The prior can be seen as a measure which guides where JAXNS looks first. An attractive idea is to think about the prior as a guide for efficient global maximisation with JAXNS, but that's for another tutorial ;).\n",
    "\n",
    "## Overview\n",
    "\n",
    "In this tutorial we'll cover:\n",
    "1. How to build a JAXNS model of a neural network using [Haiku](https://github.com/deepmind/dm-haiku)\n",
    "2. How to do global likelihood maximisation with JAXNS"
   ]
  },
  {
   "cell_type": "code",
   "execution_count": 1,
   "outputs": [],
   "source": [
    "try:\n",
    "    import haiku as hk\n",
    "except ImportError:\n",
    "    print(\"You must `pip install dm-haiku` first.\")\n",
    "\n",
    "from jax import numpy as jnp, random, vmap\n",
    "import jax\n",
    "from jax.flatten_util import ravel_pytree\n",
    "\n",
    "from jaxns import PriorChain, NormalPrior\n",
    "from jaxns import NestedSampler, marginalise_static, resample\n",
    "from jaxns.plotting import plot_diagnostics\n",
    "from jaxns.utils import summary\n",
    "from jax.scipy.optimize import minimize\n",
    "from itertools import product\n",
    "\n",
    "# for parallel sampling\n",
    "import os\n",
    "os.environ[\"XLA_FLAGS\"] = \"--xla_force_host_platform_device_count=4\"\n",
    "\n"
   ],
   "metadata": {
    "collapsed": false,
    "pycharm": {
     "name": "#%%\n"
    }
   }
  },
  {
   "cell_type": "code",
   "execution_count": 2,
   "outputs": [
    {
     "name": "stderr",
     "output_type": "stream",
     "text": [
      "INFO[2022-03-26 01:39:35,149]: Unable to initialize backend 'tpu_driver': NOT_FOUND: Unable to find driver in registry given worker: \n",
      "INFO[2022-03-26 01:39:35,150]: Unable to initialize backend 'gpu': NOT_FOUND: Could not find registered platform with name: \"cuda\". Available platform names are: Host Interpreter\n",
      "INFO[2022-03-26 01:39:35,152]: Unable to initialize backend 'tpu': INVALID_ARGUMENT: TpuPlatform is not available.\n",
      "WARNING[2022-03-26 01:39:35,152]: No GPU/TPU found, falling back to CPU. (Set TF_CPP_MIN_LOG_LEVEL=0 and rerun for more info.)\n"
     ]
    },
    {
     "name": "stdout",
     "output_type": "stream",
     "text": [
      "Data:\n",
      "[1. 1. 1. 1. 1. 1. 1.] -> [ True]\n",
      "[1. 1. 1. 1. 1. 1. 0.] -> [False]\n",
      "[1. 1. 1. 1. 1. 0. 1.] -> [False]\n",
      "[1. 1. 1. 1. 1. 0. 0.] -> [ True]\n",
      "[1. 1. 1. 1. 0. 1. 1.] -> [False]\n",
      "[1. 1. 1. 1. 0. 1. 0.] -> [ True]\n",
      "[1. 1. 1. 1. 0. 0. 1.] -> [ True]\n",
      "[1. 1. 1. 1. 0. 0. 0.] -> [False]\n",
      "[1. 1. 1. 0. 1. 1. 1.] -> [False]\n",
      "[1. 1. 1. 0. 1. 1. 0.] -> [ True]\n",
      "[1. 1. 1. 0. 1. 0. 1.] -> [ True]\n",
      "[1. 1. 1. 0. 1. 0. 0.] -> [False]\n",
      "[1. 1. 1. 0. 0. 1. 1.] -> [ True]\n",
      "[1. 1. 1. 0. 0. 1. 0.] -> [False]\n",
      "[1. 1. 1. 0. 0. 0. 1.] -> [False]\n",
      "[1. 1. 1. 0. 0. 0. 0.] -> [ True]\n",
      "[1. 1. 0. 1. 1. 1. 1.] -> [False]\n",
      "[1. 1. 0. 1. 1. 1. 0.] -> [ True]\n",
      "[1. 1. 0. 1. 1. 0. 1.] -> [ True]\n",
      "[1. 1. 0. 1. 1. 0. 0.] -> [False]\n",
      "[1. 1. 0. 1. 0. 1. 1.] -> [ True]\n",
      "[1. 1. 0. 1. 0. 1. 0.] -> [False]\n",
      "[1. 1. 0. 1. 0. 0. 1.] -> [False]\n",
      "[1. 1. 0. 1. 0. 0. 0.] -> [ True]\n",
      "[1. 1. 0. 0. 1. 1. 1.] -> [ True]\n",
      "[1. 1. 0. 0. 1. 1. 0.] -> [False]\n",
      "[1. 1. 0. 0. 1. 0. 1.] -> [False]\n",
      "[1. 1. 0. 0. 1. 0. 0.] -> [ True]\n",
      "[1. 1. 0. 0. 0. 1. 1.] -> [False]\n",
      "[1. 1. 0. 0. 0. 1. 0.] -> [ True]\n",
      "[1. 1. 0. 0. 0. 0. 1.] -> [ True]\n",
      "[1. 1. 0. 0. 0. 0. 0.] -> [False]\n",
      "[1. 0. 1. 1. 1. 1. 1.] -> [False]\n",
      "[1. 0. 1. 1. 1. 1. 0.] -> [ True]\n",
      "[1. 0. 1. 1. 1. 0. 1.] -> [ True]\n",
      "[1. 0. 1. 1. 1. 0. 0.] -> [False]\n",
      "[1. 0. 1. 1. 0. 1. 1.] -> [ True]\n",
      "[1. 0. 1. 1. 0. 1. 0.] -> [False]\n",
      "[1. 0. 1. 1. 0. 0. 1.] -> [False]\n",
      "[1. 0. 1. 1. 0. 0. 0.] -> [ True]\n",
      "[1. 0. 1. 0. 1. 1. 1.] -> [ True]\n",
      "[1. 0. 1. 0. 1. 1. 0.] -> [False]\n",
      "[1. 0. 1. 0. 1. 0. 1.] -> [False]\n",
      "[1. 0. 1. 0. 1. 0. 0.] -> [ True]\n",
      "[1. 0. 1. 0. 0. 1. 1.] -> [False]\n",
      "[1. 0. 1. 0. 0. 1. 0.] -> [ True]\n",
      "[1. 0. 1. 0. 0. 0. 1.] -> [ True]\n",
      "[1. 0. 1. 0. 0. 0. 0.] -> [False]\n",
      "[1. 0. 0. 1. 1. 1. 1.] -> [ True]\n",
      "[1. 0. 0. 1. 1. 1. 0.] -> [False]\n",
      "[1. 0. 0. 1. 1. 0. 1.] -> [False]\n",
      "[1. 0. 0. 1. 1. 0. 0.] -> [ True]\n",
      "[1. 0. 0. 1. 0. 1. 1.] -> [False]\n",
      "[1. 0. 0. 1. 0. 1. 0.] -> [ True]\n",
      "[1. 0. 0. 1. 0. 0. 1.] -> [ True]\n",
      "[1. 0. 0. 1. 0. 0. 0.] -> [False]\n",
      "[1. 0. 0. 0. 1. 1. 1.] -> [False]\n",
      "[1. 0. 0. 0. 1. 1. 0.] -> [ True]\n",
      "[1. 0. 0. 0. 1. 0. 1.] -> [ True]\n",
      "[1. 0. 0. 0. 1. 0. 0.] -> [False]\n",
      "[1. 0. 0. 0. 0. 1. 1.] -> [ True]\n",
      "[1. 0. 0. 0. 0. 1. 0.] -> [False]\n",
      "[1. 0. 0. 0. 0. 0. 1.] -> [False]\n",
      "[1. 0. 0. 0. 0. 0. 0.] -> [ True]\n",
      "[0. 1. 1. 1. 1. 1. 1.] -> [False]\n",
      "[0. 1. 1. 1. 1. 1. 0.] -> [ True]\n",
      "[0. 1. 1. 1. 1. 0. 1.] -> [ True]\n",
      "[0. 1. 1. 1. 1. 0. 0.] -> [False]\n",
      "[0. 1. 1. 1. 0. 1. 1.] -> [ True]\n",
      "[0. 1. 1. 1. 0. 1. 0.] -> [False]\n",
      "[0. 1. 1. 1. 0. 0. 1.] -> [False]\n",
      "[0. 1. 1. 1. 0. 0. 0.] -> [ True]\n",
      "[0. 1. 1. 0. 1. 1. 1.] -> [ True]\n",
      "[0. 1. 1. 0. 1. 1. 0.] -> [False]\n",
      "[0. 1. 1. 0. 1. 0. 1.] -> [False]\n",
      "[0. 1. 1. 0. 1. 0. 0.] -> [ True]\n",
      "[0. 1. 1. 0. 0. 1. 1.] -> [False]\n",
      "[0. 1. 1. 0. 0. 1. 0.] -> [ True]\n",
      "[0. 1. 1. 0. 0. 0. 1.] -> [ True]\n",
      "[0. 1. 1. 0. 0. 0. 0.] -> [False]\n",
      "[0. 1. 0. 1. 1. 1. 1.] -> [ True]\n",
      "[0. 1. 0. 1. 1. 1. 0.] -> [False]\n",
      "[0. 1. 0. 1. 1. 0. 1.] -> [False]\n",
      "[0. 1. 0. 1. 1. 0. 0.] -> [ True]\n",
      "[0. 1. 0. 1. 0. 1. 1.] -> [False]\n",
      "[0. 1. 0. 1. 0. 1. 0.] -> [ True]\n",
      "[0. 1. 0. 1. 0. 0. 1.] -> [ True]\n",
      "[0. 1. 0. 1. 0. 0. 0.] -> [False]\n",
      "[0. 1. 0. 0. 1. 1. 1.] -> [False]\n",
      "[0. 1. 0. 0. 1. 1. 0.] -> [ True]\n",
      "[0. 1. 0. 0. 1. 0. 1.] -> [ True]\n",
      "[0. 1. 0. 0. 1. 0. 0.] -> [False]\n",
      "[0. 1. 0. 0. 0. 1. 1.] -> [ True]\n",
      "[0. 1. 0. 0. 0. 1. 0.] -> [False]\n",
      "[0. 1. 0. 0. 0. 0. 1.] -> [False]\n",
      "[0. 1. 0. 0. 0. 0. 0.] -> [ True]\n",
      "[0. 0. 1. 1. 1. 1. 1.] -> [ True]\n",
      "[0. 0. 1. 1. 1. 1. 0.] -> [False]\n",
      "[0. 0. 1. 1. 1. 0. 1.] -> [False]\n",
      "[0. 0. 1. 1. 1. 0. 0.] -> [ True]\n",
      "[0. 0. 1. 1. 0. 1. 1.] -> [False]\n",
      "[0. 0. 1. 1. 0. 1. 0.] -> [ True]\n",
      "[0. 0. 1. 1. 0. 0. 1.] -> [ True]\n",
      "[0. 0. 1. 1. 0. 0. 0.] -> [False]\n",
      "[0. 0. 1. 0. 1. 1. 1.] -> [False]\n",
      "[0. 0. 1. 0. 1. 1. 0.] -> [ True]\n",
      "[0. 0. 1. 0. 1. 0. 1.] -> [ True]\n",
      "[0. 0. 1. 0. 1. 0. 0.] -> [False]\n",
      "[0. 0. 1. 0. 0. 1. 1.] -> [ True]\n",
      "[0. 0. 1. 0. 0. 1. 0.] -> [False]\n",
      "[0. 0. 1. 0. 0. 0. 1.] -> [False]\n",
      "[0. 0. 1. 0. 0. 0. 0.] -> [ True]\n",
      "[0. 0. 0. 1. 1. 1. 1.] -> [False]\n",
      "[0. 0. 0. 1. 1. 1. 0.] -> [ True]\n",
      "[0. 0. 0. 1. 1. 0. 1.] -> [ True]\n",
      "[0. 0. 0. 1. 1. 0. 0.] -> [False]\n",
      "[0. 0. 0. 1. 0. 1. 1.] -> [ True]\n",
      "[0. 0. 0. 1. 0. 1. 0.] -> [False]\n",
      "[0. 0. 0. 1. 0. 0. 1.] -> [False]\n",
      "[0. 0. 0. 1. 0. 0. 0.] -> [ True]\n",
      "[0. 0. 0. 0. 1. 1. 1.] -> [ True]\n",
      "[0. 0. 0. 0. 1. 1. 0.] -> [False]\n",
      "[0. 0. 0. 0. 1. 0. 1.] -> [False]\n",
      "[0. 0. 0. 0. 1. 0. 0.] -> [ True]\n",
      "[0. 0. 0. 0. 0. 1. 1.] -> [False]\n",
      "[0. 0. 0. 0. 0. 1. 0.] -> [ True]\n",
      "[0. 0. 0. 0. 0. 0. 1.] -> [ True]\n",
      "[0. 0. 0. 0. 0. 0. 0.] -> [False]\n"
     ]
    }
   ],
   "source": [
    "# Generate data\n",
    "\n",
    "def xor_reduce(x):\n",
    "    \"\"\"\n",
    "    Computes the XOR reduction on a sequence of bits.\n",
    "\n",
    "    Examples:\n",
    "        100 -> xor(xor(1,0),0) = 1\n",
    "        001 -> xor(xor(0,0),1) = 1\n",
    "        110 -> xor(xor(1,1),0) = 0\n",
    "        011 -> xor(xor(0,1),1) = 0\n",
    "\n",
    "    Args:\n",
    "        x: boolean vector of bits.\n",
    "\n",
    "    Returns:\n",
    "        bool, scalar\n",
    "    \"\"\"\n",
    "    output = x[0]\n",
    "    for i in range(1, x.shape[-1]):\n",
    "        output = jnp.logical_xor(output, x[i])\n",
    "    return output\n",
    "\n",
    "\n",
    "num_variables = 7\n",
    "options = [True, False]\n",
    "x = jnp.asarray(list(product(options, repeat=num_variables)))#N,2\n",
    "y = vmap(xor_reduce)(x)[:, None]#N, 1\n",
    "x = x.astype(jnp.float32)\n",
    "print(\"Data:\")\n",
    "\n",
    "for input, output in zip(x,y):\n",
    "    print(f\"{input} -> {output}\")\n"
   ],
   "metadata": {
    "collapsed": false,
    "pycharm": {
     "name": "#%%\n"
    }
   }
  },
  {
   "cell_type": "code",
   "execution_count": 3,
   "outputs": [
    {
     "name": "stdout",
     "output_type": "stream",
     "text": [
      "Number of parameters: 37\n"
     ]
    }
   ],
   "source": [
    "# Define the likelihood, using Haiku as our framework for neural networks\n",
    "\n",
    "def model(x, is_training=False):\n",
    "    mlp = hk.Sequential([hk.Linear(4),\n",
    "                         jax.nn.sigmoid,\n",
    "                         hk.Linear(1)])\n",
    "    return mlp(x)\n",
    "\n",
    "model = hk.without_apply_rng(hk.transform(model))\n",
    "# We must call the model once to get the params shape and type as a big pytree\n",
    "# We then use ravel_pytree to flatten and get the unflatten function.\n",
    "init_params = model.init(random.PRNGKey(2345), x)\n",
    "init_params_flat, unravel_func = ravel_pytree(init_params)\n",
    "n_dims = init_params_flat.size\n",
    "print(\"Number of parameters:\", n_dims)\n",
    "\n",
    "def softplus(x):\n",
    "    return jnp.log1p(jnp.exp(x))\n",
    "\n",
    "def log_likelihood(params):\n",
    "    \"\"\"\n",
    "    log(P(y|p))\n",
    "    p = exp(logits)/1 - exp(logits)\n",
    "    = log(p) * y + log(1-p) * (1-y)\n",
    "    = logits * y1 - log(exp(-logits)/(exp(-logits) - 1)) * y0\n",
    "    \"\"\"\n",
    "    params_dict = unravel_func(params)\n",
    "    logits = model.apply(params_dict, x)\n",
    "    log_prob0, log_prob1 = -softplus(logits), -softplus(-logits)\n",
    "    #log(p) * y + log(1-p) * (1-y)\n",
    "    log_prob = jnp.mean(jnp.where(y, log_prob1, log_prob0))\n",
    "    return jnp.asarray(log_prob, jnp.float64)\n"
   ],
   "metadata": {
    "collapsed": false,
    "pycharm": {
     "name": "#%%\n"
    }
   }
  },
  {
   "cell_type": "code",
   "execution_count": 4,
   "outputs": [
    {
     "name": "stderr",
     "output_type": "stream",
     "text": [
      "/home/albert/miniconda3/envs/jax_py/lib/python3.8/site-packages/jax/_src/numpy/lax_numpy.py:3610: UserWarning: Explicitly requested dtype <class 'jax._src.numpy.lax_numpy.float64'> requested in asarray is not available, and will be truncated to dtype float32. To enable more dtypes, set the jax_enable_x64 configuration option or the JAX_ENABLE_X64 shell environment variable. See https://github.com/google/jax#current-gotchas for more.\n",
      "  lax._check_user_dtype_supported(dtype, \"asarray\")\n",
      "/home/albert/miniconda3/envs/jax_py/lib/python3.8/site-packages/jax/_src/numpy/lax_numpy.py:3610: UserWarning: Explicitly requested dtype <class 'jax._src.numpy.lax_numpy.float64'> requested in asarray is not available, and will be truncated to dtype float32. To enable more dtypes, set the jax_enable_x64 configuration option or the JAX_ENABLE_X64 shell environment variable. See https://github.com/google/jax#current-gotchas for more.\n",
      "  lax._check_user_dtype_supported(dtype, \"asarray\")\n",
      "/home/albert/miniconda3/envs/jax_py/lib/python3.8/site-packages/jax/_src/numpy/lax_numpy.py:3610: UserWarning: Explicitly requested dtype <class 'jax._src.numpy.lax_numpy.float64'> requested in asarray is not available, and will be truncated to dtype float32. To enable more dtypes, set the jax_enable_x64 configuration option or the JAX_ENABLE_X64 shell environment variable. See https://github.com/google/jax#current-gotchas for more.\n",
      "  lax._check_user_dtype_supported(dtype, \"asarray\")\n",
      "/home/albert/miniconda3/envs/jax_py/lib/python3.8/site-packages/jax/_src/numpy/lax_numpy.py:3610: UserWarning: Explicitly requested dtype <class 'jax._src.numpy.lax_numpy.float64'> requested in asarray is not available, and will be truncated to dtype float32. To enable more dtypes, set the jax_enable_x64 configuration option or the JAX_ENABLE_X64 shell environment variable. See https://github.com/google/jax#current-gotchas for more.\n",
      "  lax._check_user_dtype_supported(dtype, \"asarray\")\n"
     ]
    },
    {
     "name": "stdout",
     "output_type": "stream",
     "text": [
      "BFGS maximum likelihood solution: log(L) = -0.6931479573249817\n"
     ]
    },
    {
     "name": "stderr",
     "output_type": "stream",
     "text": [
      "/home/albert/miniconda3/envs/jax_py/lib/python3.8/site-packages/jax/_src/numpy/lax_numpy.py:3610: UserWarning: Explicitly requested dtype <class 'jax._src.numpy.lax_numpy.float64'> requested in asarray is not available, and will be truncated to dtype float32. To enable more dtypes, set the jax_enable_x64 configuration option or the JAX_ENABLE_X64 shell environment variable. See https://github.com/google/jax#current-gotchas for more.\n",
      "  lax._check_user_dtype_supported(dtype, \"asarray\")\n"
     ]
    }
   ],
   "source": [
    "# Let us compare the results of nested sampling to optimisation done with BFGS\n",
    "\n",
    "params_bfgs = minimize(lambda p: -log_likelihood(p),\n",
    "                   random.normal(random.PRNGKey(2435), shape=(n_dims,)),\n",
    "                   method='BFGS').x\n",
    "print(f\"BFGS maximum likelihood solution: log(L) = {log_likelihood(params_bfgs)}\")"
   ],
   "metadata": {
    "collapsed": false,
    "pycharm": {
     "name": "#%%\n"
    }
   }
  },
  {
   "cell_type": "code",
   "execution_count": 5,
   "outputs": [
    {
     "name": "stderr",
     "output_type": "stream",
     "text": [
      "/home/albert/miniconda3/envs/jax_py/lib/python3.8/site-packages/jax/_src/numpy/lax_numpy.py:3662: UserWarning: Explicitly requested dtype <class 'jax._src.numpy.lax_numpy.float64'> requested in zeros is not available, and will be truncated to dtype float32. To enable more dtypes, set the jax_enable_x64 configuration option or the JAX_ENABLE_X64 shell environment variable. See https://github.com/google/jax#current-gotchas for more.\n",
      "  lax._check_user_dtype_supported(dtype, \"zeros\")\n",
      "WARNING[2022-03-26 01:39:39,378]: Increasing max_samples (100000) by 3600 to evenly divide samples_per_step\n"
     ]
    }
   ],
   "source": [
    "\n",
    "# Build the model\n",
    "\n",
    "with PriorChain() as prior_chain:\n",
    "    # we'll effectively place no prior on the parameters, other than requiring them to be within [-10,10]\n",
    "    NormalPrior('params', jnp.zeros(n_dims), 1.*jnp.ones(n_dims))\n",
    "\n",
    "# We'll do some strange things here.\n",
    "# num_slices -> low: We'll make the sampler do very few slices. This will lead to large correlation between samples, and poor estimate of the evidence.\n",
    "# This is alright, because we'll be looking for the maximum likelihood solution.\n",
    "ns = NestedSampler(loglikelihood=log_likelihood, prior_chain=prior_chain,\n",
    "                   num_parallel_samplers=4,\n",
    "                   sampler_kwargs=dict(gradient_boost=True))\n"
   ],
   "metadata": {
    "collapsed": false,
    "pycharm": {
     "name": "#%%\n"
    }
   }
  },
  {
   "cell_type": "code",
   "execution_count": 6,
   "outputs": [
    {
     "name": "stderr",
     "output_type": "stream",
     "text": [
      "/home/albert/miniconda3/envs/jax_py/lib/python3.8/site-packages/jax/_src/numpy/lax_numpy.py:3610: UserWarning: Explicitly requested dtype <class 'jax._src.numpy.lax_numpy.float64'> requested in asarray is not available, and will be truncated to dtype float32. To enable more dtypes, set the jax_enable_x64 configuration option or the JAX_ENABLE_X64 shell environment variable. See https://github.com/google/jax#current-gotchas for more.\n",
      "  lax._check_user_dtype_supported(dtype, \"asarray\")\n",
      "INFO[2022-03-26 01:39:40,211]: Log-likelihood: -0.7780163884162903\n",
      "/home/albert/miniconda3/envs/jax_py/lib/python3.8/site-packages/jax/_src/numpy/lax_numpy.py:3610: UserWarning: Explicitly requested dtype <class 'jax._src.numpy.lax_numpy.float64'> requested in asarray is not available, and will be truncated to dtype float32. To enable more dtypes, set the jax_enable_x64 configuration option or the JAX_ENABLE_X64 shell environment variable. See https://github.com/google/jax#current-gotchas for more.\n",
      "  lax._check_user_dtype_supported(dtype, \"asarray\")\n",
      "INFO[2022-03-26 01:39:40,253]: Log-likelihood: -0.935915470123291\n",
      "/home/albert/miniconda3/envs/jax_py/lib/python3.8/site-packages/jax/_src/numpy/lax_numpy.py:3610: UserWarning: Explicitly requested dtype <class 'jax._src.numpy.lax_numpy.float64'> requested in asarray is not available, and will be truncated to dtype float32. To enable more dtypes, set the jax_enable_x64 configuration option or the JAX_ENABLE_X64 shell environment variable. See https://github.com/google/jax#current-gotchas for more.\n",
      "  lax._check_user_dtype_supported(dtype, \"asarray\")\n",
      "INFO[2022-03-26 01:39:40,293]: Log-likelihood: -0.7196257710456848\n",
      "/home/albert/miniconda3/envs/jax_py/lib/python3.8/site-packages/jax/_src/numpy/lax_numpy.py:3610: UserWarning: Explicitly requested dtype <class 'jax._src.numpy.lax_numpy.float64'> requested in asarray is not available, and will be truncated to dtype float32. To enable more dtypes, set the jax_enable_x64 configuration option or the JAX_ENABLE_X64 shell environment variable. See https://github.com/google/jax#current-gotchas for more.\n",
      "  lax._check_user_dtype_supported(dtype, \"asarray\")\n",
      "INFO[2022-03-26 01:39:40,332]: Log-likelihood: -1.5212397575378418\n",
      "/home/albert/miniconda3/envs/jax_py/lib/python3.8/site-packages/jax/_src/numpy/lax_numpy.py:3610: UserWarning: Explicitly requested dtype <class 'jax._src.numpy.lax_numpy.float64'> requested in asarray is not available, and will be truncated to dtype float32. To enable more dtypes, set the jax_enable_x64 configuration option or the JAX_ENABLE_X64 shell environment variable. See https://github.com/google/jax#current-gotchas for more.\n",
      "  lax._check_user_dtype_supported(dtype, \"asarray\")\n",
      "INFO[2022-03-26 01:39:40,367]: Log-likelihood: -1.2842605113983154\n",
      "/home/albert/miniconda3/envs/jax_py/lib/python3.8/site-packages/jax/_src/numpy/lax_numpy.py:3610: UserWarning: Explicitly requested dtype <class 'jax._src.numpy.lax_numpy.float64'> requested in asarray is not available, and will be truncated to dtype float32. To enable more dtypes, set the jax_enable_x64 configuration option or the JAX_ENABLE_X64 shell environment variable. See https://github.com/google/jax#current-gotchas for more.\n",
      "  lax._check_user_dtype_supported(dtype, \"asarray\")\n",
      "INFO[2022-03-26 01:39:40,402]: Log-likelihood: -0.7306123971939087\n",
      "/home/albert/miniconda3/envs/jax_py/lib/python3.8/site-packages/jax/_src/numpy/lax_numpy.py:3610: UserWarning: Explicitly requested dtype <class 'jax._src.numpy.lax_numpy.float64'> requested in asarray is not available, and will be truncated to dtype float32. To enable more dtypes, set the jax_enable_x64 configuration option or the JAX_ENABLE_X64 shell environment variable. See https://github.com/google/jax#current-gotchas for more.\n",
      "  lax._check_user_dtype_supported(dtype, \"asarray\")\n",
      "INFO[2022-03-26 01:39:40,438]: Log-likelihood: -0.8278975486755371\n",
      "/home/albert/miniconda3/envs/jax_py/lib/python3.8/site-packages/jax/_src/numpy/lax_numpy.py:3610: UserWarning: Explicitly requested dtype <class 'jax._src.numpy.lax_numpy.float64'> requested in asarray is not available, and will be truncated to dtype float32. To enable more dtypes, set the jax_enable_x64 configuration option or the JAX_ENABLE_X64 shell environment variable. See https://github.com/google/jax#current-gotchas for more.\n",
      "  lax._check_user_dtype_supported(dtype, \"asarray\")\n",
      "INFO[2022-03-26 01:39:40,471]: Log-likelihood: -0.9699393510818481\n",
      "/home/albert/miniconda3/envs/jax_py/lib/python3.8/site-packages/jax/_src/numpy/lax_numpy.py:3610: UserWarning: Explicitly requested dtype <class 'jax._src.numpy.lax_numpy.float64'> requested in asarray is not available, and will be truncated to dtype float32. To enable more dtypes, set the jax_enable_x64 configuration option or the JAX_ENABLE_X64 shell environment variable. See https://github.com/google/jax#current-gotchas for more.\n",
      "  lax._check_user_dtype_supported(dtype, \"asarray\")\n",
      "INFO[2022-03-26 01:39:40,505]: Log-likelihood: -1.1992669105529785\n",
      "/home/albert/miniconda3/envs/jax_py/lib/python3.8/site-packages/jax/_src/numpy/lax_numpy.py:3610: UserWarning: Explicitly requested dtype <class 'jax._src.numpy.lax_numpy.float64'> requested in asarray is not available, and will be truncated to dtype float32. To enable more dtypes, set the jax_enable_x64 configuration option or the JAX_ENABLE_X64 shell environment variable. See https://github.com/google/jax#current-gotchas for more.\n",
      "  lax._check_user_dtype_supported(dtype, \"asarray\")\n",
      "INFO[2022-03-26 01:39:40,539]: Log-likelihood: -0.7966455221176147\n"
     ]
    }
   ],
   "source": [
    "# Let's test the model with a small sanity check.\n",
    "prior_chain.test_prior(random.PRNGKey(42), 10, log_likelihood)"
   ],
   "metadata": {
    "collapsed": false,
    "pycharm": {
     "name": "#%%\n"
    }
   }
  },
  {
   "cell_type": "code",
   "execution_count": 7,
   "outputs": [
    {
     "name": "stderr",
     "output_type": "stream",
     "text": [
      "/home/albert/miniconda3/envs/jax_py/lib/python3.8/site-packages/jax/_src/numpy/lax_numpy.py:3662: UserWarning: Explicitly requested dtype <class 'jax._src.numpy.lax_numpy.float64'> requested in zeros is not available, and will be truncated to dtype float32. To enable more dtypes, set the jax_enable_x64 configuration option or the JAX_ENABLE_X64 shell environment variable. See https://github.com/google/jax#current-gotchas for more.\n",
      "  lax._check_user_dtype_supported(dtype, \"zeros\")\n",
      "/home/albert/miniconda3/envs/jax_py/lib/python3.8/site-packages/jax/_src/numpy/lax_numpy.py:3610: UserWarning: Explicitly requested dtype <class 'jax._src.numpy.lax_numpy.int64'> requested in asarray is not available, and will be truncated to dtype int32. To enable more dtypes, set the jax_enable_x64 configuration option or the JAX_ENABLE_X64 shell environment variable. See https://github.com/google/jax#current-gotchas for more.\n",
      "  lax._check_user_dtype_supported(dtype, \"asarray\")\n",
      "/home/albert/miniconda3/envs/jax_py/lib/python3.8/site-packages/jax/_src/numpy/lax_numpy.py:3610: UserWarning: Explicitly requested dtype <class 'jax._src.numpy.lax_numpy.float64'> requested in asarray is not available, and will be truncated to dtype float32. To enable more dtypes, set the jax_enable_x64 configuration option or the JAX_ENABLE_X64 shell environment variable. See https://github.com/google/jax#current-gotchas for more.\n",
      "  lax._check_user_dtype_supported(dtype, \"asarray\")\n",
      "/home/albert/miniconda3/envs/jax_py/lib/python3.8/site-packages/jax/_src/numpy/lax_numpy.py:6493: UserWarning: Explicitly requested dtype <class 'jax._src.numpy.lax_numpy.float64'> requested in astype is not available, and will be truncated to dtype float32. To enable more dtypes, set the jax_enable_x64 configuration option or the JAX_ENABLE_X64 shell environment variable. See https://github.com/google/jax#current-gotchas for more.\n",
      "  lax._check_user_dtype_supported(dtype, \"astype\")\n",
      "/home/albert/miniconda3/envs/jax_py/lib/python3.8/site-packages/jax/_src/numpy/lax_numpy.py:3610: UserWarning: Explicitly requested dtype <class 'jax._src.numpy.lax_numpy.int64'> requested in asarray is not available, and will be truncated to dtype int32. To enable more dtypes, set the jax_enable_x64 configuration option or the JAX_ENABLE_X64 shell environment variable. See https://github.com/google/jax#current-gotchas for more.\n",
      "  lax._check_user_dtype_supported(dtype, \"asarray\")\n",
      "/home/albert/miniconda3/envs/jax_py/lib/python3.8/site-packages/jax/_src/numpy/lax_numpy.py:3635: UserWarning: Explicitly requested dtype <class 'jax._src.numpy.lax_numpy.float64'> requested in full is not available, and will be truncated to dtype float32. To enable more dtypes, set the jax_enable_x64 configuration option or the JAX_ENABLE_X64 shell environment variable. See https://github.com/google/jax#current-gotchas for more.\n",
      "  lax._check_user_dtype_supported(dtype, \"full\")\n",
      "/home/albert/miniconda3/envs/jax_py/lib/python3.8/site-packages/jax/_src/numpy/lax_numpy.py:3635: UserWarning: Explicitly requested dtype <class 'jax._src.numpy.lax_numpy.int64'> requested in full is not available, and will be truncated to dtype int32. To enable more dtypes, set the jax_enable_x64 configuration option or the JAX_ENABLE_X64 shell environment variable. See https://github.com/google/jax#current-gotchas for more.\n",
      "  lax._check_user_dtype_supported(dtype, \"full\")\n",
      "/home/albert/miniconda3/envs/jax_py/lib/python3.8/site-packages/jax/_src/numpy/lax_numpy.py:3610: UserWarning: Explicitly requested dtype <class 'jax._src.numpy.lax_numpy.float64'> requested in asarray is not available, and will be truncated to dtype float32. To enable more dtypes, set the jax_enable_x64 configuration option or the JAX_ENABLE_X64 shell environment variable. See https://github.com/google/jax#current-gotchas for more.\n",
      "  lax._check_user_dtype_supported(dtype, \"asarray\")\n",
      "/home/albert/miniconda3/envs/jax_py/lib/python3.8/site-packages/jax/_src/numpy/lax_numpy.py:6493: UserWarning: Explicitly requested dtype <class 'jax._src.numpy.lax_numpy.float64'> requested in astype is not available, and will be truncated to dtype float32. To enable more dtypes, set the jax_enable_x64 configuration option or the JAX_ENABLE_X64 shell environment variable. See https://github.com/google/jax#current-gotchas for more.\n",
      "  lax._check_user_dtype_supported(dtype, \"astype\")\n",
      "/home/albert/miniconda3/envs/jax_py/lib/python3.8/site-packages/jax/_src/numpy/lax_numpy.py:3635: UserWarning: Explicitly requested dtype <class 'jax._src.numpy.lax_numpy.int64'> requested in full is not available, and will be truncated to dtype int32. To enable more dtypes, set the jax_enable_x64 configuration option or the JAX_ENABLE_X64 shell environment variable. See https://github.com/google/jax#current-gotchas for more.\n",
      "  lax._check_user_dtype_supported(dtype, \"full\")\n",
      "/home/albert/miniconda3/envs/jax_py/lib/python3.8/site-packages/jax/_src/numpy/lax_numpy.py:3662: UserWarning: Explicitly requested dtype <class 'jax._src.numpy.lax_numpy.int64'> requested in zeros is not available, and will be truncated to dtype int32. To enable more dtypes, set the jax_enable_x64 configuration option or the JAX_ENABLE_X64 shell environment variable. See https://github.com/google/jax#current-gotchas for more.\n",
      "  lax._check_user_dtype_supported(dtype, \"zeros\")\n",
      "/home/albert/miniconda3/envs/jax_py/lib/python3.8/site-packages/jax/_src/numpy/lax_numpy.py:3610: UserWarning: Explicitly requested dtype <class 'jax._src.numpy.lax_numpy.float64'> requested in asarray is not available, and will be truncated to dtype float32. To enable more dtypes, set the jax_enable_x64 configuration option or the JAX_ENABLE_X64 shell environment variable. See https://github.com/google/jax#current-gotchas for more.\n",
      "  lax._check_user_dtype_supported(dtype, \"asarray\")\n",
      "/home/albert/miniconda3/envs/jax_py/lib/python3.8/site-packages/jax/_src/numpy/lax_numpy.py:6493: UserWarning: Explicitly requested dtype <class 'jax._src.numpy.lax_numpy.float64'> requested in astype is not available, and will be truncated to dtype float32. To enable more dtypes, set the jax_enable_x64 configuration option or the JAX_ENABLE_X64 shell environment variable. See https://github.com/google/jax#current-gotchas for more.\n",
      "  lax._check_user_dtype_supported(dtype, \"astype\")\n",
      "/home/albert/miniconda3/envs/jax_py/lib/python3.8/site-packages/jax/_src/numpy/lax_numpy.py:3635: UserWarning: Explicitly requested dtype <class 'jax._src.numpy.lax_numpy.int64'> requested in full is not available, and will be truncated to dtype int32. To enable more dtypes, set the jax_enable_x64 configuration option or the JAX_ENABLE_X64 shell environment variable. See https://github.com/google/jax#current-gotchas for more.\n",
      "  lax._check_user_dtype_supported(dtype, \"full\")\n",
      "/home/albert/miniconda3/envs/jax_py/lib/python3.8/site-packages/jax/_src/numpy/lax_numpy.py:3610: UserWarning: Explicitly requested dtype <class 'jax._src.numpy.lax_numpy.int64'> requested in asarray is not available, and will be truncated to dtype int32. To enable more dtypes, set the jax_enable_x64 configuration option or the JAX_ENABLE_X64 shell environment variable. See https://github.com/google/jax#current-gotchas for more.\n",
      "  lax._check_user_dtype_supported(dtype, \"asarray\")\n",
      "/home/albert/miniconda3/envs/jax_py/lib/python3.8/site-packages/jax/interpreters/xla.py:803: UserWarning: The jitted function while includes a pmap. Using jit-of-pmap can lead to inefficient data movement, as the outer jit does not preserve sharded data representations and instead collects input and output arrays onto a single device. Consider removing the outer jit unless you know what you're doing. See https://github.com/google/jax/issues/2926.\n",
      "  warn(f\"The jitted function {name} includes a pmap. Using \"\n"
     ]
    }
   ],
   "source": [
    "# We do another strange thing here: we set the number of live points really low, which is okay because we don't care about evidence (yet)\n",
    "# ns = jit(ns, static_argnames='maximise_likelihood')\n",
    "results = ns(random.PRNGKey(42), termination_live_evidence_frac=1e-5)"
   ],
   "metadata": {
    "collapsed": false,
    "pycharm": {
     "name": "#%%\n"
    }
   }
  },
  {
   "cell_type": "code",
   "execution_count": 9,
   "outputs": [
    {
     "name": "stderr",
     "output_type": "stream",
     "text": [
      "WARNING[2022-03-26 01:40:34,987]: No handles with labels found to put in legend.\n"
     ]
    },
    {
     "data": {
      "text/plain": "<Figure size 576x720 with 5 Axes>",
      "image/png": "[encoded data removed]"
     },
     "metadata": {
      "needs_background": "light"
     },
     "output_type": "display_data"
    }
   ],
   "source": [
    "# summary(results)\n",
    "plot_diagnostics(results)"
   ],
   "metadata": {
    "collapsed": false,
    "pycharm": {
     "name": "#%%\n"
    }
   }
  },
  {
   "cell_type": "code",
   "execution_count": 12,
   "outputs": [
    {
     "name": "stdout",
     "output_type": "stream",
     "text": [
      "0: [1. 1. 1. 1. 1. 1. 1.] -> [ True] | pred: [0.10859276 0.49606484 0.88965696]\n",
      "1: [1. 1. 1. 1. 1. 1. 0.] -> [False] | pred: [0.11426362 0.49046564 0.89101255]\n",
      "2: [1. 1. 1. 1. 1. 0. 1.] -> [False] | pred: [0.11192001 0.49549934 0.888786  ]\n",
      "3: [1. 1. 1. 1. 1. 0. 0.] -> [ True] | pred: [0.11377474 0.49031085 0.89095294]\n",
      "4: [1. 1. 1. 1. 0. 1. 1.] -> [False] | pred: [0.11171093 0.49344707 0.886772  ]\n",
      "5: [1. 1. 1. 1. 0. 1. 0.] -> [ True] | pred: [0.11243504 0.4920469  0.8908259 ]\n",
      "6: [1. 1. 1. 1. 0. 0. 1.] -> [ True] | pred: [0.11209509 0.49837047 0.8894648 ]\n",
      "7: [1. 1. 1. 1. 0. 0. 0.] -> [False] | pred: [0.11341892 0.49423862 0.8910013 ]\n",
      "8: [1. 1. 1. 0. 1. 1. 1.] -> [False] | pred: [0.10975948 0.49530315 0.88968176]\n",
      "9: [1. 1. 1. 0. 1. 1. 0.] -> [ True] | pred: [0.10808629 0.49072883 0.8916272 ]\n",
      "10: [1. 1. 1. 0. 1. 0. 1.] -> [ True] | pred: [0.11180017 0.49973756 0.8929305 ]\n",
      "11: [1. 1. 1. 0. 1. 0. 0.] -> [False] | pred: [0.11314723 0.4940728  0.8948275 ]\n",
      "12: [1. 1. 1. 0. 0. 1. 1.] -> [ True] | pred: [0.10872652 0.49683464 0.88527656]\n",
      "13: [1. 1. 1. 0. 0. 1. 0.] -> [False] | pred: [0.10768167 0.4939441  0.8907635 ]\n",
      "14: [1. 1. 1. 0. 0. 0. 1.] -> [False] | pred: [0.11428908 0.5005894  0.8910692 ]\n",
      "15: [1. 1. 1. 0. 0. 0. 0.] -> [ True] | pred: [0.11132463 0.49298924 0.8925851 ]\n",
      "16: [1. 1. 0. 1. 1. 1. 1.] -> [False] | pred: [0.10782911 0.49103075 0.8917344 ]\n",
      "17: [1. 1. 0. 1. 1. 1. 0.] -> [ True] | pred: [0.1122171 0.4877354 0.8931754]\n",
      "18: [1. 1. 0. 1. 1. 0. 1.] -> [ True] | pred: [0.11025968 0.49245077 0.8928864 ]\n",
      "19: [1. 1. 0. 1. 1. 0. 0.] -> [False] | pred: [0.11702018 0.49148887 0.89090645]\n",
      "20: [1. 1. 0. 1. 0. 1. 1.] -> [ True] | pred: [0.10716829 0.4932764  0.8893467 ]\n",
      "21: [1. 1. 0. 1. 0. 1. 0.] -> [False] | pred: [0.11321657 0.49310172 0.8907508 ]\n",
      "22: [1. 1. 0. 1. 0. 0. 1.] -> [False] | pred: [0.11049773 0.49785757 0.8946832 ]\n",
      "23: [1. 1. 0. 1. 0. 0. 0.] -> [ True] | pred: [0.11631326 0.49262804 0.89170116]\n",
      "24: [1. 1. 0. 0. 1. 1. 1.] -> [ True] | pred: [0.10913299 0.49256444 0.8949519 ]\n",
      "25: [1. 1. 0. 0. 1. 1. 0.] -> [False] | pred: [0.11092678 0.48782843 0.8989197 ]\n",
      "26: [1. 1. 0. 0. 1. 0. 1.] -> [False] | pred: [0.11133132 0.4938466  0.8972612 ]\n",
      "27: [1. 1. 0. 0. 1. 0. 0.] -> [ True] | pred: [0.1133092  0.49122733 0.895709  ]\n",
      "28: [1. 1. 0. 0. 0. 1. 1.] -> [False] | pred: [0.11121117 0.4953197  0.89129514]\n",
      "29: [1. 1. 0. 0. 0. 1. 0.] -> [ True] | pred: [0.11054333 0.49196333 0.8931914 ]\n",
      "30: [1. 1. 0. 0. 0. 0. 1.] -> [ True] | pred: [0.11176736 0.497184   0.89256686]\n",
      "31: [1. 1. 0. 0. 0. 0. 0.] -> [False] | pred: [0.11206347 0.4947126  0.89404005]\n",
      "32: [1. 0. 1. 1. 1. 1. 1.] -> [False] | pred: [0.10700792 0.49160618 0.888927  ]\n",
      "33: [1. 0. 1. 1. 1. 1. 0.] -> [ True] | pred: [0.11144836 0.48794726 0.8910989 ]\n",
      "34: [1. 0. 1. 1. 1. 0. 1.] -> [ True] | pred: [0.10583764 0.49144447 0.8911002 ]\n",
      "35: [1. 0. 1. 1. 1. 0. 0.] -> [False] | pred: [0.10874099 0.48857984 0.89121383]\n",
      "36: [1. 0. 1. 1. 0. 1. 1.] -> [ True] | pred: [0.11056965 0.49215722 0.8859576 ]\n",
      "37: [1. 0. 1. 1. 0. 1. 0.] -> [False] | pred: [0.11408871 0.49423355 0.894074  ]\n",
      "38: [1. 0. 1. 1. 0. 0. 1.] -> [False] | pred: [0.10650604 0.49734253 0.8885541 ]\n",
      "39: [1. 0. 1. 1. 0. 0. 0.] -> [ True] | pred: [0.11101882 0.48890197 0.8887847 ]\n",
      "40: [1. 0. 1. 0. 1. 1. 1.] -> [ True] | pred: [0.10517495 0.4928276  0.8921052 ]\n",
      "41: [1. 0. 1. 0. 1. 1. 0.] -> [False] | pred: [0.10633054 0.4909589  0.89098006]\n",
      "42: [1. 0. 1. 0. 1. 0. 1.] -> [False] | pred: [0.10485758 0.49386674 0.8977872 ]\n",
      "43: [1. 0. 1. 0. 1. 0. 0.] -> [ True] | pred: [0.10567155 0.48963043 0.8954573 ]\n",
      "44: [1. 0. 1. 0. 0. 1. 1.] -> [False] | pred: [0.10786448 0.49374118 0.89057124]\n",
      "45: [1. 0. 1. 0. 0. 1. 0.] -> [ True] | pred: [0.10916142 0.491422   0.89342713]\n",
      "46: [1. 0. 1. 0. 0. 0. 1.] -> [ True] | pred: [0.10723757 0.4962666  0.8918013 ]\n",
      "47: [1. 0. 1. 0. 0. 0. 0.] -> [False] | pred: [0.11062533 0.4930015  0.89169115]\n",
      "48: [1. 0. 0. 1. 1. 1. 1.] -> [ True] | pred: [0.10837533 0.48923516 0.8931064 ]\n",
      "49: [1. 0. 0. 1. 1. 1. 0.] -> [False] | pred: [0.11054751 0.48984015 0.89063054]\n",
      "50: [1. 0. 0. 1. 1. 0. 1.] -> [False] | pred: [0.10940281 0.49269038 0.8901972 ]\n",
      "51: [1. 0. 0. 1. 1. 0. 0.] -> [ True] | pred: [0.11306674 0.49066108 0.8873188 ]\n",
      "52: [1. 0. 0. 1. 0. 1. 1.] -> [False] | pred: [0.10753911 0.49146253 0.8896196 ]\n",
      "53: [1. 0. 0. 1. 0. 1. 0.] -> [ True] | pred: [0.11573371 0.4923449  0.89154834]\n",
      "54: [1. 0. 0. 1. 0. 0. 1.] -> [ True] | pred: [0.1100949  0.49423856 0.8873495 ]\n",
      "55: [1. 0. 0. 1. 0. 0. 0.] -> [False] | pred: [0.11516312 0.4915192  0.8912198 ]\n",
      "56: [1. 0. 0. 0. 1. 1. 1.] -> [False] | pred: [0.10696415 0.4908893  0.8922054 ]\n",
      "57: [1. 0. 0. 0. 1. 1. 0.] -> [ True] | pred: [0.10644346 0.48680985 0.8927107 ]\n",
      "58: [1. 0. 0. 0. 1. 0. 1.] -> [ True] | pred: [0.1076494  0.49455592 0.893023  ]\n",
      "59: [1. 0. 0. 0. 1. 0. 0.] -> [False] | pred: [0.10854366 0.49124542 0.8929485 ]\n",
      "60: [1. 0. 0. 0. 0. 1. 1.] -> [ True] | pred: [0.10523053 0.4899489  0.89160776]\n",
      "61: [1. 0. 0. 0. 0. 1. 0.] -> [False] | pred: [0.1124316  0.4884658  0.89506847]\n",
      "62: [1. 0. 0. 0. 0. 0. 1.] -> [False] | pred: [0.10989496 0.4970706  0.88603157]\n",
      "63: [1. 0. 0. 0. 0. 0. 0.] -> [ True] | pred: [0.11413123 0.49106717 0.8919652 ]\n",
      "64: [0. 1. 1. 1. 1. 1. 1.] -> [False] | pred: [0.11210725 0.49321583 0.8851997 ]\n",
      "65: [0. 1. 1. 1. 1. 1. 0.] -> [ True] | pred: [0.11409029 0.4885506  0.891316  ]\n",
      "66: [0. 1. 1. 1. 1. 0. 1.] -> [ True] | pred: [0.11263505 0.49453586 0.89011574]\n",
      "67: [0. 1. 1. 1. 1. 0. 0.] -> [False] | pred: [0.11446685 0.4910135  0.89192736]\n",
      "68: [0. 1. 1. 1. 0. 1. 1.] -> [ True] | pred: [0.11179102 0.49415833 0.88642555]\n",
      "69: [0. 1. 1. 1. 0. 1. 0.] -> [False] | pred: [0.1138745  0.49020582 0.89012784]\n",
      "70: [0. 1. 1. 1. 0. 0. 1.] -> [False] | pred: [0.1143     0.49896264 0.8884018 ]\n",
      "71: [0. 1. 1. 1. 0. 0. 0.] -> [ True] | pred: [0.11622265 0.49199653 0.88909554]\n",
      "72: [0. 1. 1. 0. 1. 1. 1.] -> [ True] | pred: [0.11210164 0.4963963  0.8882897 ]\n",
      "73: [0. 1. 1. 0. 1. 1. 0.] -> [False] | pred: [0.11435258 0.49030384 0.8887772 ]\n",
      "74: [0. 1. 1. 0. 1. 0. 1.] -> [False] | pred: [0.11577377 0.4992209  0.8919419 ]\n",
      "75: [0. 1. 1. 0. 1. 0. 0.] -> [ True] | pred: [0.11570118 0.4953215  0.8906563 ]\n",
      "76: [0. 1. 1. 0. 0. 1. 1.] -> [False] | pred: [0.11176866 0.49700922 0.88577634]\n",
      "77: [0. 1. 1. 0. 0. 1. 0.] -> [ True] | pred: [0.11487946 0.4943     0.88679373]\n",
      "78: [0. 1. 1. 0. 0. 0. 1.] -> [ True] | pred: [0.11585783 0.49990135 0.8876691 ]\n",
      "79: [0. 1. 1. 0. 0. 0. 0.] -> [False] | pred: [0.11690148 0.49243063 0.8895561 ]\n",
      "80: [0. 1. 0. 1. 1. 1. 1.] -> [ True] | pred: [0.10833836 0.49004355 0.8916149 ]\n",
      "81: [0. 1. 0. 1. 1. 1. 0.] -> [False] | pred: [0.11499848 0.48424202 0.88454485]\n",
      "82: [0. 1. 0. 1. 1. 0. 1.] -> [False] | pred: [0.11235093 0.49521458 0.88940084]\n",
      "83: [0. 1. 0. 1. 1. 0. 0.] -> [ True] | pred: [0.1192904  0.48990023 0.8896273 ]\n",
      "84: [0. 1. 0. 1. 0. 1. 1.] -> [False] | pred: [0.10695888 0.49326128 0.88872486]\n",
      "85: [0. 1. 0. 1. 0. 1. 0.] -> [ True] | pred: [0.11247491 0.4897361  0.88752407]\n",
      "86: [0. 1. 0. 1. 0. 0. 1.] -> [ True] | pred: [0.11279251 0.49768785 0.89400834]\n",
      "87: [0. 1. 0. 1. 0. 0. 0.] -> [False] | pred: [0.1163495  0.4948038  0.88823545]\n",
      "88: [0. 1. 0. 0. 1. 1. 1.] -> [False] | pred: [0.11203586 0.49510854 0.8922641 ]\n",
      "89: [0. 1. 0. 0. 1. 1. 0.] -> [ True] | pred: [0.11628241 0.48898664 0.8911345 ]\n",
      "90: [0. 1. 0. 0. 1. 0. 1.] -> [ True] | pred: [0.11664632 0.49763232 0.89235604]\n",
      "91: [0. 1. 0. 0. 1. 0. 0.] -> [False] | pred: [0.11609071 0.49104536 0.8937768 ]\n",
      "92: [0. 1. 0. 0. 0. 1. 1.] -> [ True] | pred: [0.10982863 0.49416214 0.8905041 ]\n",
      "93: [0. 1. 0. 0. 0. 1. 0.] -> [False] | pred: [0.11559908 0.49254435 0.88906276]\n",
      "94: [0. 1. 0. 0. 0. 0. 1.] -> [False] | pred: [0.11415293 0.49571896 0.89325035]\n",
      "95: [0. 1. 0. 0. 0. 0. 0.] -> [ True] | pred: [0.1178896  0.49107122 0.8925843 ]\n",
      "96: [0. 0. 1. 1. 1. 1. 1.] -> [ True] | pred: [0.10805861 0.491064   0.8885378 ]\n",
      "97: [0. 0. 1. 1. 1. 1. 0.] -> [False] | pred: [0.11354588 0.48968348 0.8866642 ]\n",
      "98: [0. 0. 1. 1. 1. 0. 1.] -> [False] | pred: [0.11120579 0.49419457 0.88844216]\n",
      "99: [0. 0. 1. 1. 1. 0. 0.] -> [ True] | pred: [0.11165061 0.48957992 0.8904283 ]\n",
      "100: [0. 0. 1. 1. 0. 1. 1.] -> [False] | pred: [0.10856961 0.49391752 0.885561  ]\n",
      "101: [0. 0. 1. 1. 0. 1. 0.] -> [ True] | pred: [0.11555907 0.48817286 0.8878712 ]\n",
      "102: [0. 0. 1. 1. 0. 0. 1.] -> [ True] | pred: [0.11252318 0.494624   0.8868161 ]\n",
      "103: [0. 0. 1. 1. 0. 0. 0.] -> [False] | pred: [0.11249847 0.48775303 0.88447255]\n",
      "104: [0. 0. 1. 0. 1. 1. 1.] -> [False] | pred: [0.10715399 0.49534506 0.88858783]\n",
      "105: [0. 0. 1. 0. 1. 1. 0.] -> [ True] | pred: [0.11164393 0.49211502 0.89065206]\n",
      "106: [0. 0. 1. 0. 1. 0. 1.] -> [ True] | pred: [0.11737428 0.4967683  0.89318323]\n",
      "107: [0. 0. 1. 0. 1. 0. 0.] -> [False] | pred: [0.11390846 0.49323073 0.8917242 ]\n",
      "108: [0. 0. 1. 0. 0. 1. 1.] -> [ True] | pred: [0.10676455 0.49517548 0.8837939 ]\n",
      "109: [0. 0. 1. 0. 0. 1. 0.] -> [False] | pred: [0.11310672 0.49063718 0.8874868 ]\n",
      "110: [0. 0. 1. 0. 0. 0. 1.] -> [False] | pred: [0.11293903 0.49480727 0.88398063]\n",
      "111: [0. 0. 1. 0. 0. 0. 0.] -> [ True] | pred: [0.11883783 0.4915269  0.8886105 ]\n",
      "112: [0. 0. 0. 1. 1. 1. 1.] -> [False] | pred: [0.10816117 0.4926777  0.8880698 ]\n",
      "113: [0. 0. 0. 1. 1. 1. 0.] -> [ True] | pred: [0.11466906 0.48642278 0.8874304 ]\n",
      "114: [0. 0. 0. 1. 1. 0. 1.] -> [ True] | pred: [0.11153717 0.49352697 0.8877649 ]\n",
      "115: [0. 0. 0. 1. 1. 0. 0.] -> [False] | pred: [0.11108255 0.48894018 0.88650197]\n",
      "116: [0. 0. 0. 1. 0. 1. 1.] -> [ True] | pred: [0.10838318 0.49055248 0.88850206]\n",
      "117: [0. 0. 0. 1. 0. 1. 0.] -> [False] | pred: [0.11469944 0.490304   0.8878328 ]\n",
      "118: [0. 0. 0. 1. 0. 0. 1.] -> [False] | pred: [0.1100351  0.4914168  0.88562226]\n",
      "119: [0. 0. 0. 1. 0. 0. 0.] -> [ True] | pred: [0.11731517 0.48806193 0.8869345 ]\n",
      "120: [0. 0. 0. 0. 1. 1. 1.] -> [ True] | pred: [0.10634199 0.49155894 0.8937135 ]\n",
      "121: [0. 0. 0. 0. 1. 1. 0.] -> [False] | pred: [0.11039895 0.48653698 0.89014953]\n",
      "122: [0. 0. 0. 0. 1. 0. 1.] -> [False] | pred: [0.11253507 0.4976657  0.89171743]\n",
      "123: [0. 0. 0. 0. 1. 0. 0.] -> [ True] | pred: [0.11281027 0.48906547 0.89121366]\n",
      "124: [0. 0. 0. 0. 0. 1. 1.] -> [False] | pred: [0.10665698 0.49125814 0.8908023 ]\n",
      "125: [0. 0. 0. 0. 0. 1. 0.] -> [ True] | pred: [0.11189529 0.49238366 0.88953745]\n",
      "126: [0. 0. 0. 0. 0. 0. 1.] -> [ True] | pred: [0.10909888 0.49105877 0.88796455]\n",
      "127: [0. 0. 0. 0. 0. 0. 0.] -> [False] | pred: [0.11903444 0.49116206 0.88886154]\n"
     ]
    }
   ],
   "source": [
    "samples = resample(random.PRNGKey(45), results.samples, results.log_dp_mean, S=int(results.ESS), replace=True)\n",
    "\n",
    "def predict(params):\n",
    "    params_dict = unravel_func(params)\n",
    "    logits = model.apply(params_dict, x)\n",
    "    return jax.nn.sigmoid(logits)[:,0]\n",
    "\n",
    "predictions = vmap(predict)(samples['params'])\n",
    "\n",
    "for i in range(len(y)):\n",
    "    print(f\"{i}: {x[i]} -> {y[i]} | pred: {jnp.percentile(predictions[:,i],jnp.asarray([5,50,95]))}\")"
   ],
   "metadata": {
    "collapsed": false,
    "pycharm": {
     "name": "#%%\n"
    }
   }
  },
  {
   "cell_type": "code",
   "execution_count": 11,
   "outputs": [
    {
     "name": "stdout",
     "output_type": "stream",
     "text": [
      "0: [1. 1. 1. 1. 1. 1. 1.] -> [ True] | pred: [0.10859276 0.49606484 0.88965696]\n",
      "1: [1. 1. 1. 1. 1. 1. 0.] -> [False] | pred: [0.10859276 0.49606484 0.88965696]\n",
      "2: [1. 1. 1. 1. 1. 0. 1.] -> [False] | pred: [0.10859276 0.49606484 0.88965696]\n",
      "3: [1. 1. 1. 1. 1. 0. 0.] -> [ True] | pred: [0.10859276 0.49606484 0.88965696]\n",
      "4: [1. 1. 1. 1. 0. 1. 1.] -> [False] | pred: [0.10859276 0.49606484 0.88965696]\n",
      "5: [1. 1. 1. 1. 0. 1. 0.] -> [ True] | pred: [0.10859276 0.49606484 0.88965696]\n",
      "6: [1. 1. 1. 1. 0. 0. 1.] -> [ True] | pred: [0.10859276 0.49606484 0.88965696]\n",
      "7: [1. 1. 1. 1. 0. 0. 0.] -> [False] | pred: [0.10859276 0.49606484 0.88965696]\n",
      "8: [1. 1. 1. 0. 1. 1. 1.] -> [False] | pred: [0.10859276 0.49606484 0.88965696]\n",
      "9: [1. 1. 1. 0. 1. 1. 0.] -> [ True] | pred: [0.10859276 0.49606484 0.88965696]\n",
      "10: [1. 1. 1. 0. 1. 0. 1.] -> [ True] | pred: [0.10859276 0.49606484 0.88965696]\n",
      "11: [1. 1. 1. 0. 1. 0. 0.] -> [False] | pred: [0.10859276 0.49606484 0.88965696]\n",
      "12: [1. 1. 1. 0. 0. 1. 1.] -> [ True] | pred: [0.10859276 0.49606484 0.88965696]\n",
      "13: [1. 1. 1. 0. 0. 1. 0.] -> [False] | pred: [0.10859276 0.49606484 0.88965696]\n",
      "14: [1. 1. 1. 0. 0. 0. 1.] -> [False] | pred: [0.10859276 0.49606484 0.88965696]\n",
      "15: [1. 1. 1. 0. 0. 0. 0.] -> [ True] | pred: [0.10859276 0.49606484 0.88965696]\n",
      "16: [1. 1. 0. 1. 1. 1. 1.] -> [False] | pred: [0.10859276 0.49606484 0.88965696]\n",
      "17: [1. 1. 0. 1. 1. 1. 0.] -> [ True] | pred: [0.10859276 0.49606484 0.88965696]\n",
      "18: [1. 1. 0. 1. 1. 0. 1.] -> [ True] | pred: [0.10859276 0.49606484 0.88965696]\n",
      "19: [1. 1. 0. 1. 1. 0. 0.] -> [False] | pred: [0.10859276 0.49606484 0.88965696]\n",
      "20: [1. 1. 0. 1. 0. 1. 1.] -> [ True] | pred: [0.10859276 0.49606484 0.88965696]\n",
      "21: [1. 1. 0. 1. 0. 1. 0.] -> [False] | pred: [0.10859276 0.49606484 0.88965696]\n",
      "22: [1. 1. 0. 1. 0. 0. 1.] -> [False] | pred: [0.10859276 0.49606484 0.88965696]\n",
      "23: [1. 1. 0. 1. 0. 0. 0.] -> [ True] | pred: [0.10859276 0.49606484 0.88965696]\n",
      "24: [1. 1. 0. 0. 1. 1. 1.] -> [ True] | pred: [0.10859276 0.49606484 0.88965696]\n",
      "25: [1. 1. 0. 0. 1. 1. 0.] -> [False] | pred: [0.10859276 0.49606484 0.88965696]\n",
      "26: [1. 1. 0. 0. 1. 0. 1.] -> [False] | pred: [0.10859276 0.49606484 0.88965696]\n",
      "27: [1. 1. 0. 0. 1. 0. 0.] -> [ True] | pred: [0.10859276 0.49606484 0.88965696]\n",
      "28: [1. 1. 0. 0. 0. 1. 1.] -> [False] | pred: [0.10859276 0.49606484 0.88965696]\n",
      "29: [1. 1. 0. 0. 0. 1. 0.] -> [ True] | pred: [0.10859276 0.49606484 0.88965696]\n",
      "30: [1. 1. 0. 0. 0. 0. 1.] -> [ True] | pred: [0.10859276 0.49606484 0.88965696]\n",
      "31: [1. 1. 0. 0. 0. 0. 0.] -> [False] | pred: [0.10859276 0.49606484 0.88965696]\n",
      "32: [1. 0. 1. 1. 1. 1. 1.] -> [False] | pred: [0.10859276 0.49606484 0.88965696]\n",
      "33: [1. 0. 1. 1. 1. 1. 0.] -> [ True] | pred: [0.10859276 0.49606484 0.88965696]\n",
      "34: [1. 0. 1. 1. 1. 0. 1.] -> [ True] | pred: [0.10859276 0.49606484 0.88965696]\n",
      "35: [1. 0. 1. 1. 1. 0. 0.] -> [False] | pred: [0.10859276 0.49606484 0.88965696]\n",
      "36: [1. 0. 1. 1. 0. 1. 1.] -> [ True] | pred: [0.10859276 0.49606484 0.88965696]\n",
      "37: [1. 0. 1. 1. 0. 1. 0.] -> [False] | pred: [0.10859276 0.49606484 0.88965696]\n",
      "38: [1. 0. 1. 1. 0. 0. 1.] -> [False] | pred: [0.10859276 0.49606484 0.88965696]\n",
      "39: [1. 0. 1. 1. 0. 0. 0.] -> [ True] | pred: [0.10859276 0.49606484 0.88965696]\n",
      "40: [1. 0. 1. 0. 1. 1. 1.] -> [ True] | pred: [0.10859276 0.49606484 0.88965696]\n",
      "41: [1. 0. 1. 0. 1. 1. 0.] -> [False] | pred: [0.10859276 0.49606484 0.88965696]\n",
      "42: [1. 0. 1. 0. 1. 0. 1.] -> [False] | pred: [0.10859276 0.49606484 0.88965696]\n",
      "43: [1. 0. 1. 0. 1. 0. 0.] -> [ True] | pred: [0.10859276 0.49606484 0.88965696]\n",
      "44: [1. 0. 1. 0. 0. 1. 1.] -> [False] | pred: [0.10859276 0.49606484 0.88965696]\n",
      "45: [1. 0. 1. 0. 0. 1. 0.] -> [ True] | pred: [0.10859276 0.49606484 0.88965696]\n",
      "46: [1. 0. 1. 0. 0. 0. 1.] -> [ True] | pred: [0.10859276 0.49606484 0.88965696]\n",
      "47: [1. 0. 1. 0. 0. 0. 0.] -> [False] | pred: [0.10859276 0.49606484 0.88965696]\n",
      "48: [1. 0. 0. 1. 1. 1. 1.] -> [ True] | pred: [0.10859276 0.49606484 0.88965696]\n",
      "49: [1. 0. 0. 1. 1. 1. 0.] -> [False] | pred: [0.10859276 0.49606484 0.88965696]\n",
      "50: [1. 0. 0. 1. 1. 0. 1.] -> [False] | pred: [0.10859276 0.49606484 0.88965696]\n",
      "51: [1. 0. 0. 1. 1. 0. 0.] -> [ True] | pred: [0.10859276 0.49606484 0.88965696]\n",
      "52: [1. 0. 0. 1. 0. 1. 1.] -> [False] | pred: [0.10859276 0.49606484 0.88965696]\n",
      "53: [1. 0. 0. 1. 0. 1. 0.] -> [ True] | pred: [0.10859276 0.49606484 0.88965696]\n",
      "54: [1. 0. 0. 1. 0. 0. 1.] -> [ True] | pred: [0.10859276 0.49606484 0.88965696]\n",
      "55: [1. 0. 0. 1. 0. 0. 0.] -> [False] | pred: [0.10859276 0.49606484 0.88965696]\n",
      "56: [1. 0. 0. 0. 1. 1. 1.] -> [False] | pred: [0.10859276 0.49606484 0.88965696]\n",
      "57: [1. 0. 0. 0. 1. 1. 0.] -> [ True] | pred: [0.10859276 0.49606484 0.88965696]\n",
      "58: [1. 0. 0. 0. 1. 0. 1.] -> [ True] | pred: [0.10859276 0.49606484 0.88965696]\n",
      "59: [1. 0. 0. 0. 1. 0. 0.] -> [False] | pred: [0.10859276 0.49606484 0.88965696]\n",
      "60: [1. 0. 0. 0. 0. 1. 1.] -> [ True] | pred: [0.10859276 0.49606484 0.88965696]\n",
      "61: [1. 0. 0. 0. 0. 1. 0.] -> [False] | pred: [0.10859276 0.49606484 0.88965696]\n",
      "62: [1. 0. 0. 0. 0. 0. 1.] -> [False] | pred: [0.10859276 0.49606484 0.88965696]\n",
      "63: [1. 0. 0. 0. 0. 0. 0.] -> [ True] | pred: [0.10859276 0.49606484 0.88965696]\n",
      "64: [0. 1. 1. 1. 1. 1. 1.] -> [False] | pred: [0.10859276 0.49606484 0.88965696]\n",
      "65: [0. 1. 1. 1. 1. 1. 0.] -> [ True] | pred: [0.10859276 0.49606484 0.88965696]\n",
      "66: [0. 1. 1. 1. 1. 0. 1.] -> [ True] | pred: [0.10859276 0.49606484 0.88965696]\n",
      "67: [0. 1. 1. 1. 1. 0. 0.] -> [False] | pred: [0.10859276 0.49606484 0.88965696]\n",
      "68: [0. 1. 1. 1. 0. 1. 1.] -> [ True] | pred: [0.10859276 0.49606484 0.88965696]\n",
      "69: [0. 1. 1. 1. 0. 1. 0.] -> [False] | pred: [0.10859276 0.49606484 0.88965696]\n",
      "70: [0. 1. 1. 1. 0. 0. 1.] -> [False] | pred: [0.10859276 0.49606484 0.88965696]\n",
      "71: [0. 1. 1. 1. 0. 0. 0.] -> [ True] | pred: [0.10859276 0.49606484 0.88965696]\n",
      "72: [0. 1. 1. 0. 1. 1. 1.] -> [ True] | pred: [0.10859276 0.49606484 0.88965696]\n",
      "73: [0. 1. 1. 0. 1. 1. 0.] -> [False] | pred: [0.10859276 0.49606484 0.88965696]\n",
      "74: [0. 1. 1. 0. 1. 0. 1.] -> [False] | pred: [0.10859276 0.49606484 0.88965696]\n",
      "75: [0. 1. 1. 0. 1. 0. 0.] -> [ True] | pred: [0.10859276 0.49606484 0.88965696]\n",
      "76: [0. 1. 1. 0. 0. 1. 1.] -> [False] | pred: [0.10859276 0.49606484 0.88965696]\n",
      "77: [0. 1. 1. 0. 0. 1. 0.] -> [ True] | pred: [0.10859276 0.49606484 0.88965696]\n",
      "78: [0. 1. 1. 0. 0. 0. 1.] -> [ True] | pred: [0.10859276 0.49606484 0.88965696]\n",
      "79: [0. 1. 1. 0. 0. 0. 0.] -> [False] | pred: [0.10859276 0.49606484 0.88965696]\n",
      "80: [0. 1. 0. 1. 1. 1. 1.] -> [ True] | pred: [0.10859276 0.49606484 0.88965696]\n",
      "81: [0. 1. 0. 1. 1. 1. 0.] -> [False] | pred: [0.10859276 0.49606484 0.88965696]\n",
      "82: [0. 1. 0. 1. 1. 0. 1.] -> [False] | pred: [0.10859276 0.49606484 0.88965696]\n",
      "83: [0. 1. 0. 1. 1. 0. 0.] -> [ True] | pred: [0.10859276 0.49606484 0.88965696]\n",
      "84: [0. 1. 0. 1. 0. 1. 1.] -> [False] | pred: [0.10859276 0.49606484 0.88965696]\n",
      "85: [0. 1. 0. 1. 0. 1. 0.] -> [ True] | pred: [0.10859276 0.49606484 0.88965696]\n",
      "86: [0. 1. 0. 1. 0. 0. 1.] -> [ True] | pred: [0.10859276 0.49606484 0.88965696]\n",
      "87: [0. 1. 0. 1. 0. 0. 0.] -> [False] | pred: [0.10859276 0.49606484 0.88965696]\n",
      "88: [0. 1. 0. 0. 1. 1. 1.] -> [False] | pred: [0.10859276 0.49606484 0.88965696]\n",
      "89: [0. 1. 0. 0. 1. 1. 0.] -> [ True] | pred: [0.10859276 0.49606484 0.88965696]\n",
      "90: [0. 1. 0. 0. 1. 0. 1.] -> [ True] | pred: [0.10859276 0.49606484 0.88965696]\n",
      "91: [0. 1. 0. 0. 1. 0. 0.] -> [False] | pred: [0.10859276 0.49606484 0.88965696]\n",
      "92: [0. 1. 0. 0. 0. 1. 1.] -> [ True] | pred: [0.10859276 0.49606484 0.88965696]\n",
      "93: [0. 1. 0. 0. 0. 1. 0.] -> [False] | pred: [0.10859276 0.49606484 0.88965696]\n",
      "94: [0. 1. 0. 0. 0. 0. 1.] -> [False] | pred: [0.10859276 0.49606484 0.88965696]\n",
      "95: [0. 1. 0. 0. 0. 0. 0.] -> [ True] | pred: [0.10859276 0.49606484 0.88965696]\n",
      "96: [0. 0. 1. 1. 1. 1. 1.] -> [ True] | pred: [0.10859276 0.49606484 0.88965696]\n",
      "97: [0. 0. 1. 1. 1. 1. 0.] -> [False] | pred: [0.10859276 0.49606484 0.88965696]\n",
      "98: [0. 0. 1. 1. 1. 0. 1.] -> [False] | pred: [0.10859276 0.49606484 0.88965696]\n",
      "99: [0. 0. 1. 1. 1. 0. 0.] -> [ True] | pred: [0.10859276 0.49606484 0.88965696]\n",
      "100: [0. 0. 1. 1. 0. 1. 1.] -> [False] | pred: [0.10859276 0.49606484 0.88965696]\n",
      "101: [0. 0. 1. 1. 0. 1. 0.] -> [ True] | pred: [0.10859276 0.49606484 0.88965696]\n",
      "102: [0. 0. 1. 1. 0. 0. 1.] -> [ True] | pred: [0.10859276 0.49606484 0.88965696]\n",
      "103: [0. 0. 1. 1. 0. 0. 0.] -> [False] | pred: [0.10859276 0.49606484 0.88965696]\n",
      "104: [0. 0. 1. 0. 1. 1. 1.] -> [False] | pred: [0.10859276 0.49606484 0.88965696]\n",
      "105: [0. 0. 1. 0. 1. 1. 0.] -> [ True] | pred: [0.10859276 0.49606484 0.88965696]\n",
      "106: [0. 0. 1. 0. 1. 0. 1.] -> [ True] | pred: [0.10859276 0.49606484 0.88965696]\n",
      "107: [0. 0. 1. 0. 1. 0. 0.] -> [False] | pred: [0.10859276 0.49606484 0.88965696]\n",
      "108: [0. 0. 1. 0. 0. 1. 1.] -> [ True] | pred: [0.10859276 0.49606484 0.88965696]\n",
      "109: [0. 0. 1. 0. 0. 1. 0.] -> [False] | pred: [0.10859276 0.49606484 0.88965696]\n",
      "110: [0. 0. 1. 0. 0. 0. 1.] -> [False] | pred: [0.10859276 0.49606484 0.88965696]\n",
      "111: [0. 0. 1. 0. 0. 0. 0.] -> [ True] | pred: [0.10859276 0.49606484 0.88965696]\n",
      "112: [0. 0. 0. 1. 1. 1. 1.] -> [False] | pred: [0.10859276 0.49606484 0.88965696]\n",
      "113: [0. 0. 0. 1. 1. 1. 0.] -> [ True] | pred: [0.10859276 0.49606484 0.88965696]\n",
      "114: [0. 0. 0. 1. 1. 0. 1.] -> [ True] | pred: [0.10859276 0.49606484 0.88965696]\n",
      "115: [0. 0. 0. 1. 1. 0. 0.] -> [False] | pred: [0.10859276 0.49606484 0.88965696]\n",
      "116: [0. 0. 0. 1. 0. 1. 1.] -> [ True] | pred: [0.10859276 0.49606484 0.88965696]\n",
      "117: [0. 0. 0. 1. 0. 1. 0.] -> [False] | pred: [0.10859276 0.49606484 0.88965696]\n",
      "118: [0. 0. 0. 1. 0. 0. 1.] -> [False] | pred: [0.10859276 0.49606484 0.88965696]\n",
      "119: [0. 0. 0. 1. 0. 0. 0.] -> [ True] | pred: [0.10859276 0.49606484 0.88965696]\n",
      "120: [0. 0. 0. 0. 1. 1. 1.] -> [ True] | pred: [0.10859276 0.49606484 0.88965696]\n",
      "121: [0. 0. 0. 0. 1. 1. 0.] -> [False] | pred: [0.10859276 0.49606484 0.88965696]\n",
      "122: [0. 0. 0. 0. 1. 0. 1.] -> [False] | pred: [0.10859276 0.49606484 0.88965696]\n",
      "123: [0. 0. 0. 0. 1. 0. 0.] -> [ True] | pred: [0.10859276 0.49606484 0.88965696]\n",
      "124: [0. 0. 0. 0. 0. 1. 1.] -> [False] | pred: [0.10859276 0.49606484 0.88965696]\n",
      "125: [0. 0. 0. 0. 0. 1. 0.] -> [ True] | pred: [0.10859276 0.49606484 0.88965696]\n",
      "126: [0. 0. 0. 0. 0. 0. 1.] -> [ True] | pred: [0.10859276 0.49606484 0.88965696]\n",
      "127: [0. 0. 0. 0. 0. 0. 0.] -> [False] | pred: [0.10859276 0.49606484 0.88965696]\n"
     ]
    }
   ],
   "source": [],
   "metadata": {
    "collapsed": false,
    "pycharm": {
     "name": "#%%\n"
    }
   }
  },
  {
   "cell_type": "code",
   "execution_count": null,
   "outputs": [],
   "source": [],
   "metadata": {
    "collapsed": false,
    "pycharm": {
     "name": "#%%\n"
    }
   }
  }
 ],
 "metadata": {
  "kernelspec": {
   "display_name": "Python 3",
   "language": "python",
   "name": "python3"
  },
  "language_info": {
   "codemirror_mode": {
    "name": "ipython",
    "version": 2
   },
   "file_extension": ".py",
   "mimetype": "text/x-python",
   "name": "python",
   "nbconvert_exporter": "python",
   "pygments_lexer": "ipython2",
   "version": "2.7.6"
  }
 },
 "nbformat": 4,
 "nbformat_minor": 0
}