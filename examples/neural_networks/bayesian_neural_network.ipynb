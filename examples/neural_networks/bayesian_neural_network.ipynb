{
 "cells": [
  {
   "cell_type": "markdown",
   "metadata": {
    "collapsed": true,
    "pycharm": {
     "name": "#%% md\n"
    }
   },
   "source": [
    "# Gradient-free Global Maximum Likelihood Finding: Neural Networks\n",
    "\n",
    "Neural network training is typically done with maximum likelihood estimation. Given the number of parameter invariances, and symmetries in neural network architectures, this often introduces a large number of local minima, making global optimisation very difficult.\n",
    "\n",
    "JAXNS uses slice sampling as a gradient-free way to sample from hard-likelihood constraints, starting from small likelihoods and strictly increasing towards a maximum likelihood. This actually means that JAXNS is performing global maximisation of the likelihood. The prior can be seen as a measure which guides where JAXNS looks first. An attractive idea is to think about the prior as a guide for efficient global maximisation with JAXNS, but that's for another tutorial ;).\n",
    "\n",
    "## Overview\n",
    "\n",
    "In this tutorial we'll cover:\n",
    "1. How to build a JAXNS model of a neural network using [Haiku](https://github.com/deepmind/dm-haiku)\n",
    "2. How to do global likelihood maximisation with JAXNS"
   ]
  },
  {
   "cell_type": "code",
   "execution_count": 1,
   "outputs": [],
   "source": [
    "try:\n",
    "    import haiku as hk\n",
    "except ImportError:\n",
    "    print(\"You must `pip install dm-haiku` first.\")\n",
    "\n",
    "from jax import numpy as jnp, random, jit, vmap\n",
    "import jax\n",
    "from jax.flatten_util import ravel_pytree\n",
    "\n",
    "from jaxns.prior_transforms import UniformPrior, PriorChain\n",
    "from jaxns.nested_sampler.nested_sampling import NestedSampler\n",
    "from jaxns.plotting import plot_diagnostics\n",
    "from jaxns.utils import summary\n",
    "from jax.scipy.optimize import minimize\n",
    "from itertools import product\n"
   ],
   "metadata": {
    "collapsed": false,
    "pycharm": {
     "name": "#%%\n"
    }
   }
  },
  {
   "cell_type": "code",
   "execution_count": 2,
   "outputs": [
    {
     "name": "stderr",
     "output_type": "stream",
     "text": [
      "INFO[2022-03-04 15:01:40,804]: Unable to initialize backend 'tpu_driver': NOT_FOUND: Unable to find driver in registry given worker: \n",
      "INFO[2022-03-04 15:01:40,804]: Unable to initialize backend 'gpu': NOT_FOUND: Could not find registered platform with name: \"cuda\". Available platform names are: Interpreter Host\n",
      "INFO[2022-03-04 15:01:40,805]: Unable to initialize backend 'tpu': INVALID_ARGUMENT: TpuPlatform is not available.\n",
      "WARNING[2022-03-04 15:01:40,806]: No GPU/TPU found, falling back to CPU. (Set TF_CPP_MIN_LOG_LEVEL=0 and rerun for more info.)\n"
     ]
    },
    {
     "name": "stdout",
     "output_type": "stream",
     "text": [
      "Data:\n",
      "[1. 1. 1. 1. 1. 1. 1.] -> [ True]\n",
      "[1. 1. 1. 1. 1. 1. 0.] -> [False]\n",
      "[1. 1. 1. 1. 1. 0. 1.] -> [False]\n",
      "[1. 1. 1. 1. 1. 0. 0.] -> [ True]\n",
      "[1. 1. 1. 1. 0. 1. 1.] -> [False]\n",
      "[1. 1. 1. 1. 0. 1. 0.] -> [ True]\n",
      "[1. 1. 1. 1. 0. 0. 1.] -> [ True]\n",
      "[1. 1. 1. 1. 0. 0. 0.] -> [False]\n",
      "[1. 1. 1. 0. 1. 1. 1.] -> [False]\n",
      "[1. 1. 1. 0. 1. 1. 0.] -> [ True]\n",
      "[1. 1. 1. 0. 1. 0. 1.] -> [ True]\n",
      "[1. 1. 1. 0. 1. 0. 0.] -> [False]\n",
      "[1. 1. 1. 0. 0. 1. 1.] -> [ True]\n",
      "[1. 1. 1. 0. 0. 1. 0.] -> [False]\n",
      "[1. 1. 1. 0. 0. 0. 1.] -> [False]\n",
      "[1. 1. 1. 0. 0. 0. 0.] -> [ True]\n",
      "[1. 1. 0. 1. 1. 1. 1.] -> [False]\n",
      "[1. 1. 0. 1. 1. 1. 0.] -> [ True]\n",
      "[1. 1. 0. 1. 1. 0. 1.] -> [ True]\n",
      "[1. 1. 0. 1. 1. 0. 0.] -> [False]\n",
      "[1. 1. 0. 1. 0. 1. 1.] -> [ True]\n",
      "[1. 1. 0. 1. 0. 1. 0.] -> [False]\n",
      "[1. 1. 0. 1. 0. 0. 1.] -> [False]\n",
      "[1. 1. 0. 1. 0. 0. 0.] -> [ True]\n",
      "[1. 1. 0. 0. 1. 1. 1.] -> [ True]\n",
      "[1. 1. 0. 0. 1. 1. 0.] -> [False]\n",
      "[1. 1. 0. 0. 1. 0. 1.] -> [False]\n",
      "[1. 1. 0. 0. 1. 0. 0.] -> [ True]\n",
      "[1. 1. 0. 0. 0. 1. 1.] -> [False]\n",
      "[1. 1. 0. 0. 0. 1. 0.] -> [ True]\n",
      "[1. 1. 0. 0. 0. 0. 1.] -> [ True]\n",
      "[1. 1. 0. 0. 0. 0. 0.] -> [False]\n",
      "[1. 0. 1. 1. 1. 1. 1.] -> [False]\n",
      "[1. 0. 1. 1. 1. 1. 0.] -> [ True]\n",
      "[1. 0. 1. 1. 1. 0. 1.] -> [ True]\n",
      "[1. 0. 1. 1. 1. 0. 0.] -> [False]\n",
      "[1. 0. 1. 1. 0. 1. 1.] -> [ True]\n",
      "[1. 0. 1. 1. 0. 1. 0.] -> [False]\n",
      "[1. 0. 1. 1. 0. 0. 1.] -> [False]\n",
      "[1. 0. 1. 1. 0. 0. 0.] -> [ True]\n",
      "[1. 0. 1. 0. 1. 1. 1.] -> [ True]\n",
      "[1. 0. 1. 0. 1. 1. 0.] -> [False]\n",
      "[1. 0. 1. 0. 1. 0. 1.] -> [False]\n",
      "[1. 0. 1. 0. 1. 0. 0.] -> [ True]\n",
      "[1. 0. 1. 0. 0. 1. 1.] -> [False]\n",
      "[1. 0. 1. 0. 0. 1. 0.] -> [ True]\n",
      "[1. 0. 1. 0. 0. 0. 1.] -> [ True]\n",
      "[1. 0. 1. 0. 0. 0. 0.] -> [False]\n",
      "[1. 0. 0. 1. 1. 1. 1.] -> [ True]\n",
      "[1. 0. 0. 1. 1. 1. 0.] -> [False]\n",
      "[1. 0. 0. 1. 1. 0. 1.] -> [False]\n",
      "[1. 0. 0. 1. 1. 0. 0.] -> [ True]\n",
      "[1. 0. 0. 1. 0. 1. 1.] -> [False]\n",
      "[1. 0. 0. 1. 0. 1. 0.] -> [ True]\n",
      "[1. 0. 0. 1. 0. 0. 1.] -> [ True]\n",
      "[1. 0. 0. 1. 0. 0. 0.] -> [False]\n",
      "[1. 0. 0. 0. 1. 1. 1.] -> [False]\n",
      "[1. 0. 0. 0. 1. 1. 0.] -> [ True]\n",
      "[1. 0. 0. 0. 1. 0. 1.] -> [ True]\n",
      "[1. 0. 0. 0. 1. 0. 0.] -> [False]\n",
      "[1. 0. 0. 0. 0. 1. 1.] -> [ True]\n",
      "[1. 0. 0. 0. 0. 1. 0.] -> [False]\n",
      "[1. 0. 0. 0. 0. 0. 1.] -> [False]\n",
      "[1. 0. 0. 0. 0. 0. 0.] -> [ True]\n",
      "[0. 1. 1. 1. 1. 1. 1.] -> [False]\n",
      "[0. 1. 1. 1. 1. 1. 0.] -> [ True]\n",
      "[0. 1. 1. 1. 1. 0. 1.] -> [ True]\n",
      "[0. 1. 1. 1. 1. 0. 0.] -> [False]\n",
      "[0. 1. 1. 1. 0. 1. 1.] -> [ True]\n",
      "[0. 1. 1. 1. 0. 1. 0.] -> [False]\n",
      "[0. 1. 1. 1. 0. 0. 1.] -> [False]\n",
      "[0. 1. 1. 1. 0. 0. 0.] -> [ True]\n",
      "[0. 1. 1. 0. 1. 1. 1.] -> [ True]\n",
      "[0. 1. 1. 0. 1. 1. 0.] -> [False]\n",
      "[0. 1. 1. 0. 1. 0. 1.] -> [False]\n",
      "[0. 1. 1. 0. 1. 0. 0.] -> [ True]\n",
      "[0. 1. 1. 0. 0. 1. 1.] -> [False]\n",
      "[0. 1. 1. 0. 0. 1. 0.] -> [ True]\n",
      "[0. 1. 1. 0. 0. 0. 1.] -> [ True]\n",
      "[0. 1. 1. 0. 0. 0. 0.] -> [False]\n",
      "[0. 1. 0. 1. 1. 1. 1.] -> [ True]\n",
      "[0. 1. 0. 1. 1. 1. 0.] -> [False]\n",
      "[0. 1. 0. 1. 1. 0. 1.] -> [False]\n",
      "[0. 1. 0. 1. 1. 0. 0.] -> [ True]\n",
      "[0. 1. 0. 1. 0. 1. 1.] -> [False]\n",
      "[0. 1. 0. 1. 0. 1. 0.] -> [ True]\n",
      "[0. 1. 0. 1. 0. 0. 1.] -> [ True]\n",
      "[0. 1. 0. 1. 0. 0. 0.] -> [False]\n",
      "[0. 1. 0. 0. 1. 1. 1.] -> [False]\n",
      "[0. 1. 0. 0. 1. 1. 0.] -> [ True]\n",
      "[0. 1. 0. 0. 1. 0. 1.] -> [ True]\n",
      "[0. 1. 0. 0. 1. 0. 0.] -> [False]\n",
      "[0. 1. 0. 0. 0. 1. 1.] -> [ True]\n",
      "[0. 1. 0. 0. 0. 1. 0.] -> [False]\n",
      "[0. 1. 0. 0. 0. 0. 1.] -> [False]\n",
      "[0. 1. 0. 0. 0. 0. 0.] -> [ True]\n",
      "[0. 0. 1. 1. 1. 1. 1.] -> [ True]\n",
      "[0. 0. 1. 1. 1. 1. 0.] -> [False]\n",
      "[0. 0. 1. 1. 1. 0. 1.] -> [False]\n",
      "[0. 0. 1. 1. 1. 0. 0.] -> [ True]\n",
      "[0. 0. 1. 1. 0. 1. 1.] -> [False]\n",
      "[0. 0. 1. 1. 0. 1. 0.] -> [ True]\n",
      "[0. 0. 1. 1. 0. 0. 1.] -> [ True]\n",
      "[0. 0. 1. 1. 0. 0. 0.] -> [False]\n",
      "[0. 0. 1. 0. 1. 1. 1.] -> [False]\n",
      "[0. 0. 1. 0. 1. 1. 0.] -> [ True]\n",
      "[0. 0. 1. 0. 1. 0. 1.] -> [ True]\n",
      "[0. 0. 1. 0. 1. 0. 0.] -> [False]\n",
      "[0. 0. 1. 0. 0. 1. 1.] -> [ True]\n",
      "[0. 0. 1. 0. 0. 1. 0.] -> [False]\n",
      "[0. 0. 1. 0. 0. 0. 1.] -> [False]\n",
      "[0. 0. 1. 0. 0. 0. 0.] -> [ True]\n",
      "[0. 0. 0. 1. 1. 1. 1.] -> [False]\n",
      "[0. 0. 0. 1. 1. 1. 0.] -> [ True]\n",
      "[0. 0. 0. 1. 1. 0. 1.] -> [ True]\n",
      "[0. 0. 0. 1. 1. 0. 0.] -> [False]\n",
      "[0. 0. 0. 1. 0. 1. 1.] -> [ True]\n",
      "[0. 0. 0. 1. 0. 1. 0.] -> [False]\n",
      "[0. 0. 0. 1. 0. 0. 1.] -> [False]\n",
      "[0. 0. 0. 1. 0. 0. 0.] -> [ True]\n",
      "[0. 0. 0. 0. 1. 1. 1.] -> [ True]\n",
      "[0. 0. 0. 0. 1. 1. 0.] -> [False]\n",
      "[0. 0. 0. 0. 1. 0. 1.] -> [False]\n",
      "[0. 0. 0. 0. 1. 0. 0.] -> [ True]\n",
      "[0. 0. 0. 0. 0. 1. 1.] -> [False]\n",
      "[0. 0. 0. 0. 0. 1. 0.] -> [ True]\n",
      "[0. 0. 0. 0. 0. 0. 1.] -> [ True]\n",
      "[0. 0. 0. 0. 0. 0. 0.] -> [False]\n"
     ]
    }
   ],
   "source": [
    "# Generate data\n",
    "\n",
    "def xor_reduce(x):\n",
    "    \"\"\"\n",
    "    Computes the XOR reduction on a sequence of bits.\n",
    "\n",
    "    Examples:\n",
    "        100 -> xor(xor(1,0),0) = 1\n",
    "        001 -> xor(xor(0,0),1) = 1\n",
    "        110 -> xor(xor(1,1),0) = 0\n",
    "        011 -> xor(xor(0,1),1) = 0\n",
    "\n",
    "    Args:\n",
    "        x: boolean vector of bits.\n",
    "\n",
    "    Returns:\n",
    "        bool\n",
    "    \"\"\"\n",
    "    output = x[0]\n",
    "    for i in range(1, x.shape[-1]):\n",
    "        output = jnp.logical_xor(output, x[i])\n",
    "    return output\n",
    "\n",
    "\n",
    "num_variables = 7\n",
    "options = [True, False]\n",
    "x = jnp.asarray(list(product(options, repeat=num_variables)))#N,2\n",
    "y = vmap(xor_reduce)(x)[:, None]#N, 1\n",
    "x = x.astype(jnp.float32)\n",
    "print(\"Data:\")\n",
    "\n",
    "for input, output in zip(x,y):\n",
    "    print(f\"{input} -> {output}\")\n"
   ],
   "metadata": {
    "collapsed": false,
    "pycharm": {
     "name": "#%%\n"
    }
   }
  },
  {
   "cell_type": "code",
   "execution_count": 3,
   "outputs": [
    {
     "name": "stdout",
     "output_type": "stream",
     "text": [
      "Number of parameters: 37\n"
     ]
    }
   ],
   "source": [
    "# Define the likelihood, using Haiku as our framework for neural networks\n",
    "\n",
    "def model(x, is_training=False):\n",
    "    mlp = hk.Sequential([hk.Linear(4),\n",
    "                         jax.nn.sigmoid,\n",
    "                         hk.Linear(1)])\n",
    "    return mlp(x)\n",
    "\n",
    "model = hk.without_apply_rng(hk.transform(model))\n",
    "# We must call the model once to get the params shape and type as a big pytree\n",
    "# We then use ravel_pytree to flatten and get the unflatten function.\n",
    "init_params = model.init(random.PRNGKey(2345), x)\n",
    "init_params_flat, unravel_func = ravel_pytree(init_params)\n",
    "n_dims = init_params_flat.size\n",
    "print(\"Number of parameters:\", n_dims)\n",
    "\n",
    "def softplus(x):\n",
    "    return jnp.log1p(jnp.exp(x))\n",
    "\n",
    "def log_likelihood(params, **kwargs):\n",
    "    \"\"\"\n",
    "    log(P(y|p))\n",
    "    p = exp(logits)/1 - exp(logits)\n",
    "    = log(p) * y + log(1-p) * (1-y)\n",
    "    = logits * y1 - log(exp(-logits)/(exp(-logits) - 1)) * y0\n",
    "    \"\"\"\n",
    "    params_dict = unravel_func(params)\n",
    "    logits = model.apply(params_dict, x)\n",
    "    log_prob0, log_prob1 = -softplus(logits), -softplus(-logits)\n",
    "    #log(p) * y + log(1-p) * (1-y)\n",
    "    log_prob = jnp.mean(jnp.where(y, log_prob1, log_prob0))\n",
    "    return jnp.asarray(log_prob, jnp.float64)\n"
   ],
   "metadata": {
    "collapsed": false,
    "pycharm": {
     "name": "#%%\n"
    }
   }
  },
  {
   "cell_type": "code",
   "execution_count": 4,
   "outputs": [
    {
     "name": "stderr",
     "output_type": "stream",
     "text": [
      "/home/albert/miniconda3/envs/jax_py/lib/python3.8/site-packages/jax/_src/numpy/lax_numpy.py:3610: UserWarning: Explicitly requested dtype <class 'jax._src.numpy.lax_numpy.float64'> requested in asarray is not available, and will be truncated to dtype float32. To enable more dtypes, set the jax_enable_x64 configuration option or the JAX_ENABLE_X64 shell environment variable. See https://github.com/google/jax#current-gotchas for more.\n",
      "  lax._check_user_dtype_supported(dtype, \"asarray\")\n",
      "/home/albert/miniconda3/envs/jax_py/lib/python3.8/site-packages/jax/_src/numpy/lax_numpy.py:3610: UserWarning: Explicitly requested dtype <class 'jax._src.numpy.lax_numpy.float64'> requested in asarray is not available, and will be truncated to dtype float32. To enable more dtypes, set the jax_enable_x64 configuration option or the JAX_ENABLE_X64 shell environment variable. See https://github.com/google/jax#current-gotchas for more.\n",
      "  lax._check_user_dtype_supported(dtype, \"asarray\")\n",
      "/home/albert/miniconda3/envs/jax_py/lib/python3.8/site-packages/jax/_src/numpy/lax_numpy.py:3610: UserWarning: Explicitly requested dtype <class 'jax._src.numpy.lax_numpy.float64'> requested in asarray is not available, and will be truncated to dtype float32. To enable more dtypes, set the jax_enable_x64 configuration option or the JAX_ENABLE_X64 shell environment variable. See https://github.com/google/jax#current-gotchas for more.\n",
      "  lax._check_user_dtype_supported(dtype, \"asarray\")\n",
      "/home/albert/miniconda3/envs/jax_py/lib/python3.8/site-packages/jax/_src/numpy/lax_numpy.py:3610: UserWarning: Explicitly requested dtype <class 'jax._src.numpy.lax_numpy.float64'> requested in asarray is not available, and will be truncated to dtype float32. To enable more dtypes, set the jax_enable_x64 configuration option or the JAX_ENABLE_X64 shell environment variable. See https://github.com/google/jax#current-gotchas for more.\n",
      "  lax._check_user_dtype_supported(dtype, \"asarray\")\n"
     ]
    },
    {
     "name": "stdout",
     "output_type": "stream",
     "text": [
      "BFGS maximum likelihood solution: log(L) = -0.6931479573249817\n"
     ]
    },
    {
     "name": "stderr",
     "output_type": "stream",
     "text": [
      "/home/albert/miniconda3/envs/jax_py/lib/python3.8/site-packages/jax/_src/numpy/lax_numpy.py:3610: UserWarning: Explicitly requested dtype <class 'jax._src.numpy.lax_numpy.float64'> requested in asarray is not available, and will be truncated to dtype float32. To enable more dtypes, set the jax_enable_x64 configuration option or the JAX_ENABLE_X64 shell environment variable. See https://github.com/google/jax#current-gotchas for more.\n",
      "  lax._check_user_dtype_supported(dtype, \"asarray\")\n"
     ]
    }
   ],
   "source": [
    "# Let us compare the results of nested sampling to optimisation done with BFGS\n",
    "\n",
    "params_bfgs = minimize(lambda p: -log_likelihood(p),\n",
    "                   random.normal(random.PRNGKey(2435), shape=(n_dims,)),\n",
    "                   method='BFGS').x\n",
    "print(f\"BFGS maximum likelihood solution: log(L) = {log_likelihood(params_bfgs)}\")"
   ],
   "metadata": {
    "collapsed": false,
    "pycharm": {
     "name": "#%%\n"
    }
   }
  },
  {
   "cell_type": "code",
   "execution_count": 5,
   "outputs": [
    {
     "name": "stderr",
     "output_type": "stream",
     "text": [
      "/home/albert/miniconda3/envs/jax_py/lib/python3.8/site-packages/jax/_src/numpy/lax_numpy.py:3662: UserWarning: Explicitly requested dtype <class 'jax._src.numpy.lax_numpy.float64'> requested in zeros is not available, and will be truncated to dtype float32. To enable more dtypes, set the jax_enable_x64 configuration option or the JAX_ENABLE_X64 shell environment variable. See https://github.com/google/jax#current-gotchas for more.\n",
      "  lax._check_user_dtype_supported(dtype, \"zeros\")\n"
     ]
    }
   ],
   "source": [
    "# Build the model\n",
    "\n",
    "with PriorChain() as prior_chain:\n",
    "    # we'll effectively place no prior on the parameters, other than requiring them to be within [-10,10]\n",
    "    UniformPrior('params', -10.*jnp.ones(n_dims), 10.*jnp.ones(n_dims))\n",
    "\n",
    "# We'll do some strange things here.\n",
    "# num_slices -> low: We'll make the sampler do very few slices. This will lead to large correlation between samples, and poor estimate of the evidence.\n",
    "# This is alright, because we'll be looking for the maximum likelihood solution.\n",
    "ns = NestedSampler(loglikelihood=log_likelihood, prior_chain=prior_chain, dynamic=True, sampler_kwargs=dict(num_slices=prior_chain.U_ndims))\n"
   ],
   "metadata": {
    "collapsed": false,
    "pycharm": {
     "name": "#%%\n"
    }
   }
  },
  {
   "cell_type": "code",
   "execution_count": 6,
   "outputs": [
    {
     "name": "stderr",
     "output_type": "stream",
     "text": [
      "/home/albert/miniconda3/envs/jax_py/lib/python3.8/site-packages/jax/_src/numpy/lax_numpy.py:3610: UserWarning: Explicitly requested dtype <class 'jax._src.numpy.lax_numpy.float64'> requested in asarray is not available, and will be truncated to dtype float32. To enable more dtypes, set the jax_enable_x64 configuration option or the JAX_ENABLE_X64 shell environment variable. See https://github.com/google/jax#current-gotchas for more.\n",
      "  lax._check_user_dtype_supported(dtype, \"asarray\")\n",
      "INFO[2022-03-04 15:01:46,769]: Log-likelihood: -2.900855541229248\n",
      "/home/albert/miniconda3/envs/jax_py/lib/python3.8/site-packages/jax/_src/numpy/lax_numpy.py:3610: UserWarning: Explicitly requested dtype <class 'jax._src.numpy.lax_numpy.float64'> requested in asarray is not available, and will be truncated to dtype float32. To enable more dtypes, set the jax_enable_x64 configuration option or the JAX_ENABLE_X64 shell environment variable. See https://github.com/google/jax#current-gotchas for more.\n",
      "  lax._check_user_dtype_supported(dtype, \"asarray\")\n",
      "INFO[2022-03-04 15:01:46,781]: Log-likelihood: -4.551949501037598\n",
      "/home/albert/miniconda3/envs/jax_py/lib/python3.8/site-packages/jax/_src/numpy/lax_numpy.py:3610: UserWarning: Explicitly requested dtype <class 'jax._src.numpy.lax_numpy.float64'> requested in asarray is not available, and will be truncated to dtype float32. To enable more dtypes, set the jax_enable_x64 configuration option or the JAX_ENABLE_X64 shell environment variable. See https://github.com/google/jax#current-gotchas for more.\n",
      "  lax._check_user_dtype_supported(dtype, \"asarray\")\n",
      "INFO[2022-03-04 15:01:46,791]: Log-likelihood: -2.183030605316162\n",
      "/home/albert/miniconda3/envs/jax_py/lib/python3.8/site-packages/jax/_src/numpy/lax_numpy.py:3610: UserWarning: Explicitly requested dtype <class 'jax._src.numpy.lax_numpy.float64'> requested in asarray is not available, and will be truncated to dtype float32. To enable more dtypes, set the jax_enable_x64 configuration option or the JAX_ENABLE_X64 shell environment variable. See https://github.com/google/jax#current-gotchas for more.\n",
      "  lax._check_user_dtype_supported(dtype, \"asarray\")\n",
      "INFO[2022-03-04 15:01:46,809]: Log-likelihood: -8.703441619873047\n",
      "/home/albert/miniconda3/envs/jax_py/lib/python3.8/site-packages/jax/_src/numpy/lax_numpy.py:3610: UserWarning: Explicitly requested dtype <class 'jax._src.numpy.lax_numpy.float64'> requested in asarray is not available, and will be truncated to dtype float32. To enable more dtypes, set the jax_enable_x64 configuration option or the JAX_ENABLE_X64 shell environment variable. See https://github.com/google/jax#current-gotchas for more.\n",
      "  lax._check_user_dtype_supported(dtype, \"asarray\")\n",
      "INFO[2022-03-04 15:01:46,825]: Log-likelihood: -8.483926773071289\n",
      "/home/albert/miniconda3/envs/jax_py/lib/python3.8/site-packages/jax/_src/numpy/lax_numpy.py:3610: UserWarning: Explicitly requested dtype <class 'jax._src.numpy.lax_numpy.float64'> requested in asarray is not available, and will be truncated to dtype float32. To enable more dtypes, set the jax_enable_x64 configuration option or the JAX_ENABLE_X64 shell environment variable. See https://github.com/google/jax#current-gotchas for more.\n",
      "  lax._check_user_dtype_supported(dtype, \"asarray\")\n",
      "INFO[2022-03-04 15:01:46,841]: Log-likelihood: -2.484107494354248\n",
      "/home/albert/miniconda3/envs/jax_py/lib/python3.8/site-packages/jax/_src/numpy/lax_numpy.py:3610: UserWarning: Explicitly requested dtype <class 'jax._src.numpy.lax_numpy.float64'> requested in asarray is not available, and will be truncated to dtype float32. To enable more dtypes, set the jax_enable_x64 configuration option or the JAX_ENABLE_X64 shell environment variable. See https://github.com/google/jax#current-gotchas for more.\n",
      "  lax._check_user_dtype_supported(dtype, \"asarray\")\n",
      "INFO[2022-03-04 15:01:46,857]: Log-likelihood: -3.687208890914917\n",
      "/home/albert/miniconda3/envs/jax_py/lib/python3.8/site-packages/jax/_src/numpy/lax_numpy.py:3610: UserWarning: Explicitly requested dtype <class 'jax._src.numpy.lax_numpy.float64'> requested in asarray is not available, and will be truncated to dtype float32. To enable more dtypes, set the jax_enable_x64 configuration option or the JAX_ENABLE_X64 shell environment variable. See https://github.com/google/jax#current-gotchas for more.\n",
      "  lax._check_user_dtype_supported(dtype, \"asarray\")\n",
      "INFO[2022-03-04 15:01:46,872]: Log-likelihood: -5.963511943817139\n",
      "/home/albert/miniconda3/envs/jax_py/lib/python3.8/site-packages/jax/_src/numpy/lax_numpy.py:3610: UserWarning: Explicitly requested dtype <class 'jax._src.numpy.lax_numpy.float64'> requested in asarray is not available, and will be truncated to dtype float32. To enable more dtypes, set the jax_enable_x64 configuration option or the JAX_ENABLE_X64 shell environment variable. See https://github.com/google/jax#current-gotchas for more.\n",
      "  lax._check_user_dtype_supported(dtype, \"asarray\")\n",
      "INFO[2022-03-04 15:01:46,884]: Log-likelihood: -6.820375442504883\n",
      "/home/albert/miniconda3/envs/jax_py/lib/python3.8/site-packages/jax/_src/numpy/lax_numpy.py:3610: UserWarning: Explicitly requested dtype <class 'jax._src.numpy.lax_numpy.float64'> requested in asarray is not available, and will be truncated to dtype float32. To enable more dtypes, set the jax_enable_x64 configuration option or the JAX_ENABLE_X64 shell environment variable. See https://github.com/google/jax#current-gotchas for more.\n",
      "  lax._check_user_dtype_supported(dtype, \"asarray\")\n",
      "INFO[2022-03-04 15:01:46,895]: Log-likelihood: -2.898743152618408\n"
     ]
    }
   ],
   "source": [
    "# Let's test the model with a small sanity check.\n",
    "prior_chain.test_prior(random.PRNGKey(42), 10, log_likelihood)"
   ],
   "metadata": {
    "collapsed": false,
    "pycharm": {
     "name": "#%%\n"
    }
   }
  },
  {
   "cell_type": "code",
   "execution_count": 7,
   "outputs": [
    {
     "name": "stderr",
     "output_type": "stream",
     "text": [
      "/home/albert/miniconda3/envs/jax_py/lib/python3.8/site-packages/jax/_src/numpy/lax_numpy.py:3662: UserWarning: Explicitly requested dtype <class 'jax._src.numpy.lax_numpy.float64'> requested in zeros is not available, and will be truncated to dtype float32. To enable more dtypes, set the jax_enable_x64 configuration option or the JAX_ENABLE_X64 shell environment variable. See https://github.com/google/jax#current-gotchas for more.\n",
      "  lax._check_user_dtype_supported(dtype, \"zeros\")\n",
      "/home/albert/miniconda3/envs/jax_py/lib/python3.8/site-packages/jax/_src/numpy/lax_numpy.py:3610: UserWarning: Explicitly requested dtype <class 'jax._src.numpy.lax_numpy.int64'> requested in asarray is not available, and will be truncated to dtype int32. To enable more dtypes, set the jax_enable_x64 configuration option or the JAX_ENABLE_X64 shell environment variable. See https://github.com/google/jax#current-gotchas for more.\n",
      "  lax._check_user_dtype_supported(dtype, \"asarray\")\n",
      "WARNING[2022-03-04 15:01:46,938]: Function log_likelihood has **varkw parameter (kwargs), and is being dropped.\n",
      "/home/albert/miniconda3/envs/jax_py/lib/python3.8/site-packages/jax/_src/numpy/lax_numpy.py:3610: UserWarning: Explicitly requested dtype <class 'jax._src.numpy.lax_numpy.float64'> requested in asarray is not available, and will be truncated to dtype float32. To enable more dtypes, set the jax_enable_x64 configuration option or the JAX_ENABLE_X64 shell environment variable. See https://github.com/google/jax#current-gotchas for more.\n",
      "  lax._check_user_dtype_supported(dtype, \"asarray\")\n",
      "/home/albert/miniconda3/envs/jax_py/lib/python3.8/site-packages/jax/_src/numpy/lax_numpy.py:6493: UserWarning: Explicitly requested dtype <class 'jax._src.numpy.lax_numpy.float64'> requested in astype is not available, and will be truncated to dtype float32. To enable more dtypes, set the jax_enable_x64 configuration option or the JAX_ENABLE_X64 shell environment variable. See https://github.com/google/jax#current-gotchas for more.\n",
      "  lax._check_user_dtype_supported(dtype, \"astype\")\n",
      "/home/albert/miniconda3/envs/jax_py/lib/python3.8/site-packages/jax/_src/numpy/lax_numpy.py:3610: UserWarning: Explicitly requested dtype <class 'jax._src.numpy.lax_numpy.int64'> requested in asarray is not available, and will be truncated to dtype int32. To enable more dtypes, set the jax_enable_x64 configuration option or the JAX_ENABLE_X64 shell environment variable. See https://github.com/google/jax#current-gotchas for more.\n",
      "  lax._check_user_dtype_supported(dtype, \"asarray\")\n",
      "/home/albert/miniconda3/envs/jax_py/lib/python3.8/site-packages/jax/_src/numpy/lax_numpy.py:3635: UserWarning: Explicitly requested dtype <class 'jax._src.numpy.lax_numpy.float64'> requested in full is not available, and will be truncated to dtype float32. To enable more dtypes, set the jax_enable_x64 configuration option or the JAX_ENABLE_X64 shell environment variable. See https://github.com/google/jax#current-gotchas for more.\n",
      "  lax._check_user_dtype_supported(dtype, \"full\")\n",
      "/home/albert/miniconda3/envs/jax_py/lib/python3.8/site-packages/jax/_src/numpy/lax_numpy.py:3635: UserWarning: Explicitly requested dtype <class 'jax._src.numpy.lax_numpy.int64'> requested in full is not available, and will be truncated to dtype int32. To enable more dtypes, set the jax_enable_x64 configuration option or the JAX_ENABLE_X64 shell environment variable. See https://github.com/google/jax#current-gotchas for more.\n",
      "  lax._check_user_dtype_supported(dtype, \"full\")\n",
      "/home/albert/miniconda3/envs/jax_py/lib/python3.8/site-packages/jax/_src/numpy/lax_numpy.py:3610: UserWarning: Explicitly requested dtype <class 'jax._src.numpy.lax_numpy.int64'> requested in asarray is not available, and will be truncated to dtype int32. To enable more dtypes, set the jax_enable_x64 configuration option or the JAX_ENABLE_X64 shell environment variable. See https://github.com/google/jax#current-gotchas for more.\n",
      "  lax._check_user_dtype_supported(dtype, \"asarray\")\n",
      "/home/albert/miniconda3/envs/jax_py/lib/python3.8/site-packages/jax/_src/numpy/lax_numpy.py:3635: UserWarning: Explicitly requested dtype <class 'jax._src.numpy.lax_numpy.int64'> requested in full is not available, and will be truncated to dtype int32. To enable more dtypes, set the jax_enable_x64 configuration option or the JAX_ENABLE_X64 shell environment variable. See https://github.com/google/jax#current-gotchas for more.\n",
      "  lax._check_user_dtype_supported(dtype, \"full\")\n",
      "/home/albert/miniconda3/envs/jax_py/lib/python3.8/site-packages/jax/_src/numpy/lax_numpy.py:3662: UserWarning: Explicitly requested dtype <class 'jax._src.numpy.lax_numpy.int64'> requested in zeros is not available, and will be truncated to dtype int32. To enable more dtypes, set the jax_enable_x64 configuration option or the JAX_ENABLE_X64 shell environment variable. See https://github.com/google/jax#current-gotchas for more.\n",
      "  lax._check_user_dtype_supported(dtype, \"zeros\")\n",
      "WARNING[2022-03-04 15:01:47,160]: Function log_likelihood has **varkw parameter (kwargs), and is being dropped.\n",
      "/home/albert/miniconda3/envs/jax_py/lib/python3.8/site-packages/jax/_src/numpy/lax_numpy.py:3610: UserWarning: Explicitly requested dtype <class 'jax._src.numpy.lax_numpy.float64'> requested in asarray is not available, and will be truncated to dtype float32. To enable more dtypes, set the jax_enable_x64 configuration option or the JAX_ENABLE_X64 shell environment variable. See https://github.com/google/jax#current-gotchas for more.\n",
      "  lax._check_user_dtype_supported(dtype, \"asarray\")\n",
      "/home/albert/miniconda3/envs/jax_py/lib/python3.8/site-packages/jax/_src/numpy/lax_numpy.py:6493: UserWarning: Explicitly requested dtype <class 'jax._src.numpy.lax_numpy.float64'> requested in astype is not available, and will be truncated to dtype float32. To enable more dtypes, set the jax_enable_x64 configuration option or the JAX_ENABLE_X64 shell environment variable. See https://github.com/google/jax#current-gotchas for more.\n",
      "  lax._check_user_dtype_supported(dtype, \"astype\")\n",
      "/home/albert/miniconda3/envs/jax_py/lib/python3.8/site-packages/jax/_src/numpy/lax_numpy.py:3635: UserWarning: Explicitly requested dtype <class 'jax._src.numpy.lax_numpy.int64'> requested in full is not available, and will be truncated to dtype int32. To enable more dtypes, set the jax_enable_x64 configuration option or the JAX_ENABLE_X64 shell environment variable. See https://github.com/google/jax#current-gotchas for more.\n",
      "  lax._check_user_dtype_supported(dtype, \"full\")\n",
      "/home/albert/miniconda3/envs/jax_py/lib/python3.8/site-packages/jax/_src/numpy/lax_numpy.py:3662: UserWarning: Explicitly requested dtype <class 'jax._src.numpy.lax_numpy.int64'> requested in zeros is not available, and will be truncated to dtype int32. To enable more dtypes, set the jax_enable_x64 configuration option or the JAX_ENABLE_X64 shell environment variable. See https://github.com/google/jax#current-gotchas for more.\n",
      "  lax._check_user_dtype_supported(dtype, \"zeros\")\n",
      "/home/albert/miniconda3/envs/jax_py/lib/python3.8/site-packages/jax/_src/numpy/lax_numpy.py:3610: UserWarning: Explicitly requested dtype <class 'jax._src.numpy.lax_numpy.int64'> requested in asarray is not available, and will be truncated to dtype int32. To enable more dtypes, set the jax_enable_x64 configuration option or the JAX_ENABLE_X64 shell environment variable. See https://github.com/google/jax#current-gotchas for more.\n",
      "  lax._check_user_dtype_supported(dtype, \"asarray\")\n",
      "/home/albert/miniconda3/envs/jax_py/lib/python3.8/site-packages/jax/_src/numpy/lax_numpy.py:3610: UserWarning: Explicitly requested dtype <class 'jax._src.numpy.lax_numpy.int64'> requested in asarray is not available, and will be truncated to dtype int32. To enable more dtypes, set the jax_enable_x64 configuration option or the JAX_ENABLE_X64 shell environment variable. See https://github.com/google/jax#current-gotchas for more.\n",
      "  lax._check_user_dtype_supported(dtype, \"asarray\")\n",
      "/home/albert/miniconda3/envs/jax_py/lib/python3.8/site-packages/jax/_src/numpy/lax_numpy.py:3610: UserWarning: Explicitly requested dtype <class 'jax._src.numpy.lax_numpy.int64'> requested in asarray is not available, and will be truncated to dtype int32. To enable more dtypes, set the jax_enable_x64 configuration option or the JAX_ENABLE_X64 shell environment variable. See https://github.com/google/jax#current-gotchas for more.\n",
      "  lax._check_user_dtype_supported(dtype, \"asarray\")\n",
      "/home/albert/miniconda3/envs/jax_py/lib/python3.8/site-packages/jax/_src/numpy/lax_numpy.py:3635: UserWarning: Explicitly requested dtype <class 'jax._src.numpy.lax_numpy.int64'> requested in full is not available, and will be truncated to dtype int32. To enable more dtypes, set the jax_enable_x64 configuration option or the JAX_ENABLE_X64 shell environment variable. See https://github.com/google/jax#current-gotchas for more.\n",
      "  lax._check_user_dtype_supported(dtype, \"full\")\n",
      "/home/albert/miniconda3/envs/jax_py/lib/python3.8/site-packages/jax/_src/numpy/lax_numpy.py:3662: UserWarning: Explicitly requested dtype <class 'jax._src.numpy.lax_numpy.int64'> requested in zeros is not available, and will be truncated to dtype int32. To enable more dtypes, set the jax_enable_x64 configuration option or the JAX_ENABLE_X64 shell environment variable. See https://github.com/google/jax#current-gotchas for more.\n",
      "  lax._check_user_dtype_supported(dtype, \"zeros\")\n",
      "WARNING[2022-03-04 15:01:48,042]: Function log_likelihood has **varkw parameter (kwargs), and is being dropped.\n",
      "/home/albert/miniconda3/envs/jax_py/lib/python3.8/site-packages/jax/_src/numpy/lax_numpy.py:3610: UserWarning: Explicitly requested dtype <class 'jax._src.numpy.lax_numpy.float64'> requested in asarray is not available, and will be truncated to dtype float32. To enable more dtypes, set the jax_enable_x64 configuration option or the JAX_ENABLE_X64 shell environment variable. See https://github.com/google/jax#current-gotchas for more.\n",
      "  lax._check_user_dtype_supported(dtype, \"asarray\")\n",
      "/home/albert/miniconda3/envs/jax_py/lib/python3.8/site-packages/jax/_src/numpy/lax_numpy.py:6493: UserWarning: Explicitly requested dtype <class 'jax._src.numpy.lax_numpy.float64'> requested in astype is not available, and will be truncated to dtype float32. To enable more dtypes, set the jax_enable_x64 configuration option or the JAX_ENABLE_X64 shell environment variable. See https://github.com/google/jax#current-gotchas for more.\n",
      "  lax._check_user_dtype_supported(dtype, \"astype\")\n",
      "/home/albert/miniconda3/envs/jax_py/lib/python3.8/site-packages/jax/_src/numpy/lax_numpy.py:3635: UserWarning: Explicitly requested dtype <class 'jax._src.numpy.lax_numpy.int64'> requested in full is not available, and will be truncated to dtype int32. To enable more dtypes, set the jax_enable_x64 configuration option or the JAX_ENABLE_X64 shell environment variable. See https://github.com/google/jax#current-gotchas for more.\n",
      "  lax._check_user_dtype_supported(dtype, \"full\")\n",
      "/home/albert/miniconda3/envs/jax_py/lib/python3.8/site-packages/jax/_src/numpy/lax_numpy.py:3662: UserWarning: Explicitly requested dtype <class 'jax._src.numpy.lax_numpy.int64'> requested in zeros is not available, and will be truncated to dtype int32. To enable more dtypes, set the jax_enable_x64 configuration option or the JAX_ENABLE_X64 shell environment variable. See https://github.com/google/jax#current-gotchas for more.\n",
      "  lax._check_user_dtype_supported(dtype, \"zeros\")\n",
      "/home/albert/miniconda3/envs/jax_py/lib/python3.8/site-packages/jax/_src/numpy/lax_numpy.py:3610: UserWarning: Explicitly requested dtype <class 'jax._src.numpy.lax_numpy.int64'> requested in asarray is not available, and will be truncated to dtype int32. To enable more dtypes, set the jax_enable_x64 configuration option or the JAX_ENABLE_X64 shell environment variable. See https://github.com/google/jax#current-gotchas for more.\n",
      "  lax._check_user_dtype_supported(dtype, \"asarray\")\n",
      "/home/albert/miniconda3/envs/jax_py/lib/python3.8/site-packages/jax/_src/numpy/lax_numpy.py:3635: UserWarning: Explicitly requested dtype <class 'jax._src.numpy.lax_numpy.int64'> requested in full is not available, and will be truncated to dtype int32. To enable more dtypes, set the jax_enable_x64 configuration option or the JAX_ENABLE_X64 shell environment variable. See https://github.com/google/jax#current-gotchas for more.\n",
      "  lax._check_user_dtype_supported(dtype, \"full\")\n",
      "/home/albert/miniconda3/envs/jax_py/lib/python3.8/site-packages/jax/_src/numpy/lax_numpy.py:3662: UserWarning: Explicitly requested dtype <class 'jax._src.numpy.lax_numpy.int64'> requested in zeros is not available, and will be truncated to dtype int32. To enable more dtypes, set the jax_enable_x64 configuration option or the JAX_ENABLE_X64 shell environment variable. See https://github.com/google/jax#current-gotchas for more.\n",
      "  lax._check_user_dtype_supported(dtype, \"zeros\")\n",
      "WARNING[2022-03-04 15:01:48,531]: Function log_likelihood has **varkw parameter (kwargs), and is being dropped.\n",
      "/home/albert/miniconda3/envs/jax_py/lib/python3.8/site-packages/jax/_src/numpy/lax_numpy.py:3610: UserWarning: Explicitly requested dtype <class 'jax._src.numpy.lax_numpy.float64'> requested in asarray is not available, and will be truncated to dtype float32. To enable more dtypes, set the jax_enable_x64 configuration option or the JAX_ENABLE_X64 shell environment variable. See https://github.com/google/jax#current-gotchas for more.\n",
      "  lax._check_user_dtype_supported(dtype, \"asarray\")\n",
      "/home/albert/miniconda3/envs/jax_py/lib/python3.8/site-packages/jax/_src/numpy/lax_numpy.py:6493: UserWarning: Explicitly requested dtype <class 'jax._src.numpy.lax_numpy.float64'> requested in astype is not available, and will be truncated to dtype float32. To enable more dtypes, set the jax_enable_x64 configuration option or the JAX_ENABLE_X64 shell environment variable. See https://github.com/google/jax#current-gotchas for more.\n",
      "  lax._check_user_dtype_supported(dtype, \"astype\")\n",
      "/home/albert/miniconda3/envs/jax_py/lib/python3.8/site-packages/jax/_src/numpy/lax_numpy.py:3635: UserWarning: Explicitly requested dtype <class 'jax._src.numpy.lax_numpy.int64'> requested in full is not available, and will be truncated to dtype int32. To enable more dtypes, set the jax_enable_x64 configuration option or the JAX_ENABLE_X64 shell environment variable. See https://github.com/google/jax#current-gotchas for more.\n",
      "  lax._check_user_dtype_supported(dtype, \"full\")\n",
      "/home/albert/miniconda3/envs/jax_py/lib/python3.8/site-packages/jax/_src/numpy/lax_numpy.py:3662: UserWarning: Explicitly requested dtype <class 'jax._src.numpy.lax_numpy.int64'> requested in zeros is not available, and will be truncated to dtype int32. To enable more dtypes, set the jax_enable_x64 configuration option or the JAX_ENABLE_X64 shell environment variable. See https://github.com/google/jax#current-gotchas for more.\n",
      "  lax._check_user_dtype_supported(dtype, \"zeros\")\n",
      "/home/albert/miniconda3/envs/jax_py/lib/python3.8/site-packages/jax/_src/numpy/lax_numpy.py:3610: UserWarning: Explicitly requested dtype <class 'jax._src.numpy.lax_numpy.int64'> requested in asarray is not available, and will be truncated to dtype int32. To enable more dtypes, set the jax_enable_x64 configuration option or the JAX_ENABLE_X64 shell environment variable. See https://github.com/google/jax#current-gotchas for more.\n",
      "  lax._check_user_dtype_supported(dtype, \"asarray\")\n",
      "/home/albert/miniconda3/envs/jax_py/lib/python3.8/site-packages/jax/_src/numpy/lax_numpy.py:3610: UserWarning: Explicitly requested dtype <class 'jax._src.numpy.lax_numpy.int64'> requested in asarray is not available, and will be truncated to dtype int32. To enable more dtypes, set the jax_enable_x64 configuration option or the JAX_ENABLE_X64 shell environment variable. See https://github.com/google/jax#current-gotchas for more.\n",
      "  lax._check_user_dtype_supported(dtype, \"asarray\")\n",
      "/home/albert/miniconda3/envs/jax_py/lib/python3.8/site-packages/jax/_src/numpy/lax_numpy.py:3610: UserWarning: Explicitly requested dtype <class 'jax._src.numpy.lax_numpy.int64'> requested in asarray is not available, and will be truncated to dtype int32. To enable more dtypes, set the jax_enable_x64 configuration option or the JAX_ENABLE_X64 shell environment variable. See https://github.com/google/jax#current-gotchas for more.\n",
      "  lax._check_user_dtype_supported(dtype, \"asarray\")\n"
     ]
    },
    {
     "ename": "KeyboardInterrupt",
     "evalue": "",
     "output_type": "error",
     "traceback": [
      "\u001B[0;31m---------------------------------------------------------------------------\u001B[0m",
      "\u001B[0;31mKeyboardInterrupt\u001B[0m                         Traceback (most recent call last)",
      "\u001B[0;32m<ipython-input-7-dde5f2a7e863>\u001B[0m in \u001B[0;36m<module>\u001B[0;34m\u001B[0m\n\u001B[1;32m      1\u001B[0m \u001B[0;31m# We do another strange thing here: we set the number of live points really low, which is okay because we don't care about evidence (yet)\u001B[0m\u001B[0;34m\u001B[0m\u001B[0;34m\u001B[0m\u001B[0;34m\u001B[0m\u001B[0m\n\u001B[1;32m      2\u001B[0m \u001B[0mns\u001B[0m \u001B[0;34m=\u001B[0m \u001B[0mjit\u001B[0m\u001B[0;34m(\u001B[0m\u001B[0mns\u001B[0m\u001B[0;34m,\u001B[0m \u001B[0mstatic_argnames\u001B[0m\u001B[0;34m=\u001B[0m\u001B[0;34m'maximise_likelihood'\u001B[0m\u001B[0;34m)\u001B[0m\u001B[0;34m\u001B[0m\u001B[0;34m\u001B[0m\u001B[0m\n\u001B[0;32m----> 3\u001B[0;31m results = ns(random.PRNGKey(42),\n\u001B[0m\u001B[1;32m      4\u001B[0m                   \u001B[0mnum_live_points\u001B[0m\u001B[0;34m=\u001B[0m\u001B[0mprior_chain\u001B[0m\u001B[0;34m.\u001B[0m\u001B[0mU_ndims\u001B[0m\u001B[0;34m*\u001B[0m\u001B[0;36m10\u001B[0m\u001B[0;34m,\u001B[0m\u001B[0;34m\u001B[0m\u001B[0;34m\u001B[0m\u001B[0m\n\u001B[1;32m      5\u001B[0m                   \u001B[0mdelta_num_live_points\u001B[0m\u001B[0;34m=\u001B[0m\u001B[0mprior_chain\u001B[0m\u001B[0;34m.\u001B[0m\u001B[0mU_ndims\u001B[0m\u001B[0;34m*\u001B[0m\u001B[0;36m10\u001B[0m\u001B[0;34m,\u001B[0m\u001B[0;34m\u001B[0m\u001B[0;34m\u001B[0m\u001B[0m\n",
      "    \u001B[0;31m[... skipping hidden 1 frame]\u001B[0m\n",
      "\u001B[0;32m~/miniconda3/envs/jax_py/lib/python3.8/site-packages/jax/_src/api.py\u001B[0m in \u001B[0;36mcache_miss\u001B[0;34m(*args, **kwargs)\u001B[0m\n\u001B[1;32m    414\u001B[0m         fun, static_argnums, static_argnames, donate_argnums, args, kwargs)\n\u001B[1;32m    415\u001B[0m     \u001B[0mflat_fun\u001B[0m\u001B[0;34m,\u001B[0m \u001B[0mout_tree\u001B[0m \u001B[0;34m=\u001B[0m \u001B[0mflatten_fun\u001B[0m\u001B[0;34m(\u001B[0m\u001B[0mclosed_fun\u001B[0m\u001B[0;34m,\u001B[0m \u001B[0min_tree\u001B[0m\u001B[0;34m)\u001B[0m\u001B[0;34m\u001B[0m\u001B[0;34m\u001B[0m\u001B[0m\n\u001B[0;32m--> 416\u001B[0;31m     out_flat = xla.xla_call(\n\u001B[0m\u001B[1;32m    417\u001B[0m         \u001B[0mflat_fun\u001B[0m\u001B[0;34m,\u001B[0m \u001B[0;34m*\u001B[0m\u001B[0margs_flat\u001B[0m\u001B[0;34m,\u001B[0m\u001B[0;34m\u001B[0m\u001B[0;34m\u001B[0m\u001B[0m\n\u001B[1;32m    418\u001B[0m         \u001B[0mdevice\u001B[0m\u001B[0;34m=\u001B[0m\u001B[0mdevice\u001B[0m\u001B[0;34m,\u001B[0m \u001B[0mbackend\u001B[0m\u001B[0;34m=\u001B[0m\u001B[0mbackend\u001B[0m\u001B[0;34m,\u001B[0m \u001B[0mname\u001B[0m\u001B[0;34m=\u001B[0m\u001B[0mflat_fun\u001B[0m\u001B[0;34m.\u001B[0m\u001B[0m__name__\u001B[0m\u001B[0;34m,\u001B[0m\u001B[0;34m\u001B[0m\u001B[0;34m\u001B[0m\u001B[0m\n",
      "\u001B[0;32m~/miniconda3/envs/jax_py/lib/python3.8/site-packages/jax/core.py\u001B[0m in \u001B[0;36mbind\u001B[0;34m(self, fun, *args, **params)\u001B[0m\n\u001B[1;32m   1630\u001B[0m \u001B[0;34m\u001B[0m\u001B[0m\n\u001B[1;32m   1631\u001B[0m   \u001B[0;32mdef\u001B[0m \u001B[0mbind\u001B[0m\u001B[0;34m(\u001B[0m\u001B[0mself\u001B[0m\u001B[0;34m,\u001B[0m \u001B[0mfun\u001B[0m\u001B[0;34m,\u001B[0m \u001B[0;34m*\u001B[0m\u001B[0margs\u001B[0m\u001B[0;34m,\u001B[0m \u001B[0;34m**\u001B[0m\u001B[0mparams\u001B[0m\u001B[0;34m)\u001B[0m\u001B[0;34m:\u001B[0m\u001B[0;34m\u001B[0m\u001B[0;34m\u001B[0m\u001B[0m\n\u001B[0;32m-> 1632\u001B[0;31m     \u001B[0;32mreturn\u001B[0m \u001B[0mcall_bind\u001B[0m\u001B[0;34m(\u001B[0m\u001B[0mself\u001B[0m\u001B[0;34m,\u001B[0m \u001B[0mfun\u001B[0m\u001B[0;34m,\u001B[0m \u001B[0;34m*\u001B[0m\u001B[0margs\u001B[0m\u001B[0;34m,\u001B[0m \u001B[0;34m**\u001B[0m\u001B[0mparams\u001B[0m\u001B[0;34m)\u001B[0m\u001B[0;34m\u001B[0m\u001B[0;34m\u001B[0m\u001B[0m\n\u001B[0m\u001B[1;32m   1633\u001B[0m \u001B[0;34m\u001B[0m\u001B[0m\n\u001B[1;32m   1634\u001B[0m   \u001B[0;32mdef\u001B[0m \u001B[0mprocess\u001B[0m\u001B[0;34m(\u001B[0m\u001B[0mself\u001B[0m\u001B[0;34m,\u001B[0m \u001B[0mtrace\u001B[0m\u001B[0;34m,\u001B[0m \u001B[0mfun\u001B[0m\u001B[0;34m,\u001B[0m \u001B[0mtracers\u001B[0m\u001B[0;34m,\u001B[0m \u001B[0mparams\u001B[0m\u001B[0;34m)\u001B[0m\u001B[0;34m:\u001B[0m\u001B[0;34m\u001B[0m\u001B[0;34m\u001B[0m\u001B[0m\n",
      "\u001B[0;32m~/miniconda3/envs/jax_py/lib/python3.8/site-packages/jax/core.py\u001B[0m in \u001B[0;36mcall_bind\u001B[0;34m(primitive, fun, *args, **params)\u001B[0m\n\u001B[1;32m   1621\u001B[0m       params_tuple, out_axes_transforms)\n\u001B[1;32m   1622\u001B[0m   \u001B[0mtracers\u001B[0m \u001B[0;34m=\u001B[0m \u001B[0mmap\u001B[0m\u001B[0;34m(\u001B[0m\u001B[0mtop_trace\u001B[0m\u001B[0;34m.\u001B[0m\u001B[0mfull_raise\u001B[0m\u001B[0;34m,\u001B[0m \u001B[0margs\u001B[0m\u001B[0;34m)\u001B[0m\u001B[0;34m\u001B[0m\u001B[0;34m\u001B[0m\u001B[0m\n\u001B[0;32m-> 1623\u001B[0;31m   \u001B[0mouts\u001B[0m \u001B[0;34m=\u001B[0m \u001B[0mprimitive\u001B[0m\u001B[0;34m.\u001B[0m\u001B[0mprocess\u001B[0m\u001B[0;34m(\u001B[0m\u001B[0mtop_trace\u001B[0m\u001B[0;34m,\u001B[0m \u001B[0mfun\u001B[0m\u001B[0;34m,\u001B[0m \u001B[0mtracers\u001B[0m\u001B[0;34m,\u001B[0m \u001B[0mparams\u001B[0m\u001B[0;34m)\u001B[0m\u001B[0;34m\u001B[0m\u001B[0;34m\u001B[0m\u001B[0m\n\u001B[0m\u001B[1;32m   1624\u001B[0m   \u001B[0;32mreturn\u001B[0m \u001B[0mmap\u001B[0m\u001B[0;34m(\u001B[0m\u001B[0mfull_lower\u001B[0m\u001B[0;34m,\u001B[0m \u001B[0mapply_todos\u001B[0m\u001B[0;34m(\u001B[0m\u001B[0menv_trace_todo\u001B[0m\u001B[0;34m(\u001B[0m\u001B[0;34m)\u001B[0m\u001B[0;34m,\u001B[0m \u001B[0mouts\u001B[0m\u001B[0;34m)\u001B[0m\u001B[0;34m)\u001B[0m\u001B[0;34m\u001B[0m\u001B[0;34m\u001B[0m\u001B[0m\n\u001B[1;32m   1625\u001B[0m \u001B[0;34m\u001B[0m\u001B[0m\n",
      "\u001B[0;32m~/miniconda3/envs/jax_py/lib/python3.8/site-packages/jax/core.py\u001B[0m in \u001B[0;36mprocess\u001B[0;34m(self, trace, fun, tracers, params)\u001B[0m\n\u001B[1;32m   1633\u001B[0m \u001B[0;34m\u001B[0m\u001B[0m\n\u001B[1;32m   1634\u001B[0m   \u001B[0;32mdef\u001B[0m \u001B[0mprocess\u001B[0m\u001B[0;34m(\u001B[0m\u001B[0mself\u001B[0m\u001B[0;34m,\u001B[0m \u001B[0mtrace\u001B[0m\u001B[0;34m,\u001B[0m \u001B[0mfun\u001B[0m\u001B[0;34m,\u001B[0m \u001B[0mtracers\u001B[0m\u001B[0;34m,\u001B[0m \u001B[0mparams\u001B[0m\u001B[0;34m)\u001B[0m\u001B[0;34m:\u001B[0m\u001B[0;34m\u001B[0m\u001B[0;34m\u001B[0m\u001B[0m\n\u001B[0;32m-> 1635\u001B[0;31m     \u001B[0;32mreturn\u001B[0m \u001B[0mtrace\u001B[0m\u001B[0;34m.\u001B[0m\u001B[0mprocess_call\u001B[0m\u001B[0;34m(\u001B[0m\u001B[0mself\u001B[0m\u001B[0;34m,\u001B[0m \u001B[0mfun\u001B[0m\u001B[0;34m,\u001B[0m \u001B[0mtracers\u001B[0m\u001B[0;34m,\u001B[0m \u001B[0mparams\u001B[0m\u001B[0;34m)\u001B[0m\u001B[0;34m\u001B[0m\u001B[0;34m\u001B[0m\u001B[0m\n\u001B[0m\u001B[1;32m   1636\u001B[0m \u001B[0;34m\u001B[0m\u001B[0m\n\u001B[1;32m   1637\u001B[0m   \u001B[0;32mdef\u001B[0m \u001B[0mpost_process\u001B[0m\u001B[0;34m(\u001B[0m\u001B[0mself\u001B[0m\u001B[0;34m,\u001B[0m \u001B[0mtrace\u001B[0m\u001B[0;34m,\u001B[0m \u001B[0mout_tracers\u001B[0m\u001B[0;34m,\u001B[0m \u001B[0mparams\u001B[0m\u001B[0;34m)\u001B[0m\u001B[0;34m:\u001B[0m\u001B[0;34m\u001B[0m\u001B[0;34m\u001B[0m\u001B[0m\n",
      "\u001B[0;32m~/miniconda3/envs/jax_py/lib/python3.8/site-packages/jax/core.py\u001B[0m in \u001B[0;36mprocess_call\u001B[0;34m(self, primitive, f, tracers, params)\u001B[0m\n\u001B[1;32m    625\u001B[0m \u001B[0;34m\u001B[0m\u001B[0m\n\u001B[1;32m    626\u001B[0m   \u001B[0;32mdef\u001B[0m \u001B[0mprocess_call\u001B[0m\u001B[0;34m(\u001B[0m\u001B[0mself\u001B[0m\u001B[0;34m,\u001B[0m \u001B[0mprimitive\u001B[0m\u001B[0;34m,\u001B[0m \u001B[0mf\u001B[0m\u001B[0;34m,\u001B[0m \u001B[0mtracers\u001B[0m\u001B[0;34m,\u001B[0m \u001B[0mparams\u001B[0m\u001B[0;34m)\u001B[0m\u001B[0;34m:\u001B[0m\u001B[0;34m\u001B[0m\u001B[0;34m\u001B[0m\u001B[0m\n\u001B[0;32m--> 627\u001B[0;31m     \u001B[0;32mreturn\u001B[0m \u001B[0mprimitive\u001B[0m\u001B[0;34m.\u001B[0m\u001B[0mimpl\u001B[0m\u001B[0;34m(\u001B[0m\u001B[0mf\u001B[0m\u001B[0;34m,\u001B[0m \u001B[0;34m*\u001B[0m\u001B[0mtracers\u001B[0m\u001B[0;34m,\u001B[0m \u001B[0;34m**\u001B[0m\u001B[0mparams\u001B[0m\u001B[0;34m)\u001B[0m\u001B[0;34m\u001B[0m\u001B[0;34m\u001B[0m\u001B[0m\n\u001B[0m\u001B[1;32m    628\u001B[0m   \u001B[0mprocess_map\u001B[0m \u001B[0;34m=\u001B[0m \u001B[0mprocess_call\u001B[0m\u001B[0;34m\u001B[0m\u001B[0;34m\u001B[0m\u001B[0m\n\u001B[1;32m    629\u001B[0m \u001B[0;34m\u001B[0m\u001B[0m\n",
      "\u001B[0;32m~/miniconda3/envs/jax_py/lib/python3.8/site-packages/jax/interpreters/xla.py\u001B[0m in \u001B[0;36m_xla_call_impl\u001B[0;34m(***failed resolving arguments***)\u001B[0m\n\u001B[1;32m    688\u001B[0m                                *unsafe_map(arg_spec, args))\n\u001B[1;32m    689\u001B[0m   \u001B[0;32mtry\u001B[0m\u001B[0;34m:\u001B[0m\u001B[0;34m\u001B[0m\u001B[0;34m\u001B[0m\u001B[0m\n\u001B[0;32m--> 690\u001B[0;31m     \u001B[0mout\u001B[0m \u001B[0;34m=\u001B[0m \u001B[0mcompiled_fun\u001B[0m\u001B[0;34m(\u001B[0m\u001B[0;34m*\u001B[0m\u001B[0margs\u001B[0m\u001B[0;34m)\u001B[0m\u001B[0;34m\u001B[0m\u001B[0;34m\u001B[0m\u001B[0m\n\u001B[0m\u001B[1;32m    691\u001B[0m   \u001B[0;32mexcept\u001B[0m \u001B[0mFloatingPointError\u001B[0m\u001B[0;34m:\u001B[0m\u001B[0;34m\u001B[0m\u001B[0;34m\u001B[0m\u001B[0m\n\u001B[1;32m    692\u001B[0m     \u001B[0;32massert\u001B[0m \u001B[0mconfig\u001B[0m\u001B[0;34m.\u001B[0m\u001B[0mjax_debug_nans\u001B[0m \u001B[0;32mor\u001B[0m \u001B[0mconfig\u001B[0m\u001B[0;34m.\u001B[0m\u001B[0mjax_debug_infs\u001B[0m  \u001B[0;31m# compiled_fun can only raise in this case\u001B[0m\u001B[0;34m\u001B[0m\u001B[0;34m\u001B[0m\u001B[0m\n",
      "\u001B[0;32m~/miniconda3/envs/jax_py/lib/python3.8/site-packages/jax/interpreters/xla.py\u001B[0m in \u001B[0;36m_execute_compiled\u001B[0;34m(name, compiled, output_buffer_counts, handlers, kept_var_idx, *args)\u001B[0m\n\u001B[1;32m   1098\u001B[0m           \u001B[0;32mfor\u001B[0m \u001B[0mi\u001B[0m\u001B[0;34m,\u001B[0m \u001B[0mx\u001B[0m \u001B[0;32min\u001B[0m \u001B[0menumerate\u001B[0m\u001B[0;34m(\u001B[0m\u001B[0margs\u001B[0m\u001B[0;34m)\u001B[0m\u001B[0;34m\u001B[0m\u001B[0;34m\u001B[0m\u001B[0m\n\u001B[1;32m   1099\u001B[0m           if x is not token and i in kept_var_idx))\n\u001B[0;32m-> 1100\u001B[0;31m   \u001B[0mout_bufs\u001B[0m \u001B[0;34m=\u001B[0m \u001B[0mcompiled\u001B[0m\u001B[0;34m.\u001B[0m\u001B[0mexecute\u001B[0m\u001B[0;34m(\u001B[0m\u001B[0minput_bufs\u001B[0m\u001B[0;34m)\u001B[0m\u001B[0;34m\u001B[0m\u001B[0;34m\u001B[0m\u001B[0m\n\u001B[0m\u001B[1;32m   1101\u001B[0m   \u001B[0mcheck_special\u001B[0m\u001B[0;34m(\u001B[0m\u001B[0mname\u001B[0m\u001B[0;34m,\u001B[0m \u001B[0mout_bufs\u001B[0m\u001B[0;34m)\u001B[0m\u001B[0;34m\u001B[0m\u001B[0;34m\u001B[0m\u001B[0m\n\u001B[1;32m   1102\u001B[0m   \u001B[0;32mif\u001B[0m \u001B[0moutput_buffer_counts\u001B[0m \u001B[0;32mis\u001B[0m \u001B[0;32mNone\u001B[0m\u001B[0;34m:\u001B[0m\u001B[0;34m\u001B[0m\u001B[0;34m\u001B[0m\u001B[0m\n",
      "\u001B[0;31mKeyboardInterrupt\u001B[0m: "
     ]
    }
   ],
   "source": [
    "# We do another strange thing here: we set the number of live points really low, which is okay because we don't care about evidence (yet)\n",
    "ns = jit(ns, static_argnames='maximise_likelihood')\n",
    "results = ns(random.PRNGKey(42),\n",
    "                  num_live_points=prior_chain.U_ndims*10,\n",
    "                  delta_num_live_points=prior_chain.U_ndims*10,\n",
    "                  termination_likelihood_frac_increase=0.1,\n",
    "             maximise_likelihood=True)"
   ],
   "metadata": {
    "collapsed": false,
    "pycharm": {
     "name": "#%%\n"
    }
   }
  },
  {
   "cell_type": "code",
   "execution_count": null,
   "outputs": [],
   "source": [
    "# The maximum likelihood solution from nested sampling\n",
    "i_max = jnp.argmax(results.log_L_samples)\n",
    "params_max = results.samples['params'][i_max]\n",
    "print(\"log L_max(L)\", log_likelihood(params_max))"
   ],
   "metadata": {
    "collapsed": false,
    "pycharm": {
     "name": "#%%\n"
    }
   }
  },
  {
   "cell_type": "code",
   "execution_count": null,
   "outputs": [],
   "source": [
    "summary(results)\n",
    "plot_diagnostics(results)"
   ],
   "metadata": {
    "collapsed": false,
    "pycharm": {
     "name": "#%%\n"
    }
   }
  }
 ],
 "metadata": {
  "kernelspec": {
   "display_name": "Python 3",
   "language": "python",
   "name": "python3"
  },
  "language_info": {
   "codemirror_mode": {
    "name": "ipython",
    "version": 2
   },
   "file_extension": ".py",
   "mimetype": "text/x-python",
   "name": "python",
   "nbconvert_exporter": "python",
   "pygments_lexer": "ipython2",
   "version": "2.7.6"
  }
 },
 "nbformat": 4,
 "nbformat_minor": 0
}