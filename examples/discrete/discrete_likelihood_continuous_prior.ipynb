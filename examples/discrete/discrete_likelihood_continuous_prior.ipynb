{
 "cells": [
  {
   "cell_type": "markdown",
   "source": [
    "# Poisson likelihood and Gamma prior\n",
    "\n",
    "This is a simple model where our discrete data, $y$, is modelled as a Poisson RV with Gamma prior, which is a conjugate prior model.\n",
    "\n",
    "$L(x) = p(y | x) = \\mathcal{P}[y \\mid x]$\n",
    "\n",
    "and\n",
    "\n",
    "$p(x) = \\Gamma[x \\mid k, \\theta]$.\n",
    "\n",
    "The analytic evidence for this model is,\n",
    "\n",
    "$Z = p(y) = \\int_\\mathcal{X} L(x) p(x) \\,\\mathrm{d} x =  \\mathcal{P}[y \\mid 1] \\frac{\\Gamma[1 \\mid k, \\theta]}{\\Gamma[1 \\mid k', \\theta']}$\n",
    "\n",
    "The posterior is also a Gamma distribution,\n",
    "\n",
    "$p(x \\mid y) = \\Gamma[x \\mid k', \\theta']$\n",
    "\n",
    "where\n",
    "\n",
    "$k' = k + \\sum_i y_i$\n",
    "\n",
    "and\n",
    "\n",
    "$\\theta' = \\frac{\\theta}{(\\theta \\sum_i y_i + 1)}$\n",
    "\n",
    "## Overview\n",
    "\n",
    "We'll cover the following topics:\n",
    "\n",
    "1. How to define your prior with a `PriorChain` context.\n",
    "2. How to define your likelihood\n",
    "3. How to compute Bayesian evidence of your model with standard nested sampling (without much tuning of parameters).\n",
    "4. How to inspect and plot your results.\n",
    "5. How to save and load your results.\n",
    "6. How to time your execution.\n",
    "7. How to marginalise over the posterior."
   ],
   "metadata": {
    "collapsed": false,
    "pycharm": {
     "name": "#%% md\n"
    }
   }
  },
  {
   "cell_type": "code",
   "execution_count": 1,
   "metadata": {
    "collapsed": true
   },
   "outputs": [],
   "source": [
    "from jaxns.nested_sampler.nested_sampling import NestedSampler\n",
    "from jaxns.prior_transforms import PriorChain, GammaPrior\n",
    "from jaxns.utils import summary, resample\n",
    "from jaxns.plotting import plot_cornerplot, plot_diagnostics\n",
    "from jax import random, numpy as jnp, jit\n",
    "from jax.scipy.special import gammaln\n",
    "import pylab as plt\n",
    "import numpy as np"
   ]
  },
  {
   "cell_type": "code",
   "execution_count": 2,
   "outputs": [
    {
     "name": "stderr",
     "output_type": "stream",
     "text": [
      "INFO[2022-03-03 16:04:24,711]: Unable to initialize backend 'tpu_driver': NOT_FOUND: Unable to find driver in registry given worker: \n",
      "INFO[2022-03-03 16:04:24,711]: Unable to initialize backend 'gpu': NOT_FOUND: Could not find registered platform with name: \"cuda\". Available platform names are: Host Interpreter\n",
      "INFO[2022-03-03 16:04:24,712]: Unable to initialize backend 'tpu': INVALID_ARGUMENT: TpuPlatform is not available.\n",
      "WARNING[2022-03-03 16:04:24,713]: No GPU/TPU found, falling back to CPU. (Set TF_CPP_MIN_LOG_LEVEL=0 and rerun for more info.)\n"
     ]
    },
    {
     "name": "stdout",
     "output_type": "stream",
     "text": [
      "Taking 10 samples from a Poisson distribution as data.\n"
     ]
    }
   ],
   "source": [
    "# Generate data\n",
    "\n",
    "num_samples = 10\n",
    "\n",
    "true_k = 0.5\n",
    "true_theta = 1.\n",
    "\n",
    "_gamma = np.random.gamma(true_k, true_theta, size=num_samples)\n",
    "print(f\"Taking {num_samples} samples from a Poisson distribution as data.\")\n",
    "samples = jnp.asarray(np.random.poisson(_gamma, size=num_samples))"
   ],
   "metadata": {
    "collapsed": false,
    "pycharm": {
     "name": "#%%\n"
    }
   }
  },
  {
   "cell_type": "code",
   "execution_count": 3,
   "outputs": [],
   "source": [
    "# Build model\n",
    "prior_k = 100.\n",
    "prior_theta = 1.\n",
    "\n",
    "with PriorChain() as prior_chain:\n",
    "    GammaPrior('gamma', prior_k, prior_theta)\n",
    "\n",
    "def log_likelihood(gamma):\n",
    "    \"\"\"\n",
    "    Poisson likelihood.\n",
    "    \"\"\"\n",
    "    return jnp.sum(samples * jnp.log(gamma) - gamma - gammaln(samples + 1))\n"
   ],
   "metadata": {
    "collapsed": false,
    "pycharm": {
     "name": "#%%\n"
    }
   }
  },
  {
   "cell_type": "code",
   "execution_count": 4,
   "outputs": [
    {
     "name": "stdout",
     "output_type": "stream",
     "text": [
      "True Evidence = -225.2459347893813\n",
      "True posterior k = 110.0\n",
      "True posterior theta = 0.09090909090909091\n",
      "True posterior gamma = 10.0\n"
     ]
    }
   ],
   "source": [
    "# Evidence and posterior are analytic\n",
    "def log_gamma_prob(gamma, k, theta):\n",
    "    return (k-1) * jnp.log(gamma)  - gamma / theta - gammaln(k) - k * jnp.log(theta)\n",
    "\n",
    "true_post_k = prior_k + jnp.sum(samples)\n",
    "true_post_theta = prior_theta / (num_samples * prior_theta + 1.)\n",
    "\n",
    "true_post_mean_gamma = true_post_theta * true_post_k\n",
    "\n",
    "true_logZ = log_likelihood(1.) + log_gamma_prob(1., prior_k, prior_theta) - log_gamma_prob(1., true_post_k, true_post_theta)\n",
    "print(f\"True Evidence = {true_logZ}\")\n",
    "print(f\"True posterior k = {true_post_k}\")\n",
    "print(f\"True posterior theta = {true_post_theta}\")\n",
    "print(f\"True posterior gamma = {true_post_mean_gamma}\")\n"
   ],
   "metadata": {
    "collapsed": false,
    "pycharm": {
     "name": "#%%\n"
    }
   }
  },
  {
   "cell_type": "code",
   "execution_count": 5,
   "outputs": [],
   "source": [
    "# Run the nested sampling\n",
    "ns = NestedSampler(loglikelihood=log_likelihood,\n",
    "                   prior_chain=prior_chain)\n",
    "\n",
    "f = jit(ns)\n",
    "\n",
    "results = f(random.PRNGKey(3452345), num_live_points=1000)"
   ],
   "metadata": {
    "collapsed": false,
    "pycharm": {
     "name": "#%%\n"
    }
   }
  },
  {
   "cell_type": "code",
   "execution_count": 6,
   "outputs": [
    {
     "name": "stdout",
     "output_type": "stream",
     "text": [
      "--------\n",
      "Termination Conditions:\n",
      "Small remaining evidence\n",
      "--------\n",
      "# likelihood evals: 29254\n",
      "# samples: 987\n",
      "# likelihood evals / sample: 29.6\n",
      "--------\n",
      "logZ=-225.58 +- 0.19\n",
      "H=47.0\n",
      "ESS=160\n",
      "--------\n",
      "gamma: mean +- std.dev. | 10%ile / 50%ile / 90%ile | MAP est. | max(L) est.\n"
     ]
    },
    {
     "name": "stderr",
     "output_type": "stream",
     "text": [
      "WARNING[2022-03-03 16:04:33,329]: No handles with labels found to put in legend.\n"
     ]
    },
    {
     "name": "stdout",
     "output_type": "stream",
     "text": [
      "gamma: 10.1 +- 1.0 | 8.8 / 9.9 / 11.5 | 10.8 | 9.9\n",
      "--------\n"
     ]
    },
    {
     "data": {
      "text/plain": "<Figure size 576x720 with 5 Axes>",
      "image/png": "[encoded data removed]"
     },
     "metadata": {
      "needs_background": "light"
     },
     "output_type": "display_data"
    },
    {
     "data": {
      "text/plain": "<Figure size 288x288 with 1 Axes>",
      "image/png": "[encoded data removed]"
     },
     "metadata": {
      "needs_background": "light"
     },
     "output_type": "display_data"
    }
   ],
   "source": [
    "# Inspect results\n",
    "summary(results)\n",
    "plot_diagnostics(results)\n",
    "plot_cornerplot(results)"
   ],
   "metadata": {
    "collapsed": false,
    "pycharm": {
     "name": "#%%\n"
    }
   }
  },
  {
   "cell_type": "code",
   "execution_count": 7,
   "outputs": [
    {
     "data": {
      "text/plain": "<Figure size 432x288 with 1 Axes>",
      "image/png": "[encoded data removed]"
     },
     "metadata": {
      "needs_background": "light"
     },
     "output_type": "display_data"
    }
   ],
   "source": [
    "# Comparing samples to true posterior\n",
    "\n",
    "samples = resample(random.PRNGKey(43083245), results.samples, results.log_dp_mean, S=int(results.ESS))\n",
    "\n",
    "plt.hist(samples['gamma'], bins='auto', ec='blue', alpha=0.5, density=True, fc='none')\n",
    "\n",
    "_gamma = np.random.gamma(true_post_k, true_post_theta, size=100000)\n",
    "\n",
    "plt.hist(_gamma, bins='auto', ec='orange', alpha=0.5, density=True, fc='none')\n",
    "plt.show()"
   ],
   "metadata": {
    "collapsed": false,
    "pycharm": {
     "name": "#%%\n"
    }
   }
  },
  {
   "cell_type": "code",
   "execution_count": 7,
   "outputs": [],
   "source": [],
   "metadata": {
    "collapsed": false,
    "pycharm": {
     "name": "#%%\n"
    }
   }
  },
  {
   "cell_type": "code",
   "execution_count": null,
   "outputs": [],
   "source": [],
   "metadata": {
    "collapsed": false,
    "pycharm": {
     "name": "#%%\n"
    }
   }
  },
  {
   "cell_type": "code",
   "execution_count": null,
   "outputs": [],
   "source": [
    "\n",
    "samples = resample(random.PRNGKey(43083245), results.samples, results.log_dp_mean, S=int(results.ESS))\n",
    "\n",
    "plt.hist(samples['gamma'], bins='auto', ec='blue', alpha=0.5, density=True, fc='none')\n",
    "\n",
    "_gamma = np.random.gamma(true_post_k, true_post_theta, size=100000)\n",
    "\n",
    "plt.hist(_gamma, bins='auto', ec='orange', alpha=0.5, density=True, fc='none')\n",
    "plt.show()"
   ],
   "metadata": {
    "collapsed": false,
    "pycharm": {
     "name": "#%%\n"
    }
   }
  },
  {
   "cell_type": "code",
   "execution_count": null,
   "outputs": [],
   "source": [
    "\n",
    "summary(results)\n",
    "plot_diagnostics(results)\n",
    "plot_cornerplot(results)\n",
    "\n",
    "samples = resample(random.PRNGKey(43083245), results.samples, results.log_dp_mean, S=int(results.ESS))\n",
    "\n",
    "plt.hist(samples['gamma'], bins='auto', ec='blue', alpha=0.5, density=True, fc='none')\n",
    "\n",
    "_gamma = np.random.gamma(true_post_k, true_post_theta, size=100000)\n",
    "\n",
    "plt.hist(_gamma, bins='auto', ec='orange', alpha=0.5, density=True, fc='none')\n",
    "plt.show()"
   ],
   "metadata": {
    "collapsed": false,
    "pycharm": {
     "name": "#%%\n"
    }
   }
  },
  {
   "cell_type": "code",
   "execution_count": null,
   "outputs": [],
   "source": [
    "\n",
    "ns = NestedSampler(loglikelihood=log_likelihood,\n",
    "                   prior_chain=prior_chain,\n",
    "                   dynamic=True,\n",
    "                   sampler_kwargs=dict(midpoint_shrink=False))\n",
    "\n",
    "f = jit(ns)\n",
    "\n",
    "results = f(random.PRNGKey(3452345), terminate_evidence_uncert=1e-2, terminate_max_num_threads=20,\n",
    "            dynamic_kwargs=dict(f=0.7, G=0.))\n",
    "print(results.thread_stats)\n",
    "summary(results)\n",
    "\n",
    "plot_diagnostics(results)\n",
    "plot_cornerplot(results)\n",
    "\n",
    "samples = resample(random.PRNGKey(43083245), results.samples, results.log_dp_mean, S=int(results.ESS))\n",
    "\n",
    "plt.hist(samples['gamma'], bins='auto', ec='blue', alpha=0.5, density=True, fc='none')\n",
    "\n",
    "_gamma = np.random.gamma(true_post_k, true_post_theta, size=100000)\n",
    "\n",
    "plt.hist(_gamma, bins='auto', ec='orange', alpha=0.5, density=True, fc='none')\n",
    "plt.show()"
   ],
   "metadata": {
    "collapsed": false,
    "pycharm": {
     "name": "#%%\n"
    }
   }
  }
 ],
 "metadata": {
  "kernelspec": {
   "display_name": "Python 3",
   "language": "python",
   "name": "python3"
  },
  "language_info": {
   "codemirror_mode": {
    "name": "ipython",
    "version": 2
   },
   "file_extension": ".py",
   "mimetype": "text/x-python",
   "name": "python",
   "nbconvert_exporter": "python",
   "pygments_lexer": "ipython2",
   "version": "2.7.6"
  }
 },
 "nbformat": 4,
 "nbformat_minor": 0
}