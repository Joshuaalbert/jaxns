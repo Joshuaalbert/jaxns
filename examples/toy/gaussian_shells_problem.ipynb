{
 "cells": [
  {
   "cell_type": "markdown",
   "metadata": {
    "pycharm": {
     "name": "#%% md\n"
    }
   },
   "source": [
    "# Think Gaussian Shells with Uniform Prior\n",
    "\n",
    "This is a toy model shows how Nested Sampling easily handles likelihoods with multimodal behaviour.\n",
    "\n",
    "$L(x) = P(y | x) = \\log(e^{f(x,c_1,r_1,w_1)} + e^{f(x,c_2,r_2,w_2)}) $\n",
    "\n",
    "where $f(x,c,r,w) = -\\frac{1}{2 w^2}(|x - c| - r)^2 - \\log(\\sqrt(2 \\pi w^2))$\n",
    "\n",
    "and\n",
    "\n",
    "$P(x) = \\mathcal{U}[x \\mid -6, 6 \\pi]$.\n",
    "\n",
    "## Overview\n",
    "\n",
    "We'll cover the following topics:\n",
    "\n",
    "1. How to handle thin curving degeneracies and multimodal behaviour with JAXNS.\n",
    "2. How to use the `prior_chain` outside the nested sampler, e.g. to sample/plot.\n",
    "3. How to brute-force compute the evidence for comparison."
   ]
  },
  {
   "cell_type": "code",
   "execution_count": null,
   "metadata": {
    "pycharm": {
     "name": "#%%\n",
     "is_executing": true
    }
   },
   "outputs": [],
   "source": [
    "\n",
    "import pylab as plt\n",
    "import tensorflow_probability.substrates.jax as tfp\n",
    "from jax import jit, vmap\n",
    "from jax import random, numpy as jnp\n",
    "\n",
    "from jaxns import ExactNestedSampler\n",
    "from jaxns import Model\n",
    "from jaxns import PriorModelGen, Prior\n",
    "from jaxns import TerminationCondition\n",
    "from jaxns import analytic_log_evidence\n",
    "from jaxns import plot_cornerplot, plot_diagnostics\n",
    "from jaxns import summary\n",
    "from jaxns.internals.maps import prepare_func_args\n",
    "\n",
    "tfpd = tfp.distributions"
   ]
  },
  {
   "cell_type": "code",
   "execution_count": null,
   "metadata": {
    "pycharm": {
     "name": "#%%\n"
    }
   },
   "outputs": [],
   "source": [
    "\n",
    "def log_likelihood(theta):\n",
    "    def log_circ(theta, c, r, w):\n",
    "        return -0.5 * (jnp.linalg.norm(theta - c) - r) ** 2 / w ** 2 - jnp.log(jnp.sqrt(2 * jnp.pi * w ** 2))\n",
    "\n",
    "    w1 = w2 = jnp.array(0.1)\n",
    "    r1 = r2 = jnp.array(2.)\n",
    "    c1 = jnp.array([0., -3.])\n",
    "    c2 = jnp.array([0., 3.])\n",
    "    return jnp.logaddexp(log_circ(theta, c1, r1, w1), log_circ(theta, c2, r2, w2))\n",
    "\n",
    "\n",
    "def prior_model() -> PriorModelGen:\n",
    "    x = yield Prior(tfpd.Uniform(low=-6. * jnp.ones(2), high=6. * jnp.ones(2)), name='theta')\n",
    "    return x\n",
    "\n",
    "\n",
    "model = Model(prior_model=prior_model,\n",
    "              log_likelihood=log_likelihood)\n",
    "\n",
    "log_Z_true = analytic_log_evidence(model=model, S=250)\n",
    "print(f\"True log(Z)={log_Z_true}\")"
   ]
  },
  {
   "cell_type": "code",
   "execution_count": null,
   "metadata": {
    "pycharm": {
     "name": "#%%\n"
    }
   },
   "outputs": [],
   "source": [
    "theta = vmap(lambda key: model.transform(model.sample_U(key)))(\n",
    "    random.split(random.PRNGKey(0), 10000))\n",
    "# The `prepare_func_args(log_likelihood)` turns the log_likelihood into a function that nicely accepts **kwargs\n",
    "lik = vmap(lambda theta: prepare_func_args(log_likelihood)(**theta))(theta)\n",
    "sc = plt.scatter(theta['theta'][:, 0], theta['theta'][:, 1], c=jnp.exp(lik), cmap='bone', alpha=0.5)\n",
    "plt.colorbar(sc)\n",
    "plt.show()"
   ]
  },
  {
   "cell_type": "code",
   "execution_count": null,
   "metadata": {
    "pycharm": {
     "name": "#%%\n"
    }
   },
   "outputs": [],
   "source": [
    "\n",
    "\n",
    "# Create the nested sampler class. In this case without any tuning.\n",
    "ns = exact_ns = ExactNestedSampler(model=model, num_live_points=50, num_parallel_samplers=1,\n",
    "                                   max_samples=1000)\n",
    "\n",
    "termination_reason, state = exact_ns(random.PRNGKey(42),\n",
    "                                     term_cond=TerminationCondition(live_evidence_frac=1e-4))\n",
    "results = exact_ns.to_results(state, termination_reason)\n"
   ]
  },
  {
   "cell_type": "code",
   "execution_count": null,
   "metadata": {
    "pycharm": {
     "name": "#%%\n"
    }
   },
   "outputs": [],
   "source": [
    "# We can use the summary utility to display results\n",
    "summary(results)"
   ]
  },
  {
   "cell_type": "code",
   "execution_count": null,
   "metadata": {
    "pycharm": {
     "name": "#%%\n"
    }
   },
   "outputs": [],
   "source": [
    "# We plot useful diagnostics and a distribution cornerplot\n",
    "plot_diagnostics(results)\n",
    "plot_cornerplot(results)"
   ]
  }
 ],
 "metadata": {
  "kernelspec": {
   "display_name": "Python 3 (ipykernel)",
   "language": "python",
   "name": "python3"
  },
  "language_info": {
   "codemirror_mode": {
    "name": "ipython",
    "version": 3
   },
   "file_extension": ".py",
   "mimetype": "text/x-python",
   "name": "python",
   "nbconvert_exporter": "python",
   "pygments_lexer": "ipython3",
   "version": "3.9.12"
  }
 },
 "nbformat": 4,
 "nbformat_minor": 1
}